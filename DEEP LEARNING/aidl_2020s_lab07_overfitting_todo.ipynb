{
  "nbformat": 4,
  "nbformat_minor": 0,
  "metadata": {
    "colab": {
      "name": "aidl_2020s_lab07_overfitting_todo.ipynb",
      "provenance": [],
      "collapsed_sections": []
    },
    "kernelspec": {
      "name": "python3",
      "display_name": "Python 3"
    },
    "accelerator": "GPU"
  },
  "cells": [
    {
      "cell_type": "markdown",
      "metadata": {
        "id": "5G3_R4Rk_g0O"
      },
      "source": [
        "# Fighting Overfitting \n",
        "\n",
        "**Notebook created in PyTorch by [Santi Pascual](https://github.com/santi-pdp) for the [UPC School](https://www.talent.upc.edu/ing/estudis/formacio/curs/310400/postgrau-artificial-intelligence-deep-learning/) (2019).**"
      ]
    },
    {
      "cell_type": "markdown",
      "metadata": {
        "id": "dbaCSnLW_gKp"
      },
      "source": [
        "### Advice: Select the GPU Hardware Acceleration in the Runtime environment Menu to train the network fast."
      ]
    },
    {
      "cell_type": "markdown",
      "metadata": {
        "id": "xIlbdMD2_oA_"
      },
      "source": [
        "We will start replicating the imports, Dataset and training/evaluation routines from the last labs (MLPs and CNNs). Nonetheless, we will work with the [CIFAR-10 Dataset](https://www.cs.toronto.edu/~kriz/cifar.html). This dataset contains 50.000 training images of 10 classes and 10.000 test images. Does it sound familiar? Yes! MNIST follows a similar structure, but CIFAR contains natural images (planes, dogs, cars, ...) whereas MNIST has quite simplistic patterns that would not allow us to appreciate the challenges that appear when we transfer from training data to evaluation data. \n",
        "\n",
        "We will refer to evaluation data to the so called validation data. Typically we have two splits during model development and a final split to test it to report results. The former splits are training (obviously) and validation/evaluation. Validation is useful to check how our model performs out of the training corpus. If the model is good at both training and validation, then our model is prone to \"generalize\" to the test data (real world data). If our model is very good at training and very bad at validation... well you will see later on in this lab the concept... but obviously the model must be changed to get better at validation data as well as training data. Once all this development is done and we match the performance on both splits, we can test the model with data that is non-related at all to the training process.\n",
        "\n",
        "**NOTE:** in this lab we do not have test data. We consider the CIFAR test split as our validation set to check how model changes affect generalization. Do not let this misguide you. This is just for learning purposes. So we emulate the validation set with the CIFAR test set for convenience only, do not forget."
      ]
    },
    {
      "cell_type": "code",
      "metadata": {
        "id": "E9AiP2az_ioy"
      },
      "source": [
        "import numpy as np\n",
        "SEED = 1\n",
        "np.random.seed(SEED)\n",
        "import torch\n",
        "import torch.optim as optim\n",
        "torch.manual_seed(SEED)\n",
        "if torch.cuda.is_available():\n",
        "  torch.cuda.manual_seed_all(SEED)\n",
        "import torch.nn as nn\n",
        "import torch.nn.functional as F\n",
        "from torchvision import datasets, transforms\n",
        "import matplotlib\n",
        "%matplotlib inline\n",
        "import matplotlib.pyplot as plt\n",
        "from timeit import default_timer as timer\n",
        "import random\n",
        "random.seed(SEED)\n",
        "from random import shuffle"
      ],
      "execution_count": null,
      "outputs": []
    },
    {
      "cell_type": "markdown",
      "metadata": {
        "id": "Ma9PKiw5_uhq"
      },
      "source": [
        "### Defining the Hyper-parameters\n",
        "\n",
        "We now define the hyperparameters that are going to be used throughout the notebook\n",
        "to define the network, the data `batch_size`, the training `learning_rate`, and others."
      ]
    },
    {
      "cell_type": "code",
      "metadata": {
        "id": "VV8jGmga_vfV"
      },
      "source": [
        "# Let's define some hyper-parameters\n",
        "hparams = {\n",
        "    'batch_size':100,\n",
        "    'num_epochs':12,\n",
        "    'val_batch_size':100,\n",
        "    'num_classes':10,\n",
        "    'learning_rate':1e-3,\n",
        "    'log_interval':100,\n",
        "}\n",
        "\n",
        "# we select to work on GPU if it is available in the machine, otherwise\n",
        "# will run on CPU\n",
        "hparams['device'] = 'cuda' if torch.cuda.is_available() else 'cpu'\n",
        "\n",
        "# whenever we send something to the selected device (X.to(device)) we already use\n",
        "# either CPU or CUDA (GPU). Importantly...\n",
        "# The .to() operation is in-place for nn.Module's, so network.to(device) suffices\n",
        "# The .to() operation is NOT in.place for tensors, so we must assign the result\n",
        "# to some tensor, like: X = X.to(device)\n"
      ],
      "execution_count": null,
      "outputs": []
    },
    {
      "cell_type": "code",
      "metadata": {
        "id": "uUvo-TPx_wpM"
      },
      "source": [
        "transform = transforms.Compose(\n",
        "    [transforms.ToTensor(),\n",
        "     transforms.Normalize((0.5, 0.5, 0.5), (0.5, 0.5, 0.5))])\n",
        "\n",
        "trainset = datasets.CIFAR10('data', train=True, download=True,\n",
        "                            transform=transform)\n",
        "\n",
        "trainset.data = trainset.data[:10000]\n",
        "trainset.targets = trainset.targets[:10000]\n",
        "\n",
        "evalset = datasets.CIFAR10('data', train=False, \n",
        "                           transform=transform)\n",
        "\n",
        "train_loader = torch.utils.data.DataLoader(\n",
        "    trainset,\n",
        "    batch_size=hparams['batch_size'], \n",
        "    shuffle=True)\n",
        "\n",
        "eval_loader = torch.utils.data.DataLoader(\n",
        "    evalset,\n",
        "    batch_size=hparams['val_batch_size'], \n",
        "    shuffle=False)"
      ],
      "execution_count": null,
      "outputs": []
    },
    {
      "cell_type": "code",
      "metadata": {
        "id": "qJ0y64vM_yE6"
      },
      "source": [
        "# We can retrieve a sample from the dataset by simply indexing it\n",
        "img, label = trainset[0]\n",
        "print('Img shape: ', img.shape)\n",
        "print('Label: ', label)\n",
        "\n",
        "# Similarly, we can sample a BATCH from the dataloader by running over its iterator\n",
        "iter_ = iter(train_loader)\n",
        "bimg, blabel = next(iter_)\n",
        "print('Batch Img shape: ', bimg.shape)\n",
        "print('Batch Label shape: ', blabel.shape)\n",
        "print('The Batched tensors return a collection of {} RGB images ({} channel, {} height pixels, {} width pixels)'.format(bimg.shape[0],\n",
        "                                                                                                                        bimg.shape[1],\n",
        "                                                                                                                        bimg.shape[2],\n",
        "                                                                                                                        bimg.shape[3]))\n",
        "print('In the case of the labels, we obtain {} batched integers, one per image'.format(blabel.shape[0]))"
      ],
      "execution_count": null,
      "outputs": []
    },
    {
      "cell_type": "markdown",
      "metadata": {
        "id": "xbNNX5rwh_cI"
      },
      "source": [
        "Let's make a small function to show some CIFAR10 example images. You can see the type of `32x32x3` images we are dealing with."
      ]
    },
    {
      "cell_type": "code",
      "metadata": {
        "id": "Orl1MnKGgFad"
      },
      "source": [
        "def plot_samples(images,N=5):\n",
        "    # Randomly select NxN images and save them in ps\n",
        "    ps = random.sample(range(0,images.shape[0]), N**2)\n",
        "    # Allocates figure f divided in subplots contained in an NxN axarr\n",
        "    # https://matplotlib.org/3.1.0/api/_as_gen/matplotlib.pyplot.subplots.html\n",
        "    f, axarr = plt.subplots(N, N)\n",
        "    # Index for the images in ps to be plotted\n",
        "    p = 0\n",
        "    # Scan the NxN positions of the grid\n",
        "    for i in range(N):\n",
        "        for j in range(N):\n",
        "          \n",
        "            # Load the image pointed by p\n",
        "            im = images[ps[p]].transpose(1,2,0)\n",
        "            axarr[i,j].imshow(im)\n",
        "            # Remove axis\n",
        "            axarr[i,j].axis('off')\n",
        "            # Point to the next image from the random selection\n",
        "            p+=1\n",
        "    # Show the plotted figure         \n",
        "    plt.show()\n",
        "\n",
        "#make a toy CIFAR sampleset without normalization for the sake of visualizing\n",
        "# some samples\n",
        "sampleset = datasets.CIFAR10('data', train=True, download=True, \n",
        "                             transform=transforms.Compose([\n",
        "                                 transforms.ToTensor()\n",
        "                             ]))\n",
        "img = []\n",
        "for n in range(50):\n",
        "  img.append(sampleset[n][0][None, ...])\n",
        "img = torch.cat(img, dim=0).data.numpy()\n",
        "plot_samples(np.array(img))"
      ],
      "execution_count": null,
      "outputs": []
    },
    {
      "cell_type": "markdown",
      "metadata": {
        "id": "VA0ygPzoq6-2"
      },
      "source": [
        "Now let's define the training and evaluation functions, which will be called later to train different models."
      ]
    },
    {
      "cell_type": "code",
      "metadata": {
        "id": "9OSyAxJwP8if"
      },
      "source": [
        "def correct_predictions(predicted_batch, label_batch):\n",
        "  pred = predicted_batch.argmax(dim=1, keepdim=True) # get the index of the max log-probability\n",
        "  acum = pred.eq(label_batch.view_as(pred)).sum().item()\n",
        "  return acum\n",
        "\n",
        "def train_epoch(train_loader, network, optimizer, criterion, hparams, epoch):\n",
        "  # Activate the train=True flag inside the model\n",
        "  network.train()\n",
        "  device = hparams['device']\n",
        "  losses = []\n",
        "  accs = []\n",
        "  for batch_idx, (data, target) in enumerate(train_loader, 1):\n",
        "      data, target = data.to(device), target.to(device)\n",
        "      optimizer.zero_grad()\n",
        "      output = network(data)\n",
        "      loss = criterion(output, target)\n",
        "      loss.backward()\n",
        "      acc = 100 * (correct_predictions(output, target) / data.shape[0])\n",
        "      losses.append(loss.item())\n",
        "      accs.append(acc)\n",
        "      optimizer.step()\n",
        "      if batch_idx % hparams['log_interval'] == 0 or batch_idx >= len(train_loader):\n",
        "          print('Train Epoch: {} [{}/{} ({:.0f}%)]\\tLoss: {:.6f}\\tAcc: {:.1f}'.format(\n",
        "              epoch, batch_idx * len(data), len(train_loader.dataset),\n",
        "              100. * batch_idx / len(train_loader), loss.item(),\n",
        "              acc))\n",
        "  return np.mean(losses), np.mean(accs)\n",
        "\n",
        "def eval_epoch(val_loader, network, criterion, hparams):\n",
        "    network.eval()\n",
        "    device = hparams['device']\n",
        "    eval_loss = 0\n",
        "    acc = 0\n",
        "    with torch.no_grad():\n",
        "        for data, target in eval_loader:\n",
        "            data, target = data.to(device), target.to(device)\n",
        "            output = network(data)\n",
        "            eval_loss += criterion(output, target, reduction='sum').item() # sum up batch loss\n",
        "            # compute number of correct predictions in the batch\n",
        "            acc += correct_predictions(output, target)\n",
        "    # Average acc across all correct predictions batches now\n",
        "    eval_loss /= len(eval_loader.dataset)\n",
        "    eval_acc = 100. * acc / len(eval_loader.dataset)\n",
        "    print('Eval set: Average loss: {:.4f}, Accuracy: {}/{} ({:.0f}%)'.format(\n",
        "        eval_loss, acc, len(eval_loader.dataset), eval_acc,\n",
        "        ))\n",
        "    return eval_loss, eval_acc\n",
        "\n",
        "def train_net(network, train_loader, optimizer, num_epochs, plot=True):\n",
        "  \"\"\" Function that trains and evals a network for num_epochs,\n",
        "      showing the plot of losses and accs and returning them.\n",
        "  \"\"\"\n",
        "  tr_losses = []\n",
        "  tr_accs = []\n",
        "  te_losses = []\n",
        "  te_accs = []\n",
        "\n",
        "  network.to(hparams['device'])\n",
        "  criterion = F.nll_loss\n",
        "\n",
        "  for epoch in range(1, num_epochs + 1):\n",
        "    tr_loss, tr_acc = train_epoch(train_loader, network, optimizer, criterion, hparams, epoch)\n",
        "    te_loss, te_acc = eval_epoch(eval_loader, network, criterion, hparams)\n",
        "    te_losses.append(te_loss)\n",
        "    te_accs.append(te_acc)\n",
        "    tr_losses.append(tr_loss)\n",
        "    tr_accs.append(tr_acc)\n",
        "  rets = {'tr_losses':tr_losses, 'te_losses':te_losses,\n",
        "          'tr_accs':tr_accs, 'te_accs':te_accs}\n",
        "  if plot:\n",
        "    plt.figure(figsize=(10, 8))\n",
        "    plt.subplot(2,1,1)\n",
        "    plt.xlabel('Epoch')\n",
        "    plt.ylabel('NLLLoss')\n",
        "    plt.plot(tr_losses, label='train')\n",
        "    plt.plot(te_losses, label='eval')\n",
        "    plt.legend()\n",
        "    plt.subplot(2,1,2)\n",
        "    plt.xlabel('Epoch')\n",
        "    plt.ylabel('Eval Accuracy [%]')\n",
        "    plt.plot(tr_accs, label='train')\n",
        "    plt.plot(te_accs, label='eval')\n",
        "    plt.legend()\n",
        "  return rets"
      ],
      "execution_count": null,
      "outputs": []
    },
    {
      "cell_type": "markdown",
      "metadata": {
        "id": "q_ZCpq7SqlA9"
      },
      "source": [
        "We now define a `ConvBlock` layer that is composed by a convolution, a relu and the possibility to do a striding > 1. If we `stride > 1`, as commented in the previous lab about `CNN` classification, we perform a spatial decimation (hence we downsample the feature map resolution). This increases speed, reduces memory usage and condenses spatial features into non-spatial-but-abstract ones."
      ]
    },
    {
      "cell_type": "code",
      "metadata": {
        "id": "pRzUxuJ6qkk4"
      },
      "source": [
        "class ConvBlock(nn.Module):\n",
        "\n",
        "  def __init__(self, num_inp_channels, num_out_fmaps, \n",
        "               kernel_size, stride=1):\n",
        "    super().__init__()\n",
        "    self.kernel_size = kernel_size\n",
        "    self.stride = stride\n",
        "    self.conv = nn.Conv2d(num_inp_channels, num_out_fmaps, kernel_size,\n",
        "                          stride=stride)\n",
        "    self.relu = nn.ReLU(inplace=True)\n",
        "  \n",
        "  def forward(self, x):\n",
        "    P_ = self.kernel_size // 2\n",
        "    if self.stride > 1:\n",
        "      P = (P_ - 1, P_, P_  - 1, P_ )\n",
        "    else:\n",
        "      P = (P_, P_, P_, P_)\n",
        "    x = self.conv(F.pad(x, P, mode='constant'))\n",
        "    return self.relu(x)"
      ],
      "execution_count": null,
      "outputs": []
    },
    {
      "cell_type": "markdown",
      "metadata": {
        "id": "4QDUS6RlrI3k"
      },
      "source": [
        "We now define a helper function that tells us the amount of parameters contained in our model. This will help us understand possible issues of our design in terms of model magnitude."
      ]
    },
    {
      "cell_type": "code",
      "metadata": {
        "id": "IrtgfK2yrSfM"
      },
      "source": [
        "def model_params(model):\n",
        "    # from: https://discuss.pytorch.org/t/how-do-i-check-the-number-of-parameters-of-a-model/4325/6\n",
        "    pp=0\n",
        "    for p in list(model.parameters()):\n",
        "        nn=1\n",
        "        for s in list(p.size()):\n",
        "            nn = nn*s\n",
        "        pp += nn\n",
        "    return pp"
      ],
      "execution_count": null,
      "outputs": []
    },
    {
      "cell_type": "markdown",
      "metadata": {
        "id": "kFBq8zFbrFAY"
      },
      "source": [
        "### Our Model Design\n",
        "\n",
        "We will work with a `CNN` for obvious reasons: image data. In this case note that our number of input channels are 3 because CIFAR has RGB format, not greyscale as with MNIST. Also, we define a deep network with 4 convolutional layers and a simple `MLP` on top that builds the classifier."
      ]
    },
    {
      "cell_type": "code",
      "metadata": {
        "id": "J4yJ-BbnQFR8"
      },
      "source": [
        "class BigNet(nn.Module):\n",
        "\n",
        "  def __init__(self):\n",
        "    super().__init__()\n",
        "    self.conv1 = ConvBlock(3, 512, 3, stride=4)\n",
        "    self.conv2 = ConvBlock(512, 1024, 3, stride=4)\n",
        "    self.mlp = nn.Sequential(\n",
        "        nn.Linear(1024 * 2 * 2, 1024),\n",
        "        nn.ReLU(inplace=True),\n",
        "        nn.Linear(1024, hparams['num_classes']),\n",
        "        nn.LogSoftmax(dim=-1)\n",
        "    )\n",
        "\n",
        "  def forward(self, x):\n",
        "    x = self.conv1(x)\n",
        "    x = self.conv2(x)\n",
        "    bsz, nch, height, width = x.shape\n",
        "    x = x.view(bsz, -1)\n",
        "    y = self.mlp(x)\n",
        "    return y"
      ],
      "execution_count": null,
      "outputs": []
    },
    {
      "cell_type": "code",
      "metadata": {
        "id": "dSTz2lMpP-WS"
      },
      "source": [
        "bignet = BigNet()\n",
        "# let's check the num of params\n",
        "nparams = model_params(bignet)\n",
        "print('BigNet number of params: ', nparams)\n",
        "optimizer = optim.Adam(bignet.parameters(), lr=hparams['learning_rate'])"
      ],
      "execution_count": null,
      "outputs": []
    },
    {
      "cell_type": "markdown",
      "metadata": {
        "id": "2lNnffigtewe"
      },
      "source": [
        "Our model has approximately 9M params, not bad honestly (but not as large as many models nowadays). Nonetheless, it will serve our purpose to see the mismatching fit between train and eval sets."
      ]
    },
    {
      "cell_type": "code",
      "metadata": {
        "id": "nUaKwEjA_zbd"
      },
      "source": [
        "bigmodel_log = train_net(bignet, train_loader, optimizer, hparams['num_epochs'])\n"
      ],
      "execution_count": null,
      "outputs": []
    },
    {
      "cell_type": "markdown",
      "metadata": {
        "id": "8Ib0YzMDu44k"
      },
      "source": [
        "The blue lines reflect the training loss and accuracy, while the orange lines are the evaluation (or validaton) loss and accuracy. Note that your own results may vary slightly due to a different random initialization of your network.\n",
        "\n",
        "As you can see, the training loss decreases with every epoch and the training accuracy increases with every epoch. That's what you would expect when running gradient descent optimization -- the quantity you are trying to minimize should get lower with every iteration. But that isn't the case for the validation loss and accuracy: they seem to peak at the fourth epoch. This is an example of what we were warning against earlier: a model that performs better on the training data isn't necessarily a model that will do better on data it has never seen before. In precise terms, what you are seeing is \"overfitting\": after the second epoch, we are over-optimizing on the training data, and we ended up learning representations that are specific to the training data and do not generalize to data outside of the training set.\n",
        "\n",
        "In this case, to prevent overfitting, we could simply stop training after three epochs. In general, there is a range of techniques you can leverage to mitigate overfitting"
      ]
    },
    {
      "cell_type": "markdown",
      "metadata": {
        "id": "MuFF3v5jtxdX"
      },
      "source": [
        "## Overfitting and underfitting\n",
        "\n",
        "When training networks, we can notice that the performance of our model on the validation data would always peak after a few epochs and would then start degrading, i.e. our model would quickly start to overfit to the training data. Overfitting happens in every single machine learning problem. Learning how to deal with overfitting is essential to mastering machine learning.\n",
        "\n",
        "The fundamental issue in machine learning is the tension between optimization and generalization. \"Optimization\" refers to the process of adjusting a model to get the best performance possible on the training data (the \"learning\" in \"machine learning\"), while \"generalization\" refers to how well the trained model would perform on data it has never seen before. The goal of the game is to get good generalization, of course, but you do not control generalization; you can only adjust the model based on its training data.\n",
        "\n",
        "At the beginning of training, optimization and generalization are correlated: the lower your loss on training data, the lower your loss on test data. While this is happening, your model is said to be under-fit: there is still progress to be made; the network hasn't yet modeled all relevant patterns in the training data. But after a certain number of iterations on the training data, generalization stops improving, validation metrics stall then start degrading: the model is then starting to over-fit, i.e. is it starting to learn patterns that are specific to the training data but that are misleading or irrelevant when it comes to new data.\n",
        "\n",
        "To prevent a model from learning misleading or irrelevant patterns found in the training data, the best solution is of course to get more training data. A model trained on more data will naturally generalize better. When that is no longer possible, the next best solution is to modulate the quantity of information that your model is allowed to store, or to add constraints on what information it is allowed to store. If a network can only afford to memorize a small number of patterns, the optimization process will force it to focus on the most prominent patterns, which have a better chance of generalizing well.\n",
        "\n",
        "The processing of fighting overfitting in this way is called regularization. Let's review some of the most common regularization techniques, and let's apply them in practice to improve our movie classification model."
      ]
    },
    {
      "cell_type": "markdown",
      "metadata": {
        "id": "8TqkpnR7uNFI"
      },
      "source": [
        "## Fighting overfitting\n",
        "\n",
        "### Reducing the network's size\n",
        "\n",
        "The simplest way to prevent overfitting is to reduce the size of the model, i.e. the number of learnable parameters in the model (which is determined by the number of layers and the number of units per layer). In deep learning, the number of learnable parameters in a model is often referred to as the model's \"capacity\". Intuitively, a model with more parameters will have more \"memorization capacity\" and therefore will be able to easily learn a perfect dictionary-like mapping between training samples and their targets, a mapping without any generalization power. For instance, a model with 500,000 binary parameters could easily be made to learn the class of every digits in the MNIST training set: we would only need 10 binary parameters for each of the 50,000 digits. Such a model would be useless for classifying new digit samples. Always keep this in mind: deep learning models tend to be good at fitting to the training data, **but the real challenge is generalization, not fitting**.\n",
        "\n",
        "On the other hand, if the network has limited memorization resources, it will not be able to learn this mapping as easily, and thus, in order to minimize its loss, it will have to resort to learning compressed representations that have predictive power regarding the targets -- precisely the type of representations that we are interested in. At the same time, keep in mind that **you should be using models that have enough parameters that they won't be underfitting: your model shouldn't be starved for memorization resources**. There is a compromise to be found between \"too much capacity\" and \"not enough capacity\".\n",
        "\n",
        "Unfortunately, there is no magical formula to determine what the right number of layers is, or what the right size for each layer is. You will have to evaluate an array of different architectures (on your validation set, not on your test set, of course) in order to find the right model size for your data. The general workflow to find an appropriate model size is to start with relatively few layers and parameters, and start increasing the size of the layers or adding new layers until you see diminishing returns with regard to the validation loss.\n",
        "\n",
        "Let's try to reduce our original network size with the following design:"
      ]
    },
    {
      "cell_type": "code",
      "metadata": {
        "id": "43GRzQ2zbMMX"
      },
      "source": [
        "class SmallNet(BigNet):\n",
        "\n",
        "  def __init__(self):\n",
        "    super().__init__()\n",
        "    self.conv1 = ConvBlock(3, 128, 3, stride=4)\n",
        "    self.conv2 = ConvBlock(128, 256, 3, stride=4)\n",
        "    self.mlp = nn.Sequential(\n",
        "        nn.Linear(256 * 2 * 2, 512),\n",
        "        nn.ReLU(inplace=True),\n",
        "        nn.Linear(512, hparams['num_classes']),\n",
        "        nn.LogSoftmax(dim=-1)\n",
        "    )\n",
        "    "
      ],
      "execution_count": null,
      "outputs": []
    },
    {
      "cell_type": "code",
      "metadata": {
        "id": "-8DPGZbiScs5"
      },
      "source": [
        "smallnet = SmallNet()\n",
        "# let's check the num of params\n",
        "nparams = model_params(smallnet)\n",
        "print('SmallNet number of params: ', nparams)\n",
        "optimizer = optim.Adam(smallnet.parameters(), lr=hparams['learning_rate'])"
      ],
      "execution_count": null,
      "outputs": []
    },
    {
      "cell_type": "code",
      "metadata": {
        "id": "l1wT-qtbbVVZ"
      },
      "source": [
        "smallmodel_log = train_net(smallnet, train_loader, optimizer, hparams['num_epochs'])"
      ],
      "execution_count": null,
      "outputs": []
    },
    {
      "cell_type": "markdown",
      "metadata": {
        "id": "24-6s7cDw3eP"
      },
      "source": [
        "Let's plot the overlay of both networks."
      ]
    },
    {
      "cell_type": "code",
      "metadata": {
        "id": "chfB_4KqwgJt"
      },
      "source": [
        "plt.figure(figsize=(10, 8))\n",
        "plt.subplot(2,1,1)\n",
        "plt.plot(bigmodel_log['te_losses'], label='bigmodel')\n",
        "plt.plot(smallmodel_log['te_losses'], label='bigmodel')\n",
        "plt.xlabel('Epoch')\n",
        "plt.ylabel('Eval Loss')\n",
        "plt.subplot(2,1,2)\n",
        "plt.plot(bigmodel_log['te_accs'], label='bigmodel')\n",
        "plt.plot(smallmodel_log['te_accs'], label='bigmodel')\n",
        "plt.xlabel('Epoch')\n",
        "plt.ylabel('Eval Accs')"
      ],
      "execution_count": null,
      "outputs": []
    },
    {
      "cell_type": "markdown",
      "metadata": {
        "id": "astnI-qrzV5X"
      },
      "source": [
        "As you can see, the smaller network starts overfitting later than the reference one (after 6 epochs rather than 4) and its performance degrades much more slowly once it starts overfitting. In terms of accuracy, however, there is not much difference, and can even get a bit worse (depending on the seed). In general, reducing the network size is a viable strategy but might no be a good one, as we might be impeding a needed set of parameters by the model that we can instead \"guide\" to learn in a better way. In other words, reducing the model size can lead to capacity limitation, so that the model overfits slowly but reaches worse quotas. On the other hand, regularizing the big model might also slow down overfitting appearance, and reach better quotas than both the small model and the big non-regularized one."
      ]
    },
    {
      "cell_type": "markdown",
      "metadata": {
        "id": "kc-3O_FVzvEp"
      },
      "source": [
        "##Exercise 1: Adding L2 weight regularization\n",
        "\n",
        "You may be familiar with Occam's Razor principle: given two explanations for something, the explanation most likely to be correct is the \"simplest\" one, the one that makes the least amount of assumptions. This also applies to the models learned by neural networks: given some training data and a network architecture, there are multiple sets of weights values (multiple models) that could explain the data, and simpler models are less likely to overfit than complex ones.\n",
        "\n",
        "A \"simple model\" in this context is a model where the distribution of parameter values has less entropy (or a model with fewer parameters altogether, as we saw in the section above). Thus a common way to mitigate overfitting is to put constraints on the complexity of a network by forcing its weights to only take small values, which makes the distribution of weight values more \"regular\". This is called \"weight regularization\", and it is done by adding to the loss function of the network a cost associated with having large weights. This cost comes in two flavors:\n",
        "\n",
        "* L1 regularization, where the cost added is proportional to the absolute value of the weights coefficients (i.e. to what is called the \"L1 norm\" of the weights).\n",
        "* L2 regularization, where the cost added is proportional to the square of the value of the weights coefficients (i.e. to what is called the \"L2 norm\" of the weights). L2 regularization is also called weight decay in the context of neural networks. Don't let the different name confuse you: weight decay is mathematically the exact same as L2 regularization.\n",
        "\n",
        "\n",
        "**TO DO:** In PyTorch, L2 weight regularization is added by controling the weight decay argument in the optimizer once this is built. Check the docs about the `Adam` optimizer and add build a `BigNet` where a `weight_decay` of 0.001 is applied (https://pytorch.org/docs/stable/optim.html#torch.optim.Adam). Then, train the model following the `train_net` function call, returning the value to the `bigmodel_l2_log` dictionary."
      ]
    },
    {
      "cell_type": "code",
      "metadata": {
        "id": "ROWwc9dVzGA8"
      },
      "source": [
        "# TO DO\n",
        "bignet = TODO\n",
        "optimizer = TODO\n",
        "bigmodel_l2_log = TODO"
      ],
      "execution_count": null,
      "outputs": []
    },
    {
      "cell_type": "code",
      "metadata": {
        "id": "Rj5lYR8D0V6m"
      },
      "source": [
        "plt.figure(figsize=(10, 8))\n",
        "plt.subplot(2,1,1)\n",
        "plt.plot(bigmodel_log['te_losses'], label='bigmodel')\n",
        "plt.plot(smallmodel_log['te_losses'], label='smallmodel')\n",
        "plt.plot(bigmodel_l2_log['te_losses'], label='bigmodel L2')\n",
        "plt.xlabel('Epoch')\n",
        "plt.ylabel('Eval Loss')\n",
        "plt.subplot(2,1,2)\n",
        "plt.plot(bigmodel_log['te_accs'], label='bigmodel')\n",
        "plt.plot(smallmodel_log['te_accs'], label='smallmodel')\n",
        "plt.plot(bigmodel_l2_log['te_accs'], label='bigmodel L2')\n",
        "plt.xlabel('Epoch')\n",
        "plt.ylabel('Eval Accs')"
      ],
      "execution_count": null,
      "outputs": []
    },
    {
      "cell_type": "markdown",
      "metadata": {
        "id": "flidGvZ52Fvi"
      },
      "source": [
        "As you can see, the model with L2 regularization (green) has become much more resistant to overfitting than the other two previous models (big and small). Actually, its robustness to overfitting is even better than that of the small model without regularization!"
      ]
    },
    {
      "cell_type": "markdown",
      "metadata": {
        "id": "gQ2aYPZG1qDi"
      },
      "source": [
        "## Exercise 2: Adding dropout\n",
        "\n",
        "Dropout is one of the most effective and most commonly used regularization techniques for neural networks, developed by Hinton and his students at the University of Toronto. Dropout, applied to a layer, consists of randomly \"dropping out\" (i.e. setting to zero) a number of output features of the layer during training. Let's say a given layer would normally have returned a vector [0.2, 0.5, 1.3, 0.8, 1.1] for a given input sample during training; after applying dropout, this vector will have a few zero entries distributed at random, e.g. [0, 0.5, 1.3, 0, 1.1]. The \"dropout rate\" is the fraction of the features that are being zeroed-out; it is usually set between 0.2 and 0.5. At test time, no units are dropped out, and instead the layer's output values are scaled down by a factor equal to the dropout rate, so as to balance for the fact that more units are active than at training time.\n",
        "\n",
        "This technique may seem strange and arbitrary. Why would this help reduce overfitting? Geoff Hinton has said that he was inspired, among other things, by a fraud prevention mechanism used by banks -- in his own words: \"I went to my bank. The tellers kept changing and I asked one of them why. He said he didn’t know but they got moved around a lot. I figured it must be because it would require cooperation between employees to successfully defraud the bank. This made me realize that randomly removing a different subset of neurons on each example would prevent conspiracies and thus reduce overfitting\".\n",
        "\n",
        "The core idea is that introducing noise in the output values of a layer can break up happenstance patterns that are not significant (what Hinton refers to as \"conspiracies\"), which the network would start memorizing if no noise was present.\n",
        "\n",
        "**TO DO:**In PyTorch you can introduce dropout in a network via the Dropout layer, which gets applied to the output of layer right before it, e.g.:\n",
        "\n",
        "`nn.Dropout(0.5)`. Make a `BigNetDropout` class that has the same network structure as in `BigNet`, and contains dropouts between each `ConvBlock` and in the middle of the `mlp` sub-network. The class has to accept an argument `dropout` that controls the amount of `Dropout` of the aforementioned layers."
      ]
    },
    {
      "cell_type": "code",
      "metadata": {
        "id": "Oqq7sSa71H9m"
      },
      "source": [
        "# TO DO\n",
        "class BigNetDropout(nn.Module):\n",
        "\n",
        "  def __init__(self, dropout):\n",
        "    super().__init__()\n",
        "    TODO\n",
        "\n",
        "  def forward(self, x):\n",
        "    TODO"
      ],
      "execution_count": null,
      "outputs": []
    },
    {
      "cell_type": "markdown",
      "metadata": {
        "id": "KaeWr5QyDLy-"
      },
      "source": [
        "**TO DO:** Once the dropout model is defined, build an instance of it and train it, storing its results in `bigmodel_dout_log`. Use the dropout factor defined below."
      ]
    },
    {
      "cell_type": "code",
      "metadata": {
        "id": "6HdwDBpg2XG2"
      },
      "source": [
        "dropout = 0.5\n",
        "# TO DO\n",
        "bignet = TODO\n",
        "optimizer = TODO\n",
        "bigmodel_dout_log = TODO"
      ],
      "execution_count": null,
      "outputs": []
    },
    {
      "cell_type": "code",
      "metadata": {
        "id": "6xKnfdGK2im8"
      },
      "source": [
        "plt.figure(figsize=(10, 8))\n",
        "plt.subplot(2,1,1)\n",
        "plt.plot(bigmodel_log['te_losses'], label='bigmodel')\n",
        "plt.plot(smallmodel_log['te_losses'], label='smallmodel')\n",
        "plt.plot(bigmodel_l2_log['te_losses'], label='bigmodel L2')\n",
        "plt.plot(bigmodel_dout_log['te_losses'], label='bigmodel Dropout')\n",
        "plt.legend()\n",
        "plt.xlabel('Epoch')\n",
        "plt.ylabel('Eval Loss')\n",
        "plt.subplot(2,1,2)\n",
        "plt.plot(bigmodel_log['te_accs'], label='bigmodel')\n",
        "plt.plot(smallmodel_log['te_accs'], label='smallmodel')\n",
        "plt.plot(bigmodel_l2_log['te_accs'], label='bigmodel L2')\n",
        "plt.plot(bigmodel_dout_log['te_accs'], label='bigmodel Dropout')\n",
        "plt.legend()\n",
        "plt.xlabel('Epoch')\n",
        "_ = plt.ylabel('Eval Accs')"
      ],
      "execution_count": null,
      "outputs": []
    },
    {
      "cell_type": "markdown",
      "metadata": {
        "id": "BDJHYVTuDQ94"
      },
      "source": [
        "We effectively reduced a lot the overfitting, and we cannot even notice it appearing anymore at least for the first 12 epochs. It also seems to yield a better trend in the evaluation accuracy, that seems to have an uprising trend. Something interesting to see, though, is the performance of training losses and accuracy, too...\n"
      ]
    },
    {
      "cell_type": "code",
      "metadata": {
        "id": "C_29uYye3QEX"
      },
      "source": [
        "plt.figure(figsize=(10, 8))\n",
        "plt.subplot(2,1,1)\n",
        "plt.plot(bigmodel_log['tr_losses'], label='bigmodel')\n",
        "plt.plot(smallmodel_log['tr_losses'], label='smallmodel')\n",
        "plt.plot(bigmodel_l2_log['tr_losses'], label='bigmodel L2')\n",
        "plt.plot(bigmodel_dout_log['tr_losses'], label='bigmodel Dropout')\n",
        "plt.legend()\n",
        "plt.xlabel('Epoch')\n",
        "plt.ylabel('Train Loss')\n",
        "plt.subplot(2,1,2)\n",
        "plt.plot(bigmodel_log['tr_accs'], label='bigmodel')\n",
        "plt.plot(smallmodel_log['tr_accs'], label='smallmodel')\n",
        "plt.plot(bigmodel_l2_log['tr_accs'], label='bigmodel L2')\n",
        "plt.plot(bigmodel_dout_log['tr_accs'], label='bigmodel Dropout')\n",
        "plt.legend()\n",
        "plt.xlabel('Epoch')\n",
        "_ = plt.ylabel('Train Accs')"
      ],
      "execution_count": null,
      "outputs": []
    },
    {
      "cell_type": "markdown",
      "metadata": {
        "id": "h_oXlovuDm0_"
      },
      "source": [
        "WHOA! So it looks like the dropout model does really badly. In fact, there is a decreasing performance trend for both loss and accuracy for each ragularization method we introduced. Well, actually this is what we wanted to achieve: our model has to be as good in training as it is in validation. \n",
        "\n",
        "**Important Note:** Once we close the gap between training and validation, then we can tune our model to improve on both simultanously. We could for instance put more conv layers.. change the striding factors to less aggressive ones (e.g. 2 instead of 4). We could also add residual connections (something to see in advanced deep material). We could be using batch normalization layers. And we could do plenty of other stuff. But importantly, we could also **POUR IN MORE DATA**."
      ]
    },
    {
      "cell_type": "markdown",
      "metadata": {
        "id": "-gQUajxE5gXW"
      },
      "source": [
        "## Exercise 3: Grand Finale\n",
        "\n",
        "**Train the Big Model with Dropout on the whole CIFAR10 Dataset**, and then check the overlayed evaluation plots for the BigModel, the BigModel with Dropout, and this new BigModel with Dropout on the Big Trainset. To make the exercise follow the steps:\n",
        "\n",
        "1. Defining the CIFAR dataset per se in training mode (look at the beginning of the notebook), but do NOT trim the `.data` and `.targets` lists.\n",
        "2. Make the `DataLoader` out of the dataset.\n",
        "3. Build the big network as shown before, with its optimizer, and call the training routine shown above, storing the results in the `bigmodel_bigtrainset_dout_log` dictionary."
      ]
    },
    {
      "cell_type": "code",
      "metadata": {
        "id": "WaAuJT773oUG"
      },
      "source": [
        "# TO DO\n",
        "big_trainset = TODO\n",
        "\n",
        "big_loader = TODO\n",
        "\n",
        "bignet = TODO\n",
        "optimizer = TODO\n",
        "bigmodel_bigtrainset_dout_log = TODO\n",
        "\n"
      ],
      "execution_count": null,
      "outputs": []
    },
    {
      "cell_type": "code",
      "metadata": {
        "id": "d2VgK5Y-4V7B"
      },
      "source": [
        "plt.figure(figsize=(10, 8))\n",
        "plt.subplot(2,1,1)\n",
        "plt.plot(bigmodel_log['te_losses'], label='bigmodel')\n",
        "plt.plot(bigmodel_dout_log['te_losses'], label='bigmodel Dropout')\n",
        "plt.plot(bigmodel_bigtrainset_dout_log['te_losses'], label='bigmodel bigtrainset Dropout')\n",
        "plt.legend()\n",
        "plt.xlabel('Epoch')\n",
        "plt.ylabel('Train Loss')\n",
        "plt.subplot(2,1,2)\n",
        "plt.plot(bigmodel_log['te_accs'], label='bigmodel')\n",
        "plt.plot(bigmodel_dout_log['te_accs'], label='bigmodel Dropout')\n",
        "plt.plot(bigmodel_bigtrainset_dout_log['te_accs'], label='bigmodel bigtrainset Dropout')\n",
        "plt.legend()\n",
        "plt.xlabel('Epoch')\n",
        "_ = plt.ylabel('Train Accs')"
      ],
      "execution_count": null,
      "outputs": []
    },
    {
      "cell_type": "markdown",
      "metadata": {
        "id": "04nhXJ9yHBZC"
      },
      "source": [
        "To recap... here the most common ways to prevent overfitting in neural networks:\n",
        "\n",
        "* Reducing the capacity of the network.\n",
        "* Adding weight regularization.\n",
        "* Adding dropout.\n",
        "* Getting more training data."
      ]
    }
  ]
}