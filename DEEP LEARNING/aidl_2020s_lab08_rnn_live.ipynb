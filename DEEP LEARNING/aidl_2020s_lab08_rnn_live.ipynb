{
  "nbformat": 4,
  "nbformat_minor": 0,
  "metadata": {
    "colab": {
      "name": "aidl_2020s_lab08_rnn_live.ipynb",
      "provenance": []
    },
    "kernelspec": {
      "name": "python3",
      "display_name": "Python 3"
    }
  },
  "cells": [
    {
      "cell_type": "code",
      "metadata": {
        "id": "LMy6NdJynk4X"
      },
      "source": [
        ""
      ],
      "execution_count": null,
      "outputs": []
    },
    {
      "cell_type": "markdown",
      "metadata": {
        "id": "1WCBq3iCODrm"
      },
      "source": [
        "# RNN"
      ]
    },
    {
      "cell_type": "markdown",
      "metadata": {
        "id": "tuhOTXLkOC73"
      },
      "source": [
        "![rnn image](https://image.slidesharecdn.com/dlcvd2l6recurrentneuralnetworks-160802094750/95/deep-learning-for-computer-vision-recurrent-neural-networks-upc-2016-16-638.jpg?cb=1470131837)"
      ]
    },
    {
      "cell_type": "markdown",
      "metadata": {
        "id": "XiPhnGdwPg2l"
      },
      "source": [
        "$\\boldsymbol{h}_t = \\tanh(\\boldsymbol{W}\\boldsymbol{x}_t + \\boldsymbol{U}\\boldsymbol{h}_{t-1} + \\boldsymbol{b})$"
      ]
    },
    {
      "cell_type": "code",
      "metadata": {
        "id": "5YT1di0iODSL"
      },
      "source": [
        "import torch\n",
        "import torch.nn as nn\n",
        "import torch.nn.functional as F\n",
        "import numpy as np\n",
        "import torch.optim as optim\n",
        "import matplotlib.pyplot as plt\n",
        "\n",
        "torch.manual_seed(1)\n",
        "device = 'cpu'\n",
        "if torch.cuda.is_available():\n",
        "  device = 'cuda'\n",
        "  "
      ],
      "execution_count": null,
      "outputs": []
    },
    {
      "cell_type": "markdown",
      "metadata": {
        "id": "oKq4vmelOSnK"
      },
      "source": [
        "### Exercise 1: Building a recurrent neural layer\n",
        "\n",
        "In the next cell, we will define our own unidirectional RNN layer. The class `MyUnidirectionalRNN` must make use of `nn.Linear` layers to make the feed-forward and time projections, and use the `nn.Parameter` class to build the biases. Please build the recurrent neural component with the addition of the recurrent connections.\n"
      ]
    },
    {
      "cell_type": "code",
      "metadata": {
        "id": "EBcB5XC0OQky",
        "colab": {
          "base_uri": "https://localhost:8080/",
          "height": 34
        },
        "outputId": "d794a34e-a6e7-45db-eda4-8473a1e26e05"
      },
      "source": [
        "class MyUnidirectionalRNN(nn.Module):\n",
        "\n",
        "  def __init__(self, num_inputs, rnn_size=128):\n",
        "    super().__init__()\n",
        "\n",
        "    # Linear layers\n",
        "    # Define the input activation matrix W\n",
        "    self.W = nn.Linear(num_inputs, rnn_size, bias=False)\n",
        "    # TODO: Define the hidden activation matrix U\n",
        "    self.U = nn.Linear(rnn_size, rnn_size, bias=False)\n",
        "    \n",
        "    self.rnn_size = rnn_size\n",
        "    # Define the bias\n",
        "    self.b = nn.Parameter(torch.zeros(1, rnn_size))\n",
        "\n",
        "  def forward(self, x, state=None):\n",
        "    # Assuming x is of shape [batch_size, seq_len, num_feats]\n",
        "    seq_length = x.shape[1]\n",
        "    xs = torch.chunk(x, seq_length, dim=1)\n",
        "    hts = []\n",
        "    if state is None:\n",
        "      state = self.init_state(x.shape[0])\n",
        "    for xt in xs:\n",
        "      # turn x[t] into shape [batch_size, num_feats] to be projected\n",
        "      xt = xt.squeeze(1)\n",
        "      ct = self.W(xt)\n",
        "      ct = ct + self.U(state)\n",
        "      state = ct + self.b\n",
        "      # give the temporal dimension back to h[t] to be cated\n",
        "      hts.append(state.unsqueeze(1))\n",
        "    hts = torch.cat(hts, dim=1)\n",
        "    return hts\n",
        "\n",
        "  def init_state(self, batch_size):\n",
        "    return torch.zeros(batch_size, self.rnn_size)\n",
        "\n",
        "# To correctly assess the answer, we build an example RNN with 10 inputs and 32 neurons\n",
        "rnn = MyUnidirectionalRNN(10, 32)\n",
        "# Then we will forward some random sequences, each of length 15\n",
        "xt = torch.randn(5, 15, 10)\n",
        "# The returned tensor will be h[t]\n",
        "ht = rnn(xt)\n",
        "assert ht.shape[0] == 5 and ht.shape[1] == 15 and ht.shape[2] == 32, \\\n",
        "'Something went wrong within the RNN :('\n",
        "print('Success! Output shape: {} sequences, each of length {}, each '\\\n",
        "      'token with {} dims'.format(ht.shape[0], ht.shape[1], ht.shape[2]))"
      ],
      "execution_count": null,
      "outputs": [
        {
          "output_type": "stream",
          "text": [
            "Success! Output shape: 5 sequences, each of length 15, each token with 32 dims\n"
          ],
          "name": "stdout"
        }
      ]
    },
    {
      "cell_type": "code",
      "metadata": {
        "id": "PR4pxufqQh_a",
        "colab": {
          "base_uri": "https://localhost:8080/",
          "height": 34
        },
        "outputId": "66967a4a-386f-446b-b708-02a61b3a933e"
      },
      "source": [
        "x = torch.tensor([1, 2, 3, 4])\n",
        "torch.chunk(x, 4, dim=0)"
      ],
      "execution_count": null,
      "outputs": [
        {
          "output_type": "execute_result",
          "data": {
            "text/plain": [
              "(tensor([1]), tensor([2]), tensor([3]), tensor([4]))"
            ]
          },
          "metadata": {
            "tags": []
          },
          "execution_count": 3
        }
      ]
    },
    {
      "cell_type": "markdown",
      "metadata": {
        "id": "Pdg2gGGvSX-N"
      },
      "source": [
        "# PyTorch RNN"
      ]
    },
    {
      "cell_type": "code",
      "metadata": {
        "id": "rxk8p39zPyU9",
        "colab": {
          "base_uri": "https://localhost:8080/",
          "height": 34
        },
        "outputId": "4aa35273-6a00-4c34-d304-65774a2676ed"
      },
      "source": [
        "num_inputs = 10\n",
        "seq_length = 25\n",
        "batch_size = 5\n",
        "hidden_size = 128\n",
        "\n",
        "rnn1 = nn.RNN(num_inputs, hidden_size)\n",
        "rnn1"
      ],
      "execution_count": null,
      "outputs": [
        {
          "output_type": "execute_result",
          "data": {
            "text/plain": [
              "RNN(10, 128)"
            ]
          },
          "metadata": {
            "tags": []
          },
          "execution_count": 4
        }
      ]
    },
    {
      "cell_type": "code",
      "metadata": {
        "id": "14F03AHXShQB"
      },
      "source": [
        "xt = torch.randn(seq_length, batch_size, num_inputs)"
      ],
      "execution_count": null,
      "outputs": []
    },
    {
      "cell_type": "code",
      "metadata": {
        "id": "CQe4EZmISoKR"
      },
      "source": [
        "ht, state = rnn1(xt)"
      ],
      "execution_count": null,
      "outputs": []
    },
    {
      "cell_type": "code",
      "metadata": {
        "id": "hCPgKQ9hSsFV",
        "colab": {
          "base_uri": "https://localhost:8080/",
          "height": 52
        },
        "outputId": "18679693-112b-44db-9bde-a86148b6a370"
      },
      "source": [
        "print(f\"ht: {ht.shape}\")\n",
        "print(f\"state: {state.shape}\")"
      ],
      "execution_count": null,
      "outputs": [
        {
          "output_type": "stream",
          "text": [
            "ht: torch.Size([25, 5, 128])\n",
            "state: torch.Size([1, 5, 128])\n"
          ],
          "name": "stdout"
        }
      ]
    },
    {
      "cell_type": "markdown",
      "metadata": {
        "id": "6u-Cf-bBS8G6"
      },
      "source": [
        "#### OK STOP IT HERE, We've got to talk\n",
        "\n",
        "Think about how many things are happening in the previous cell. First, we define some hyper-parameters to define the input tensor shape and the RNN size. Then, we build one RNN layer. Then, we build random data. Finally, we forward the random data, and what is returned? Why does the input tensor `x` have that shape? Why is the RNN returning 2 output values?\n",
        "\n",
        "**First answer:** The input data to an RNN can be shaped in 2 formats: `batch_first=True` and `batch_first=False`. As its name indicates, when it is `False`, the `batch_size` dimension is not the first but the second one. Then which is the first one? The `sequence_length`. If we do not specify anything, by default `batch_first=False`, so the tensor $\\boldsymbol{x}_t$ must have the dimensions: [`seq_len`, `batch_size`, `num_feats`]. We normally use `batch_first=True` to couple the RNN easily with other layers like the `nn.Linear` one.\n",
        "\n",
        "### Exercise 2\n",
        "\n",
        "Find the second answer on \"**Why is the RNN returning 2 output values?**\". Understand what is the `state` output and answer: \"**what does it contain?**\". Your source of knowledge is in the following URL, where the outputs description for the `RNN` module is given: https://pytorch.org/docs/stable/nn.html#torch.nn.RNN\n"
      ]
    },
    {
      "cell_type": "code",
      "metadata": {
        "id": "c2DlLCg7Svaq",
        "colab": {
          "base_uri": "https://localhost:8080/",
          "height": 34
        },
        "outputId": "0805cddb-768b-4ff3-fe38-d76f204e4c45"
      },
      "source": [
        "torch.all(ht[-1] == state)\n"
      ],
      "execution_count": null,
      "outputs": [
        {
          "output_type": "execute_result",
          "data": {
            "text/plain": [
              "tensor(True)"
            ]
          },
          "metadata": {
            "tags": []
          },
          "execution_count": 8
        }
      ]
    },
    {
      "cell_type": "code",
      "metadata": {
        "id": "Oll87P-0T2tj",
        "colab": {
          "base_uri": "https://localhost:8080/",
          "height": 34
        },
        "outputId": "29ca59f9-e60d-4f57-9cc0-587dce51c0f9"
      },
      "source": [
        "rnn2 = nn.RNN(num_inputs, hidden_size, num_layers=2)\n",
        "rnn2"
      ],
      "execution_count": null,
      "outputs": [
        {
          "output_type": "execute_result",
          "data": {
            "text/plain": [
              "RNN(10, 128, num_layers=2)"
            ]
          },
          "metadata": {
            "tags": []
          },
          "execution_count": 9
        }
      ]
    },
    {
      "cell_type": "code",
      "metadata": {
        "id": "icSMBaFhULgG",
        "colab": {
          "base_uri": "https://localhost:8080/",
          "height": 52
        },
        "outputId": "513a5fb2-3a60-4a29-f450-f75ff7afde4e"
      },
      "source": [
        "output, hn = rnn2(xt)\n",
        "print(f\"output: {output.shape}\")\n",
        "print(f\"hn: {hn.shape}\")"
      ],
      "execution_count": null,
      "outputs": [
        {
          "output_type": "stream",
          "text": [
            "output: torch.Size([25, 5, 128])\n",
            "hn: torch.Size([2, 5, 128])\n"
          ],
          "name": "stdout"
        }
      ]
    },
    {
      "cell_type": "markdown",
      "metadata": {
        "id": "wfZJNL9LVuKd"
      },
      "source": [
        "### Exercise 3.1\n",
        "Build a **single bidirectional RNN layer** by completing the TODO in the code \n",
        "\n"
      ]
    },
    {
      "cell_type": "code",
      "metadata": {
        "id": "xyGoFGhdUXzs",
        "colab": {
          "base_uri": "https://localhost:8080/",
          "height": 52
        },
        "outputId": "138aea31-45c3-40b6-d23c-4ed14f42a36f"
      },
      "source": [
        "# TODO: build the bidirectional RNN layer\n",
        "bi_rnn = nn.RNN(num_inputs, hidden_size, num_layers=1, bidirectional=True) \n",
        "\n",
        "# forward xt_bf\n",
        "bi_ht, bi_state = bi_rnn(xt)\n",
        "print('Bidirectional RNN layer >> bi_ht.shape: ', bi_ht.shape)\n",
        "print('Bidirectional RNN layer >> bi_state.shape: ', bi_state.shape)"
      ],
      "execution_count": null,
      "outputs": [
        {
          "output_type": "stream",
          "text": [
            "Bidirectional RNN layer >> bi_ht.shape:  torch.Size([25, 5, 256])\n",
            "Bidirectional RNN layer >> bi_state.shape:  torch.Size([2, 5, 128])\n"
          ],
          "name": "stdout"
        }
      ]
    },
    {
      "cell_type": "markdown",
      "metadata": {
        "id": "snb6b9yRWd9H"
      },
      "source": [
        "### Exercise 3.2\n",
        "What is the output $\\boldsymbol{h}_t$ shape and why?\n",
        "\n",
        "### Exercise 3.3\n",
        "What is the output `state` shape and why?."
      ]
    },
    {
      "cell_type": "markdown",
      "metadata": {
        "id": "8BpOwxKCYNJE"
      },
      "source": [
        "![lstm](http://dprogrammer.org/wp-content/uploads/2019/04/RNN-vs-LSTM-vs-GRU-1200x361.png)"
      ]
    },
    {
      "cell_type": "code",
      "metadata": {
        "id": "WWJc31Q1WeRj"
      },
      "source": [
        ""
      ],
      "execution_count": null,
      "outputs": []
    },
    {
      "cell_type": "markdown",
      "metadata": {
        "id": "0riGDIjoYcHT"
      },
      "source": [
        "### Exercise 4: An LSTM Character-based Language Model\n",
        "\n",
        "In this final exercise we will train a language model that will work at the character level. This is, a neural network based on an RNN architecture that will complete language (textual) sequences.\n"
      ]
    },
    {
      "cell_type": "code",
      "metadata": {
        "id": "I341_mm4YcdM",
        "colab": {
          "base_uri": "https://localhost:8080/",
          "height": 209
        },
        "outputId": "ae8d6db5-0ff7-441f-d872-c0ec4c36b427"
      },
      "source": [
        "!wget https://raw.githubusercontent.com/telecombcn-dl/dlai-2019/master/labs/episode1_english.txt"
      ],
      "execution_count": null,
      "outputs": [
        {
          "output_type": "stream",
          "text": [
            "--2020-06-02 19:31:24--  https://raw.githubusercontent.com/telecombcn-dl/dlai-2019/master/labs/episode1_english.txt\n",
            "Resolving raw.githubusercontent.com (raw.githubusercontent.com)... 151.101.0.133, 151.101.64.133, 151.101.128.133, ...\n",
            "Connecting to raw.githubusercontent.com (raw.githubusercontent.com)|151.101.0.133|:443... connected.\n",
            "HTTP request sent, awaiting response... 200 OK\n",
            "Length: 23466 (23K) [text/plain]\n",
            "Saving to: ‘episode1_english.txt’\n",
            "\n",
            "\repisode1_english.tx   0%[                    ]       0  --.-KB/s               \repisode1_english.tx 100%[===================>]  22.92K  --.-KB/s    in 0.004s  \n",
            "\n",
            "2020-06-02 19:31:24 (6.07 MB/s) - ‘episode1_english.txt’ saved [23466/23466]\n",
            "\n"
          ],
          "name": "stdout"
        }
      ]
    },
    {
      "cell_type": "code",
      "metadata": {
        "id": "zoBOJYmJYefX",
        "colab": {
          "base_uri": "https://localhost:8080/",
          "height": 1000
        },
        "outputId": "3b28011f-76b6-4b53-f0f6-91d86e5c441c"
      },
      "source": [
        "!cat episode1_english.txt"
      ],
      "execution_count": null,
      "outputs": [
        {
          "output_type": "stream",
          "text": [
            "Monica: There's nothing to tell! He's just some guy I work with!\n",
            "\n",
            "Joey: C'mon, you're going out with the guy! There's gotta be something wrong with him!\n",
            "\n",
            "Chandler: All right Joey, be nice.  So does he have a hump? A hump and a hairpiece?\n",
            "\n",
            "Phoebe: Wait, does he eat chalk?\n",
            "\n",
            "(They all stare, bemused.)\n",
            "\n",
            "Phoebe: Just, 'cause, I don't want her to go through what I went through with Carl- oh!\n",
            "\n",
            "Monica: Okay, everybody relax. This is not even a date. It's just two people going out to dinner and- not having sex.\n",
            "\n",
            "Chandler: Sounds like a date to me.\n",
            "\n",
            "[Time Lapse]\n",
            "\n",
            "Chandler: Alright, so I'm back in high school, I'm standing in the middle of the cafeteria, and I realize I am totally naked.\n",
            "\n",
            "All: Oh, yeah. Had that dream.\n",
            "\n",
            "Chandler: Then I look down, and I realize there's a phone... there.\n",
            "\n",
            "Joey: Instead of...?\n",
            "\n",
            "Chandler: That's right.\n",
            "\n",
            "Joey: Never had that dream.\n",
            "\n",
            "Phoebe: No.\n",
            "\n",
            "Chandler: All of a sudden, the phone starts to ring. Now I don't know what to do, everybody starts looking at me.\n",
            "\n",
            "Monica: And they weren't looking at you before?!\n",
            "\n",
            "Chandler: Finally, I figure I'd better answer it, and it turns out it's my mother, which is very-very weird, because- she never calls me!\n",
            "\n",
            "[Time Lapse, Ross has entered.]\n",
            "\n",
            "Ross: (mortified) Hi.\n",
            "\n",
            "Joey: This guy says hello, I wanna kill myself.\n",
            "\n",
            "Monica: Are you okay, sweetie?\n",
            "\n",
            "Ross: I just feel like someone reached down my throat, grabbed my small intestine, pulled it out of my mouth and tied it around my neck...\n",
            "\n",
            "Chandler: Cookie?\n",
            "\n",
            "Monica: (explaining to the others) Carol moved her stuff out today.\n",
            "\n",
            "Joey: Ohh.\n",
            "\n",
            "Monica: (to Ross) Let me get you some coffee.\n",
            "\n",
            "Ross: Thanks.\n",
            "\n",
            "Phoebe: Ooh! Oh! (She starts to pluck at the air just in front of Ross.)\n",
            "\n",
            "Ross: No, no don't! Stop cleansing my aura! No, just leave my aura alone, okay?\n",
            "\n",
            "Phoebe: Fine!  Be murky!\n",
            "\n",
            "Ross: I'll be fine, alright? Really, everyone. I hope she'll be very happy.\n",
            "\n",
            "Monica: No you don't.\n",
            "\n",
            "Ross: No I don't, to hell with her, she left me!\n",
            "\n",
            "Joey: And you never knew she was a lesbian...\n",
            "\n",
            "Ross: No!! Okay?! Why does everyone keep fixating on that? She didn't know, how should I know?\n",
            "\n",
            "Chandler: Sometimes I wish I was a lesbian... (They all stare at him.) Did I say that out loud?\n",
            "\n",
            "Ross: I told mom and dad last night, they seemed to take it pretty well.\n",
            "\n",
            "Monica: Oh really, so that hysterical phone call I got from a woman at sobbing 3:00 A.M., \"I'll never have grandchildren, I'll never have grandchildren.\" was what?  A wrong number?\n",
            "\n",
            "Ross: Sorry.\n",
            "\n",
            "Joey: Alright Ross, look. You're feeling a lot of pain right now. You're angry. You're hurting. Can I tell you what the answer is?\n",
            "\n",
            "(Ross gestures his consent.)\n",
            "\n",
            "Joey: Strip joint! C'mon, you're single! Have some hormones!\n",
            "\n",
            "Ross: I don't want to be single, okay? I just... I just- I just wanna be married again!\n",
            "\n",
            "(Rachel enters in a wet wedding dress and starts to search the room.)\n",
            "\n",
            "Chandler: And I just want a million dollars! (He extends his hand hopefully.)\n",
            "\n",
            "Monica: Rachel?!\n",
            "\n",
            "Rachel: Oh God Monica hi! Thank God! I just went to your building and you weren't there and then this guy with a big hammer said you might be here and you are, you are!\n",
            "\n",
            "Waitress: Can I get you some coffee?\n",
            "\n",
            "Monica: (pointing at Rachel) De-caff. (to All) Okay, everybody, this is Rachel, another Lincoln High survivor. (to Rachel) This is everybody, this is Chandler, and Phoebe, and Joey, and- you remember my brother Ross?\n",
            "\n",
            "Rachel: Hi, sure!\n",
            "\n",
            "Ross: Hi.\n",
            "\n",
            "(They go to hug but Ross's umbrella opens.  He sits back down defeated again.  A moment of silence follows as Rachel sits and the others expect her to explain.)\n",
            "\n",
            "Monica: So you wanna tell us now, or are we waiting for four wet bridesmaids?\n",
            "\n",
            "Rachel: Oh God... well, it started about a half hour before the wedding. I was in the room where we were keeping all the presents, and I was looking at this gravy boat. This really gorgeous Lamauge gravy boat. When all of a sudden- (to the waitress that brought her coffee)Sweet 'n' Lo?- I realized that I was more turned on by this gravy boat than by Barry! And then I got really freaked out, and that's when it hit me: how much Barry looks like Mr. Potato Head. Y'know, I mean, I always knew looked familiar, but... Anyway, I just had to get out of there, and I started wondering 'Why am I doing this, and who am I doing this for?'. (to Monica) So anyway I just didn't know where to go, and I know that you and I have kinda drifted apart, but you're the only person I knew who lived here in the city.\n",
            "\n",
            "Monica: Who wasn't invited to the wedding.\n",
            "\n",
            "Rachel: Ooh, I was kinda hoping that wouldn't be an issue... [Scene: Monica's Apartment, everyone is there and watching a Spanish Soap on TV and are trying to figure out what is going on.]\n",
            "\n",
            "Monica: Now I'm guessing that he bought her the big pipe organ, and she's really not happy about it.\n",
            "\n",
            "Chandler: (imitating the characters) Tuna or egg salad?  Decide!\n",
            "\n",
            "Ross: (in a deep voice) I'll have whatever Christine is having.\n",
            "\n",
            "Rachel: (on phone) Daddy, I just... I can't marry him! I'm sorry. I just don't love him. Well, it matters to me!\n",
            "\n",
            "(The scene on TV has changed to show two women, one is holding her hair.)\n",
            "\n",
            "Phoebe:  If I let go of my hair, my head will fall off.\n",
            "\n",
            "Chandler: (re TV) Ooh, she should not be wearing those pants.\n",
            "\n",
            "Joey: I say push her down the stairs.\n",
            "\n",
            "Phoebe, Ross, Chandler, and Joey:  Push her down the stairs! Push her down the stairs! Push her down the stairs!\n",
            "\n",
            "(She is pushed down the stairs and everyone cheers.)\n",
            "\n",
            "Rachel: C'mon Daddy, listen to me! It's like, it's like, all of my life, everyone has always told me, 'You're a shoe! You're a shoe, you're a shoe, you're a shoe!'. And today I just stopped and I said, 'What if I don't wanna be a shoe? What if I wanna be a- a purse, y'know? Or a- or a hat! No, I'm not saying I want you to buy me a hat, I'm saying I am a ha- It's a metaphor, Daddy!\n",
            "\n",
            "Ross: You can see where he'd have trouble.\n",
            "\n",
            "Rachel: Look Daddy, it's my life. Well maybe I'll just stay here with Monica.\n",
            "\n",
            "Monica: Well, I guess we've established who's staying here with Monica...\n",
            "\n",
            "Rachel: Well, maybe that's my decision. Well, maybe I don't need your money. Wait!! Wait, I said maybe!!\n",
            "\n",
            "[Time Lapse, Rachel is breating into a paper bag.]\n",
            "\n",
            "Monica: Just breathe, breathe.. that's it. Just try to think of nice calm things...\n",
            "\n",
            "Phoebe: (sings) Raindrops on roses and rabbits and kittens, (Rachel and Monica turn to look at her.) bluebells and sleighbells and- something with mittens... La la la la...something and noodles with string.  These are a few...\n",
            "\n",
            "Rachel: I'm all better now.\n",
            "\n",
            "Phoebe: (grins and walks to the kitchen and says to Chandler and Joey.) I helped!\n",
            "\n",
            "Monica: Okay, look, this is probably for the best, y'know? Independence. Taking control of your life.  The whole, 'hat' thing.\n",
            "\n",
            "Joey: (comforting her) And hey, you need anything, you can always come to Joey. Me and Chandler live across the hall. And he's away a lot.\n",
            "\n",
            "Monica: Joey, stop hitting on her! It's her wedding day!\n",
            "\n",
            "Joey: What, like there's a rule or something?\n",
            "\n",
            "(The door buzzer sounds and Chandler gets it.)\n",
            "\n",
            "Chandler: Please don't do that again, it's a horrible sound.\n",
            "\n",
            "Paul: (over the intercom) It's, uh, it's Paul.\n",
            "\n",
            "Monica: Oh God, is it 6:30?  Buzz him in!\n",
            "\n",
            "Joey: Who's Paul?\n",
            "\n",
            "Ross: Paul the Wine Guy, Paul?\n",
            "\n",
            "Monica: Maybe. Joey: Wait. Your 'not a real date' tonight is with Paul the Wine Guy?\n",
            "\n",
            "Ross: He finally asked you out?\n",
            "\n",
            "Monica: Yes!\n",
            "\n",
            "Chandler: Ooh, this is a Dear Diary moment.\n",
            "\n",
            "Monica: Rach, wait, I can cancel...\n",
            "\n",
            "Rachel: Please, no, go, that'd be fine!\n",
            "\n",
            "Monica: (to Ross) Are, are you okay? I mean, do you want me to stay?\n",
            "\n",
            "Ross: (choked voice) That'd be good...\n",
            "\n",
            "Monica: (horrified) Really?\n",
            "\n",
            "Ross: (normal voice) No, go on! It's Paul the Wine Guy!\n",
            "\n",
            "Phoebe: What does that mean?   Does he sell it, drink it, or just complain a lot? (Chandler doesn't know.)\n",
            "\n",
            "(There's a knock on the door and it's Paul.)\n",
            "\n",
            "Monica: Hi, come in! Paul, this is.. (They are all lined up next to the door.)... everybody, everybody, this is Paul.\n",
            "\n",
            "All: Hey! Paul! Hi! The Wine Guy! Hey!\n",
            "\n",
            "Chandler: I'm sorry, I didn't catch your name. Paul, was it?\n",
            "\n",
            "Monica: Okay, umm-umm, I'll just--I'll be right back, I just gotta go ah, go ah...\n",
            "\n",
            "Ross: A wandering?\n",
            "\n",
            "Monica: Change!  Okay, sit down. (Shows Paul in) Two seconds.\n",
            "\n",
            "Phoebe: Ooh, I just pulled out four eyelashes. That can't be good.\n",
            "\n",
            "(Monica goes to change.)\n",
            "\n",
            "Joey:  Hey, Paul!\n",
            "\n",
            "Paul: Yeah?\n",
            "\n",
            "Joey: Here's a little tip, she really likes it when you rub her neck in the same spot over and over and over again until it starts to get a little red.\n",
            "\n",
            "Monica: (yelling from the bedroom) Shut up, Joey!\n",
            "\n",
            "Ross: So Rachel, what're you, uh... what're you up to tonight?\n",
            "\n",
            "Rachel: Well, I was kinda supposed to be headed for Aruba on my honeymoon, so nothing!\n",
            "\n",
            "Ross: Right, you're not even getting your honeymoon, God.. No, no, although, Aruba, this time of year... talk about your- (thinks) -big lizards... Anyway, if you don't feel like being alone tonight, Joey and Chandler are coming over to help me put together my new furniture.\n",
            "\n",
            "Chandler: (deadpan) Yes, and we're very excited about it.\n",
            "\n",
            "Rachel: Well actually thanks, but I think I'm just gonna hang out here tonight.  It's been kinda a long day.\n",
            "\n",
            "Ross: Okay, sure.\n",
            "\n",
            "Joey: Hey Pheebs, you wanna help?\n",
            "\n",
            "Phoebe: Oh, I wish I could, but I don't want to.\n",
            "\n",
            "Commercial Break\n",
            "\n",
            "[Scene: The Subway, Phoebe is singing for change.]\n",
            "\n",
            "Phoebe: (singing) Love is sweet as summer showers, love is a wondrous work of art, but your love oh your love, your love...is like a giant pigeon...crapping on my heart.  La-la-la-la-la- (some guy gives her some change and to that guy) Thank you. (sings) La-la-la-la...ohhh!\n",
            "\n",
            "[Scene: Ross's Apartment, the guys are there assembling furniture.]\n",
            "\n",
            "Ross: (squatting and reading the instructions) I'm supposed to attach a brackety thing to the side things, using a bunch of these little worm guys. I have no brackety thing, I see no whim guys whatsoever and- I cannot feel my legs.\n",
            "\n",
            "(Joey and Chandler are finishing assembling the bookcase.)\n",
            "\n",
            "Joey: I'm thinking we've got a bookcase here.\n",
            "\n",
            "Chandler: It's a beautiful thing.\n",
            "\n",
            "Joey: (picking up a leftover part) What's this?\n",
            "\n",
            "Chandler: I would have to say that is an 'L'-shaped bracket.\n",
            "\n",
            "Joey: Which goes where?\n",
            "\n",
            "Chandler: I have no idea.\n",
            "\n",
            "(Joey checks that Ross is not looking and dumps it in a plant.)\n",
            "\n",
            "Joey: Done with the bookcase!\n",
            "\n",
            "Chandler: All finished!\n",
            "\n",
            "Ross: (clutching a beer can and sniffing) This was Carol's favorite beer. She always drank it out of the can, I should have known.\n",
            "\n",
            "Joey: Hey-hey-hey-hey, if you're gonna start with that stuff we're outta here.\n",
            "\n",
            "Chandler: Yes, please don't spoil all this fun.\n",
            "\n",
            "Joey: Ross, let me ask you a question. She got the furniture, the stereo, the good TV- what did you get?\n",
            "\n",
            "Ross: You guys.\n",
            "\n",
            "Chandler: Oh, God.\n",
            "\n",
            "Joey: You got screwed.\n",
            "\n",
            "Chandler: Oh my God!\n",
            "\n",
            "[Scene: A Restaurant, Monica and Paul are eating.]\n",
            "\n",
            "Monica: Oh my God!\n",
            "\n",
            "Paul: I know, I know, I'm such an idiot. I guess I should have caught on when she started going to the dentist four and five times a week. I mean, how clean can teeth get?\n",
            "\n",
            "Monica: My brother's going through that right now, he's such a mess. How did you get through it?\n",
            "\n",
            "Paul: Well, you might try accidentally breaking something valuable of hers, say her-\n",
            "\n",
            "Monica: -leg?\n",
            "\n",
            "Paul: (laughing) That's one way! Me, I- I went for the watch.\n",
            "\n",
            "Monica: You actually broke her watch?  Wow!  The worst thing I ever did was, I-I shredded by boyfriend's favorite bath towel.\n",
            "\n",
            "Paul: Ooh, steer clear of you.\n",
            "\n",
            "Monica: That's right. [Scene: Monica's Apartment, Rachel is talking on the phone and pacing.]\n",
            "\n",
            "Rachel: Barry, I'm sorry... I am so sorry... I know you probably think that this is all about what I said the other day about you making love with your socks on, but it isn't... it isn't, it's about me, and I ju- (She stops talking and dials the phone.) Hi, machine cut me off again... anyway...look, look, I know that some girl is going to be incredibly lucky to become Mrs. Barry Finkel, but it isn't me, it's not me.  And not that I have any idea who me is right now, but you just have to give me a chance too... (The maching cuts her off again and she redials.)\n",
            "\n",
            "[Scene: Ross's Apartment; Ross is pacing while Joey and Chandler are working on some more furniture.]\n",
            "\n",
            "Ross: I'm divorced!  I'm only 26 and I'm divorced!\n",
            "\n",
            "Joey: Shut up!\n",
            "\n",
            "Chandler: You must stop! (Chandler hits what he is working on with a hammer and it collapses.)\n",
            "\n",
            "Ross: That only took me an hour.\n",
            "\n",
            "Chandler: Look, Ross, you gotta understand, between us we haven't had a relationship that has lasted longer than a Mento.   You, however have had the love of a woman for four years.   Four years of closeness and sharing at the end of which she ripped your heart out, and that is why we don't do it!  I don't think that was my point!\n",
            "\n",
            "Ross: You know what the scariest part is? What if there's only one woman for everybody, y'know? I mean what if you get one woman- and that's it? Unfortunately in my case, there was only one woman- for her...\n",
            "\n",
            "Joey: What are you talking about? 'One woman'? That's like saying there's only one flavor of ice cream for you. Lemme tell you something, Ross. There's lots of flavors out there. There's Rocky Road, and Cookie Dough, and Bing! Cherry Vanilla. You could get 'em with Jimmies, or nuts, or whipped cream! This is the best thing that ever happened to you! You got married, you were, like, what, eight? Welcome back to the world! Grab a spoon!\n",
            "\n",
            "Ross: I honestly don't know if I'm hungry or horny.\n",
            "\n",
            "Chandler: Stay out of my freezer! [Scene: A Restaurant, Monica and Paul are still eating.]\n",
            "\n",
            "Paul: Ever since she walked out on me, I, uh...\n",
            "\n",
            "Monica: What?..... What, you wanna spell it out with noodles?\n",
            "\n",
            "Paul: No, it's, it's more of a fifth date kinda revelation.\n",
            "\n",
            "Monica: Oh, so there is gonna be a fifth date?\n",
            "\n",
            "Paul: Isn't there?\n",
            "\n",
            "Monica: Yeah... yeah, I think there is. -What were you gonna say?\n",
            "\n",
            "Paul: Well, ever-ev-... ever since she left me, um, I haven't been able to, uh, perform. (Monica takes a sip of her drink.) ...Sexually.\n",
            "\n",
            "Monica: (spitting out her drink in shock) Oh God, oh God, I am sorry... I am so sorry...\n",
            "\n",
            "Paul: It's okay...\n",
            "\n",
            "Monica: I know being spit on is probably not what you need right now. Um... how long?\n",
            "\n",
            "Paul: Two years.\n",
            "\n",
            "Monica: Wow! I'm-I'm-I'm glad you smashed her watch!\n",
            "\n",
            "Paul: So you still think you, um... might want that fifth date?\n",
            "\n",
            "Monica: (pause)...Yeah. Yeah, I do.\n",
            "\n",
            "[Scene: Monica's Apartment, Rachel is watching Joanne Loves Chaci.]\n",
            "\n",
            "Priest on TV: We are gathered here today to join Joanne Louise Cunningham and Charles, Chachi-Chachi-Chachi, Arcola in the bound of holy matrimony.\n",
            "\n",
            "Rachel: Oh...see... but Joanne loved Chachi! That's the difference!\n",
            "\n",
            "[Scene: Ross's Apartment, they're all sitting around and talking.]\n",
            "\n",
            "Ross: (scornful) Grab a spoon. Do you know how long it's been since I've grabbed a spoon? Do the words 'Billy, don't be a hero' mean anything to you?\n",
            "\n",
            "Joey: Great story!  But, I uh, I gotta go, I got a date with Andrea--Angela--Andrea...  Oh man, (looks to Chandler)\n",
            "\n",
            "Chandler: Angela's the screamer, Andrea has cats.\n",
            "\n",
            "Joey: Right.  Thanks.  It's June.  I'm outta here. (Exits.)\n",
            "\n",
            "Ross: Y'know, here's the thing. Even if I could get it together enough to- to ask a woman out,... who am I gonna ask? (He gazes out of the window.)\n",
            "\n",
            "[Cut to Rachel staring out of her window.]\n",
            "\n",
            "Commercial Break\n",
            "\n",
            "[Scene: Monica's Apartment, Rachel is making coffee for Joey and Chandler.]\n",
            "\n",
            "Rachel: Isn't this amazing? I mean, I have never made coffee before in my entire life.\n",
            "\n",
            "Chandler: That is amazing.\n",
            "\n",
            "Joey: Congratulations.\n",
            "\n",
            "Rachel: Y'know, I figure if I can make coffee, there isn't anything I can't do.\n",
            "\n",
            "Chandler: If can invade Poland, there isn't anything I can't do.\n",
            "\n",
            "Joey: Listen, while you're on a roll, if you feel like you gotta make like a Western omelet or something... (Joey and Chandler taste the coffee, grimace, and pour it into a plant pot.) Although actually I'm really not that hungry...\n",
            "\n",
            "Monica: (entering, to herself) Oh good, Lenny and Squigy are here.\n",
            "\n",
            "All: Morning. Good morning.\n",
            "\n",
            "Paul: (entering from Monica's room) Morning.\n",
            "\n",
            "Joey: Morning, Paul.\n",
            "\n",
            "Rachel: Hello, Paul.\n",
            "\n",
            "Chandler: Hi, Paul, is it?\n",
            "\n",
            "(Monica and Paul walk to the door and talk in a low voice so the others can't hear.  The others move Monica's table closer to the door so that they can.)\n",
            "\n",
            "Paul: Thank you!  Thank you so much!\n",
            "\n",
            "Monica: Stop!\n",
            "\n",
            "Paul: No, I'm telling you last night was like umm, all my birthdays, both graduations, plus the barn raising scene in Witness.\n",
            "\n",
            "Monica: We'll talk later.\n",
            "\n",
            "Paul: Yeah. (They kiss) Thank you. (Exits)\n",
            "\n",
            "Joey: That wasn't a real date?! What the hell do you do on a real date?\n",
            "\n",
            "Monica: Shut up, and put my table back.\n",
            "\n",
            "All: Okayyy! (They do so.)\n",
            "\n",
            "Chandler: All right, kids, I gotta get to work. If I don't input those numbers,... it doesn't make much of a difference...\n",
            "\n",
            "Rachel: So, like, you guys all have jobs?\n",
            "\n",
            "Monica: Yeah, we all have jobs. See, that's how we buy stuff.\n",
            "\n",
            "Joey: Yeah, I'm an actor.\n",
            "\n",
            "Rachel: Wow! Would I have seen you in anything?\n",
            "\n",
            "Joey: I doubt it. Mostly regional work.\n",
            "\n",
            "Monica: Oh wait, wait, unless you happened to catch the Reruns' production of Pinocchio, at the little theater in the park.\n",
            "\n",
            "Joey: Look, it was a job all right?\n",
            "\n",
            "Chandler: 'Look, Gippetto, I'm a real live boy.'\n",
            "\n",
            "Joey: I will not take this abuse. (Walks to the door and opens it to leave.)\n",
            "\n",
            "Chandler: You're right, I'm sorry. (Burst into song and dances out of the door.) \"Once I was a wooden boy, a little wooden boy...\"\n",
            "\n",
            "Joey: You should both know, that he's a dead man.  Oh, Chandler? (Starts after Chandler.)\n",
            "\n",
            "Monica: So how you doing today? Did you sleep okay? Talk to Barry? I can't stop smiling.\n",
            "\n",
            "Rachel: I can see that. You look like you slept with a hanger in your mouth.\n",
            "\n",
            "Monica: I know, he's just so, so... Do you remember you and Tony DeMarco?\n",
            "\n",
            "Rachel: Oh, yeah.\n",
            "\n",
            "Monica: Well, it's like that. With feelings.\n",
            "\n",
            "Rachel: Oh wow. Are you in trouble.\n",
            "\n",
            "Monica: Big time!\n",
            "\n",
            "Rachel: Want a wedding dress?   Hardly used.\n",
            "\n",
            "Monica: I think we are getting a little ahead of selves here. Okay. Okay. I am just going to get up, go to work and not think about him all day. Or else I'm just gonna get up and go to work.\n",
            "\n",
            "Rachel: Oh, look, wish me luck!\n",
            "\n",
            "Monica: What for?\n",
            "\n",
            "Rachel: I'm gonna go get one of those (Thinks) job things.\n",
            "\n",
            "(Monica exits.)\n",
            "\n",
            "[Scene: Iridium, Monica is working as Frannie enters.]\n",
            "\n",
            "Frannie: Hey, Monica!\n",
            "\n",
            "Monica: Hey Frannie, welcome back! How was Florida?\n",
            "\n",
            "Frannie: You had sex, didn't you?\n",
            "\n",
            "Monica: How do you do that?\n",
            "\n",
            "Frannie: Oh, I hate you, I'm pushing my Aunt Roz through Parrot Jungle and you're having sex!  So? Who?\n",
            "\n",
            "Monica: You know Paul?\n",
            "\n",
            "Frannie: Paul the Wine Guy? Oh yeah, I know Paul.\n",
            "\n",
            "Monica: You mean you know Paul like I know Paul?\n",
            "\n",
            "Frannie: Are you kidding? I take credit for Paul. Y'know before me, there was no snap in his turtle for two years.\n",
            "\n",
            "[Scene: Central Perk, everyone but Rachel is there.]\n",
            "\n",
            "Joey: (sitting on the arm of the couch)Of course it was a line!\n",
            "\n",
            "Monica: Why?! Why? Why, why would anybody do something like that?\n",
            "\n",
            "Ross: I assume we're looking for an answer more sophisticated than 'to get you into bed'.\n",
            "\n",
            "Monica: I hate men!  I hate men!\n",
            "\n",
            "Phoebe: Oh no, don't hate, you don't want to put that out into the universe.\n",
            "\n",
            "Monica: Is it me? Is it like I have some sort of beacon that only dogs and men with severe emotional problems can hear?\n",
            "\n",
            "Phoebe: All right, c'mere, gimme your feet. (She starts massaging them.)\n",
            "\n",
            "Monica: I just thought he was nice, y'know?\n",
            "\n",
            "Joey: (bursts out laughing again) I can't believe you didn't know it was a line!\n",
            "\n",
            "(Monica pushes him off of the sofa as Rachel enters with a shopping bag.)\n",
            "\n",
            "Rachel: Guess what?\n",
            "\n",
            "Ross: You got a job?\n",
            "\n",
            "Rachel: Are you kidding? I'm trained for nothing! I was laughed out of twelve interviews today.\n",
            "\n",
            "Chandler: And yet you're surprisingly upbeat.\n",
            "\n",
            "Rachel: You would be too if you found John and David boots on sale, fifty percent off!\n",
            "\n",
            "Chandler: Oh, how well you know me...\n",
            "\n",
            "Rachel: They're my new 'I don't need a job, I don't need my parents, I've got great boots' boots!\n",
            "\n",
            "Monica: How'd you pay for them?\n",
            "\n",
            "Rachel: Uh, credit card.\n",
            "\n",
            "Monica: And who pays for that?\n",
            "\n",
            "Rachel: Um... my... father.\n",
            "\n",
            "[Scene: Monica and Rachel's, everyone is sitting around the kitchen table.   Rachel's credit cards are spread out on the table along with a pair of scissors.]\n",
            "\n",
            "Rachel: Oh God, come on you guys, is this really necessary?  I mean, I can stop charging anytime I want.\n",
            "\n",
            "Monica: C'mon, you can't live off your parents your whole life.\n",
            "\n",
            "Rachel: I know that. That's why I was getting married.\n",
            "\n",
            "Phoebe: Give her a break, it's hard being on your own for the first time.\n",
            "\n",
            "Rachel: Thank you.\n",
            "\n",
            "Phoebe: You're welcome. I remember when I first came to this city. I was fourteen. My mom had just killed herself and my step-dad was back in prison, and I got here, and I didn't know anybody. And I ended up living with this albino guy who was, like, cleaning windshields outside port authority, and then he killed himself, and then I found aromatherapy. So believe me, I know exactly how you feel.\n",
            "\n",
            "(Pause)\n",
            "\n",
            "Ross: The word you're looking for is 'Anyway'...\n",
            "\n",
            "Monica: All right, you ready?\n",
            "\n",
            "Rachel: No.  No, no, I'm not ready!  How can I be ready?  \"Hey, Rach!  You ready to jump out the airplane without your parachute?\"  Come on, I can't do this!\n",
            "\n",
            "Monica: You can, I know you can!\n",
            "\n",
            "Rachel: I don't think so.\n",
            "\n",
            "Ross: Come on, you made coffee!   You can do anything! (Chandler slowly tries to hide the now dead plant from that morning when he and Joey poured their coffee into it.)\n",
            "\n",
            "Ross: C'mon, cut. Cut, cut, cut,...\n",
            "\n",
            "All: Cut, cut, cut, cut, cut, cut, cut... (She cuts one of them and they cheer.)\n",
            "\n",
            "Rachel: Y'know what?  I think we can just leave it at that.  It's kinda like a symbolic gesture...\n",
            "\n",
            "Monica:  Rachel!  That was a library card!\n",
            "\n",
            "All: Cut, cut, cut, cut, cut, cut, cut..\n",
            "\n",
            "Chandler: (as Rachel is cutting up her cards) Y'know, if you listen closely, you can hear a thousand retailers scream.\n",
            "\n",
            "(She finishes cutting them up and they all cheer.)\n",
            "\n",
            "Monica: Welcome to the real world! It sucks. You're gonna love it!\n",
            "\n",
            "[Time Lapse, Rachel and Ross are watching a TV channel finishes it's broadcast day by playing the national anthem.]\n",
            "\n",
            "Monica: Well, that's it (To Ross) You gonna crash on the couch?\n",
            "\n",
            "Ross: No. No, I gotta go home sometime.\n",
            "\n",
            "Monica: You be okay?\n",
            "\n",
            "Ross: Yeah.\n",
            "\n",
            "Rachel: Hey Mon, look what I just found on the floor. (Monica smiles.) What?\n",
            "\n",
            "Monica: That's Paul's watch. You just put it back where you found it. Oh boy. Alright. Goodnight, everybody.\n",
            "\n",
            "Ross and Rachel: Goodnight.\n",
            "\n",
            "(Monica stomps on Paul's watch and goes into her room.)\n",
            "\n",
            "Ross: Mmm. (They both reach for the last cookie) Oh, no-\n",
            "\n",
            "Rachel: Sorry-\n",
            "\n",
            "Ross: No no no, go-\n",
            "\n",
            "Rachel: No, you have it, really, I don't want it-\n",
            "\n",
            "Ross: Split it?\n",
            "\n",
            "Rachel: Okay.\n",
            "\n",
            "Ross: Okay. (They split it.) You know you probably didn't know this, but back in high school, I had a, um, major crush on you.\n",
            "\n",
            "Rachel: I knew.\n",
            "\n",
            "Ross: You did! Oh.... I always figured you just thought I was Monica's geeky older brother.\n",
            "\n",
            "Rachel: I did.\n",
            "\n",
            "Ross: Oh. Listen, do you think- and try not to let my intense vulnerability become any kind of a factor here- but do you think it would be okay if I asked you out? Sometime? Maybe?\n",
            "\n",
            "Rachel: Yeah, maybe...\n",
            "\n",
            "Ross: Okay... okay, maybe I will...\n",
            "\n",
            "Rachel: Goodnight.\n",
            "\n",
            "Ross: Goodnight.\n",
            "\n",
            "(Rachel goes into her room and Monica enters the living room as Ross is leaving.)\n",
            "\n",
            "Monica: See ya.... Waitwait, what's with you?\n",
            "\n",
            "Ross: I just grabbed a spoon. (Ross exits and Monica has no idea what that means.)\n"
          ],
          "name": "stdout"
        }
      ]
    },
    {
      "cell_type": "code",
      "metadata": {
        "id": "NKBWYnqTYjNP"
      },
      "source": [
        "def prepare_sequence(seq, char2idx, onehot=True):\n",
        "    # convert sequence of words to indices\n",
        "    idxs = [char2idx[c] for c in seq]\n",
        "    idxs = torch.tensor(idxs, dtype=torch.long)\n",
        "    if onehot:\n",
        "      # conver to onehot (if input to network)\n",
        "      ohs = F.one_hot(idxs, len(char2idx)).float()\n",
        "      return ohs\n",
        "    else:\n",
        "      return idxs"
      ],
      "execution_count": null,
      "outputs": []
    },
    {
      "cell_type": "code",
      "metadata": {
        "id": "jR25kahNY0T5"
      },
      "source": [
        "with open('episode1_english.txt', 'r') as txt_f:\n",
        "  training_data = [l.rstrip() for l in txt_f if l.rstrip() != '']\n",
        "\n",
        "# merge the training data into one big text line\n",
        "training_data = '$'.join(training_data)"
      ],
      "execution_count": null,
      "outputs": []
    },
    {
      "cell_type": "code",
      "metadata": {
        "id": "CuamnM-qY9G9",
        "colab": {
          "base_uri": "https://localhost:8080/",
          "height": 54
        },
        "outputId": "78159308-1ae8-44be-aa46-6908ae8f8ab1"
      },
      "source": [
        "training_data"
      ],
      "execution_count": null,
      "outputs": [
        {
          "output_type": "execute_result",
          "data": {
            "text/plain": [
              "'Monica: There\\'s nothing to tell! He\\'s just some guy I work with!$Joey: C\\'mon, you\\'re going out with the guy! There\\'s gotta be something wrong with him!$Chandler: All right Joey, be nice.  So does he have a hump? A hump and a hairpiece?$Phoebe: Wait, does he eat chalk?$(They all stare, bemused.)$Phoebe: Just, \\'cause, I don\\'t want her to go through what I went through with Carl- oh!$Monica: Okay, everybody relax. This is not even a date. It\\'s just two people going out to dinner and- not having sex.$Chandler: Sounds like a date to me.$[Time Lapse]$Chandler: Alright, so I\\'m back in high school, I\\'m standing in the middle of the cafeteria, and I realize I am totally naked.$All: Oh, yeah. Had that dream.$Chandler: Then I look down, and I realize there\\'s a phone... there.$Joey: Instead of...?$Chandler: That\\'s right.$Joey: Never had that dream.$Phoebe: No.$Chandler: All of a sudden, the phone starts to ring. Now I don\\'t know what to do, everybody starts looking at me.$Monica: And they weren\\'t looking at you before?!$Chandler: Finally, I figure I\\'d better answer it, and it turns out it\\'s my mother, which is very-very weird, because- she never calls me!$[Time Lapse, Ross has entered.]$Ross: (mortified) Hi.$Joey: This guy says hello, I wanna kill myself.$Monica: Are you okay, sweetie?$Ross: I just feel like someone reached down my throat, grabbed my small intestine, pulled it out of my mouth and tied it around my neck...$Chandler: Cookie?$Monica: (explaining to the others) Carol moved her stuff out today.$Joey: Ohh.$Monica: (to Ross) Let me get you some coffee.$Ross: Thanks.$Phoebe: Ooh! Oh! (She starts to pluck at the air just in front of Ross.)$Ross: No, no don\\'t! Stop cleansing my aura! No, just leave my aura alone, okay?$Phoebe: Fine!  Be murky!$Ross: I\\'ll be fine, alright? Really, everyone. I hope she\\'ll be very happy.$Monica: No you don\\'t.$Ross: No I don\\'t, to hell with her, she left me!$Joey: And you never knew she was a lesbian...$Ross: No!! Okay?! Why does everyone keep fixating on that? She didn\\'t know, how should I know?$Chandler: Sometimes I wish I was a lesbian... (They all stare at him.) Did I say that out loud?$Ross: I told mom and dad last night, they seemed to take it pretty well.$Monica: Oh really, so that hysterical phone call I got from a woman at sobbing 3:00 A.M., \"I\\'ll never have grandchildren, I\\'ll never have grandchildren.\" was what?  A wrong number?$Ross: Sorry.$Joey: Alright Ross, look. You\\'re feeling a lot of pain right now. You\\'re angry. You\\'re hurting. Can I tell you what the answer is?$(Ross gestures his consent.)$Joey: Strip joint! C\\'mon, you\\'re single! Have some hormones!$Ross: I don\\'t want to be single, okay? I just... I just- I just wanna be married again!$(Rachel enters in a wet wedding dress and starts to search the room.)$Chandler: And I just want a million dollars! (He extends his hand hopefully.)$Monica: Rachel?!$Rachel: Oh God Monica hi! Thank God! I just went to your building and you weren\\'t there and then this guy with a big hammer said you might be here and you are, you are!$Waitress: Can I get you some coffee?$Monica: (pointing at Rachel) De-caff. (to All) Okay, everybody, this is Rachel, another Lincoln High survivor. (to Rachel) This is everybody, this is Chandler, and Phoebe, and Joey, and- you remember my brother Ross?$Rachel: Hi, sure!$Ross: Hi.$(They go to hug but Ross\\'s umbrella opens.  He sits back down defeated again.  A moment of silence follows as Rachel sits and the others expect her to explain.)$Monica: So you wanna tell us now, or are we waiting for four wet bridesmaids?$Rachel: Oh God... well, it started about a half hour before the wedding. I was in the room where we were keeping all the presents, and I was looking at this gravy boat. This really gorgeous Lamauge gravy boat. When all of a sudden- (to the waitress that brought her coffee)Sweet \\'n\\' Lo?- I realized that I was more turned on by this gravy boat than by Barry! And then I got really freaked out, and that\\'s when it hit me: how much Barry looks like Mr. Potato Head. Y\\'know, I mean, I always knew looked familiar, but... Anyway, I just had to get out of there, and I started wondering \\'Why am I doing this, and who am I doing this for?\\'. (to Monica) So anyway I just didn\\'t know where to go, and I know that you and I have kinda drifted apart, but you\\'re the only person I knew who lived here in the city.$Monica: Who wasn\\'t invited to the wedding.$Rachel: Ooh, I was kinda hoping that wouldn\\'t be an issue... [Scene: Monica\\'s Apartment, everyone is there and watching a Spanish Soap on TV and are trying to figure out what is going on.]$Monica: Now I\\'m guessing that he bought her the big pipe organ, and she\\'s really not happy about it.$Chandler: (imitating the characters) Tuna or egg salad?  Decide!$Ross: (in a deep voice) I\\'ll have whatever Christine is having.$Rachel: (on phone) Daddy, I just... I can\\'t marry him! I\\'m sorry. I just don\\'t love him. Well, it matters to me!$(The scene on TV has changed to show two women, one is holding her hair.)$Phoebe:  If I let go of my hair, my head will fall off.$Chandler: (re TV) Ooh, she should not be wearing those pants.$Joey: I say push her down the stairs.$Phoebe, Ross, Chandler, and Joey:  Push her down the stairs! Push her down the stairs! Push her down the stairs!$(She is pushed down the stairs and everyone cheers.)$Rachel: C\\'mon Daddy, listen to me! It\\'s like, it\\'s like, all of my life, everyone has always told me, \\'You\\'re a shoe! You\\'re a shoe, you\\'re a shoe, you\\'re a shoe!\\'. And today I just stopped and I said, \\'What if I don\\'t wanna be a shoe? What if I wanna be a- a purse, y\\'know? Or a- or a hat! No, I\\'m not saying I want you to buy me a hat, I\\'m saying I am a ha- It\\'s a metaphor, Daddy!$Ross: You can see where he\\'d have trouble.$Rachel: Look Daddy, it\\'s my life. Well maybe I\\'ll just stay here with Monica.$Monica: Well, I guess we\\'ve established who\\'s staying here with Monica...$Rachel: Well, maybe that\\'s my decision. Well, maybe I don\\'t need your money. Wait!! Wait, I said maybe!!$[Time Lapse, Rachel is breating into a paper bag.]$Monica: Just breathe, breathe.. that\\'s it. Just try to think of nice calm things...$Phoebe: (sings) Raindrops on roses and rabbits and kittens, (Rachel and Monica turn to look at her.) bluebells and sleighbells and- something with mittens... La la la la...something and noodles with string.  These are a few...$Rachel: I\\'m all better now.$Phoebe: (grins and walks to the kitchen and says to Chandler and Joey.) I helped!$Monica: Okay, look, this is probably for the best, y\\'know? Independence. Taking control of your life.  The whole, \\'hat\\' thing.$Joey: (comforting her) And hey, you need anything, you can always come to Joey. Me and Chandler live across the hall. And he\\'s away a lot.$Monica: Joey, stop hitting on her! It\\'s her wedding day!$Joey: What, like there\\'s a rule or something?$(The door buzzer sounds and Chandler gets it.)$Chandler: Please don\\'t do that again, it\\'s a horrible sound.$Paul: (over the intercom) It\\'s, uh, it\\'s Paul.$Monica: Oh God, is it 6:30?  Buzz him in!$Joey: Who\\'s Paul?$Ross: Paul the Wine Guy, Paul?$Monica: Maybe. Joey: Wait. Your \\'not a real date\\' tonight is with Paul the Wine Guy?$Ross: He finally asked you out?$Monica: Yes!$Chandler: Ooh, this is a Dear Diary moment.$Monica: Rach, wait, I can cancel...$Rachel: Please, no, go, that\\'d be fine!$Monica: (to Ross) Are, are you okay? I mean, do you want me to stay?$Ross: (choked voice) That\\'d be good...$Monica: (horrified) Really?$Ross: (normal voice) No, go on! It\\'s Paul the Wine Guy!$Phoebe: What does that mean?   Does he sell it, drink it, or just complain a lot? (Chandler doesn\\'t know.)$(There\\'s a knock on the door and it\\'s Paul.)$Monica: Hi, come in! Paul, this is.. (They are all lined up next to the door.)... everybody, everybody, this is Paul.$All: Hey! Paul! Hi! The Wine Guy! Hey!$Chandler: I\\'m sorry, I didn\\'t catch your name. Paul, was it?$Monica: Okay, umm-umm, I\\'ll just--I\\'ll be right back, I just gotta go ah, go ah...$Ross: A wandering?$Monica: Change!  Okay, sit down. (Shows Paul in) Two seconds.$Phoebe: Ooh, I just pulled out four eyelashes. That can\\'t be good.$(Monica goes to change.)$Joey:  Hey, Paul!$Paul: Yeah?$Joey: Here\\'s a little tip, she really likes it when you rub her neck in the same spot over and over and over again until it starts to get a little red.$Monica: (yelling from the bedroom) Shut up, Joey!$Ross: So Rachel, what\\'re you, uh... what\\'re you up to tonight?$Rachel: Well, I was kinda supposed to be headed for Aruba on my honeymoon, so nothing!$Ross: Right, you\\'re not even getting your honeymoon, God.. No, no, although, Aruba, this time of year... talk about your- (thinks) -big lizards... Anyway, if you don\\'t feel like being alone tonight, Joey and Chandler are coming over to help me put together my new furniture.$Chandler: (deadpan) Yes, and we\\'re very excited about it.$Rachel: Well actually thanks, but I think I\\'m just gonna hang out here tonight.  It\\'s been kinda a long day.$Ross: Okay, sure.$Joey: Hey Pheebs, you wanna help?$Phoebe: Oh, I wish I could, but I don\\'t want to.$Commercial Break$[Scene: The Subway, Phoebe is singing for change.]$Phoebe: (singing) Love is sweet as summer showers, love is a wondrous work of art, but your love oh your love, your love...is like a giant pigeon...crapping on my heart.  La-la-la-la-la- (some guy gives her some change and to that guy) Thank you. (sings) La-la-la-la...ohhh!$[Scene: Ross\\'s Apartment, the guys are there assembling furniture.]$Ross: (squatting and reading the instructions) I\\'m supposed to attach a brackety thing to the side things, using a bunch of these little worm guys. I have no brackety thing, I see no whim guys whatsoever and- I cannot feel my legs.$(Joey and Chandler are finishing assembling the bookcase.)$Joey: I\\'m thinking we\\'ve got a bookcase here.$Chandler: It\\'s a beautiful thing.$Joey: (picking up a leftover part) What\\'s this?$Chandler: I would have to say that is an \\'L\\'-shaped bracket.$Joey: Which goes where?$Chandler: I have no idea.$(Joey checks that Ross is not looking and dumps it in a plant.)$Joey: Done with the bookcase!$Chandler: All finished!$Ross: (clutching a beer can and sniffing) This was Carol\\'s favorite beer. She always drank it out of the can, I should have known.$Joey: Hey-hey-hey-hey, if you\\'re gonna start with that stuff we\\'re outta here.$Chandler: Yes, please don\\'t spoil all this fun.$Joey: Ross, let me ask you a question. She got the furniture, the stereo, the good TV- what did you get?$Ross: You guys.$Chandler: Oh, God.$Joey: You got screwed.$Chandler: Oh my God!$[Scene: A Restaurant, Monica and Paul are eating.]$Monica: Oh my God!$Paul: I know, I know, I\\'m such an idiot. I guess I should have caught on when she started going to the dentist four and five times a week. I mean, how clean can teeth get?$Monica: My brother\\'s going through that right now, he\\'s such a mess. How did you get through it?$Paul: Well, you might try accidentally breaking something valuable of hers, say her-$Monica: -leg?$Paul: (laughing) That\\'s one way! Me, I- I went for the watch.$Monica: You actually broke her watch?  Wow!  The worst thing I ever did was, I-I shredded by boyfriend\\'s favorite bath towel.$Paul: Ooh, steer clear of you.$Monica: That\\'s right. [Scene: Monica\\'s Apartment, Rachel is talking on the phone and pacing.]$Rachel: Barry, I\\'m sorry... I am so sorry... I know you probably think that this is all about what I said the other day about you making love with your socks on, but it isn\\'t... it isn\\'t, it\\'s about me, and I ju- (She stops talking and dials the phone.) Hi, machine cut me off again... anyway...look, look, I know that some girl is going to be incredibly lucky to become Mrs. Barry Finkel, but it isn\\'t me, it\\'s not me.  And not that I have any idea who me is right now, but you just have to give me a chance too... (The maching cuts her off again and she redials.)$[Scene: Ross\\'s Apartment; Ross is pacing while Joey and Chandler are working on some more furniture.]$Ross: I\\'m divorced!  I\\'m only 26 and I\\'m divorced!$Joey: Shut up!$Chandler: You must stop! (Chandler hits what he is working on with a hammer and it collapses.)$Ross: That only took me an hour.$Chandler: Look, Ross, you gotta understand, between us we haven\\'t had a relationship that has lasted longer than a Mento.   You, however have had the love of a woman for four years.   Four years of closeness and sharing at the end of which she ripped your heart out, and that is why we don\\'t do it!  I don\\'t think that was my point!$Ross: You know what the scariest part is? What if there\\'s only one woman for everybody, y\\'know? I mean what if you get one woman- and that\\'s it? Unfortunately in my case, there was only one woman- for her...$Joey: What are you talking about? \\'One woman\\'? That\\'s like saying there\\'s only one flavor of ice cream for you. Lemme tell you something, Ross. There\\'s lots of flavors out there. There\\'s Rocky Road, and Cookie Dough, and Bing! Cherry Vanilla. You could get \\'em with Jimmies, or nuts, or whipped cream! This is the best thing that ever happened to you! You got married, you were, like, what, eight? Welcome back to the world! Grab a spoon!$Ross: I honestly don\\'t know if I\\'m hungry or horny.$Chandler: Stay out of my freezer! [Scene: A Restaurant, Monica and Paul are still eating.]$Paul: Ever since she walked out on me, I, uh...$Monica: What?..... What, you wanna spell it out with noodles?$Paul: No, it\\'s, it\\'s more of a fifth date kinda revelation.$Monica: Oh, so there is gonna be a fifth date?$Paul: Isn\\'t there?$Monica: Yeah... yeah, I think there is. -What were you gonna say?$Paul: Well, ever-ev-... ever since she left me, um, I haven\\'t been able to, uh, perform. (Monica takes a sip of her drink.) ...Sexually.$Monica: (spitting out her drink in shock) Oh God, oh God, I am sorry... I am so sorry...$Paul: It\\'s okay...$Monica: I know being spit on is probably not what you need right now. Um... how long?$Paul: Two years.$Monica: Wow! I\\'m-I\\'m-I\\'m glad you smashed her watch!$Paul: So you still think you, um... might want that fifth date?$Monica: (pause)...Yeah. Yeah, I do.$[Scene: Monica\\'s Apartment, Rachel is watching Joanne Loves Chaci.]$Priest on TV: We are gathered here today to join Joanne Louise Cunningham and Charles, Chachi-Chachi-Chachi, Arcola in the bound of holy matrimony.$Rachel: Oh...see... but Joanne loved Chachi! That\\'s the difference!$[Scene: Ross\\'s Apartment, they\\'re all sitting around and talking.]$Ross: (scornful) Grab a spoon. Do you know how long it\\'s been since I\\'ve grabbed a spoon? Do the words \\'Billy, don\\'t be a hero\\' mean anything to you?$Joey: Great story!  But, I uh, I gotta go, I got a date with Andrea--Angela--Andrea...  Oh man, (looks to Chandler)$Chandler: Angela\\'s the screamer, Andrea has cats.$Joey: Right.  Thanks.  It\\'s June.  I\\'m outta here. (Exits.)$Ross: Y\\'know, here\\'s the thing. Even if I could get it together enough to- to ask a woman out,... who am I gonna ask? (He gazes out of the window.)$[Cut to Rachel staring out of her window.]$Commercial Break$[Scene: Monica\\'s Apartment, Rachel is making coffee for Joey and Chandler.]$Rachel: Isn\\'t this amazing? I mean, I have never made coffee before in my entire life.$Chandler: That is amazing.$Joey: Congratulations.$Rachel: Y\\'know, I figure if I can make coffee, there isn\\'t anything I can\\'t do.$Chandler: If can invade Poland, there isn\\'t anything I can\\'t do.$Joey: Listen, while you\\'re on a roll, if you feel like you gotta make like a Western omelet or something... (Joey and Chandler taste the coffee, grimace, and pour it into a plant pot.) Although actually I\\'m really not that hungry...$Monica: (entering, to herself) Oh good, Lenny and Squigy are here.$All: Morning. Good morning.$Paul: (entering from Monica\\'s room) Morning.$Joey: Morning, Paul.$Rachel: Hello, Paul.$Chandler: Hi, Paul, is it?$(Monica and Paul walk to the door and talk in a low voice so the others can\\'t hear.  The others move Monica\\'s table closer to the door so that they can.)$Paul: Thank you!  Thank you so much!$Monica: Stop!$Paul: No, I\\'m telling you last night was like umm, all my birthdays, both graduations, plus the barn raising scene in Witness.$Monica: We\\'ll talk later.$Paul: Yeah. (They kiss) Thank you. (Exits)$Joey: That wasn\\'t a real date?! What the hell do you do on a real date?$Monica: Shut up, and put my table back.$All: Okayyy! (They do so.)$Chandler: All right, kids, I gotta get to work. If I don\\'t input those numbers,... it doesn\\'t make much of a difference...$Rachel: So, like, you guys all have jobs?$Monica: Yeah, we all have jobs. See, that\\'s how we buy stuff.$Joey: Yeah, I\\'m an actor.$Rachel: Wow! Would I have seen you in anything?$Joey: I doubt it. Mostly regional work.$Monica: Oh wait, wait, unless you happened to catch the Reruns\\' production of Pinocchio, at the little theater in the park.$Joey: Look, it was a job all right?$Chandler: \\'Look, Gippetto, I\\'m a real live boy.\\'$Joey: I will not take this abuse. (Walks to the door and opens it to leave.)$Chandler: You\\'re right, I\\'m sorry. (Burst into song and dances out of the door.) \"Once I was a wooden boy, a little wooden boy...\"$Joey: You should both know, that he\\'s a dead man.  Oh, Chandler? (Starts after Chandler.)$Monica: So how you doing today? Did you sleep okay? Talk to Barry? I can\\'t stop smiling.$Rachel: I can see that. You look like you slept with a hanger in your mouth.$Monica: I know, he\\'s just so, so... Do you remember you and Tony DeMarco?$Rachel: Oh, yeah.$Monica: Well, it\\'s like that. With feelings.$Rachel: Oh wow. Are you in trouble.$Monica: Big time!$Rachel: Want a wedding dress?   Hardly used.$Monica: I think we are getting a little ahead of selves here. Okay. Okay. I am just going to get up, go to work and not think about him all day. Or else I\\'m just gonna get up and go to work.$Rachel: Oh, look, wish me luck!$Monica: What for?$Rachel: I\\'m gonna go get one of those (Thinks) job things.$(Monica exits.)$[Scene: Iridium, Monica is working as Frannie enters.]$Frannie: Hey, Monica!$Monica: Hey Frannie, welcome back! How was Florida?$Frannie: You had sex, didn\\'t you?$Monica: How do you do that?$Frannie: Oh, I hate you, I\\'m pushing my Aunt Roz through Parrot Jungle and you\\'re having sex!  So? Who?$Monica: You know Paul?$Frannie: Paul the Wine Guy? Oh yeah, I know Paul.$Monica: You mean you know Paul like I know Paul?$Frannie: Are you kidding? I take credit for Paul. Y\\'know before me, there was no snap in his turtle for two years.$[Scene: Central Perk, everyone but Rachel is there.]$Joey: (sitting on the arm of the couch)Of course it was a line!$Monica: Why?! Why? Why, why would anybody do something like that?$Ross: I assume we\\'re looking for an answer more sophisticated than \\'to get you into bed\\'.$Monica: I hate men!  I hate men!$Phoebe: Oh no, don\\'t hate, you don\\'t want to put that out into the universe.$Monica: Is it me? Is it like I have some sort of beacon that only dogs and men with severe emotional problems can hear?$Phoebe: All right, c\\'mere, gimme your feet. (She starts massaging them.)$Monica: I just thought he was nice, y\\'know?$Joey: (bursts out laughing again) I can\\'t believe you didn\\'t know it was a line!$(Monica pushes him off of the sofa as Rachel enters with a shopping bag.)$Rachel: Guess what?$Ross: You got a job?$Rachel: Are you kidding? I\\'m trained for nothing! I was laughed out of twelve interviews today.$Chandler: And yet you\\'re surprisingly upbeat.$Rachel: You would be too if you found John and David boots on sale, fifty percent off!$Chandler: Oh, how well you know me...$Rachel: They\\'re my new \\'I don\\'t need a job, I don\\'t need my parents, I\\'ve got great boots\\' boots!$Monica: How\\'d you pay for them?$Rachel: Uh, credit card.$Monica: And who pays for that?$Rachel: Um... my... father.$[Scene: Monica and Rachel\\'s, everyone is sitting around the kitchen table.   Rachel\\'s credit cards are spread out on the table along with a pair of scissors.]$Rachel: Oh God, come on you guys, is this really necessary?  I mean, I can stop charging anytime I want.$Monica: C\\'mon, you can\\'t live off your parents your whole life.$Rachel: I know that. That\\'s why I was getting married.$Phoebe: Give her a break, it\\'s hard being on your own for the first time.$Rachel: Thank you.$Phoebe: You\\'re welcome. I remember when I first came to this city. I was fourteen. My mom had just killed herself and my step-dad was back in prison, and I got here, and I didn\\'t know anybody. And I ended up living with this albino guy who was, like, cleaning windshields outside port authority, and then he killed himself, and then I found aromatherapy. So believe me, I know exactly how you feel.$(Pause)$Ross: The word you\\'re looking for is \\'Anyway\\'...$Monica: All right, you ready?$Rachel: No.  No, no, I\\'m not ready!  How can I be ready?  \"Hey, Rach!  You ready to jump out the airplane without your parachute?\"  Come on, I can\\'t do this!$Monica: You can, I know you can!$Rachel: I don\\'t think so.$Ross: Come on, you made coffee!   You can do anything! (Chandler slowly tries to hide the now dead plant from that morning when he and Joey poured their coffee into it.)$Ross: C\\'mon, cut. Cut, cut, cut,...$All: Cut, cut, cut, cut, cut, cut, cut... (She cuts one of them and they cheer.)$Rachel: Y\\'know what?  I think we can just leave it at that.  It\\'s kinda like a symbolic gesture...$Monica:  Rachel!  That was a library card!$All: Cut, cut, cut, cut, cut, cut, cut..$Chandler: (as Rachel is cutting up her cards) Y\\'know, if you listen closely, you can hear a thousand retailers scream.$(She finishes cutting them up and they all cheer.)$Monica: Welcome to the real world! It sucks. You\\'re gonna love it!$[Time Lapse, Rachel and Ross are watching a TV channel finishes it\\'s broadcast day by playing the national anthem.]$Monica: Well, that\\'s it (To Ross) You gonna crash on the couch?$Ross: No. No, I gotta go home sometime.$Monica: You be okay?$Ross: Yeah.$Rachel: Hey Mon, look what I just found on the floor. (Monica smiles.) What?$Monica: That\\'s Paul\\'s watch. You just put it back where you found it. Oh boy. Alright. Goodnight, everybody.$Ross and Rachel: Goodnight.$(Monica stomps on Paul\\'s watch and goes into her room.)$Ross: Mmm. (They both reach for the last cookie) Oh, no-$Rachel: Sorry-$Ross: No no no, go-$Rachel: No, you have it, really, I don\\'t want it-$Ross: Split it?$Rachel: Okay.$Ross: Okay. (They split it.) You know you probably didn\\'t know this, but back in high school, I had a, um, major crush on you.$Rachel: I knew.$Ross: You did! Oh.... I always figured you just thought I was Monica\\'s geeky older brother.$Rachel: I did.$Ross: Oh. Listen, do you think- and try not to let my intense vulnerability become any kind of a factor here- but do you think it would be okay if I asked you out? Sometime? Maybe?$Rachel: Yeah, maybe...$Ross: Okay... okay, maybe I will...$Rachel: Goodnight.$Ross: Goodnight.$(Rachel goes into her room and Monica enters the living room as Ross is leaving.)$Monica: See ya.... Waitwait, what\\'s with you?$Ross: I just grabbed a spoon. (Ross exits and Monica has no idea what that means.)'"
            ]
          },
          "metadata": {
            "tags": []
          },
          "execution_count": 16
        }
      ]
    },
    {
      "cell_type": "code",
      "metadata": {
        "id": "098rH1nPZEQf"
      },
      "source": [
        "char2idx = {}\n",
        "for c in training_data:\n",
        "    if c not in char2idx:\n",
        "        char2idx[c] = len(char2idx)\n",
        "        "
      ],
      "execution_count": null,
      "outputs": []
    },
    {
      "cell_type": "code",
      "metadata": {
        "id": "hcKitN7MZUlr",
        "colab": {
          "base_uri": "https://localhost:8080/",
          "height": 1000
        },
        "outputId": "6762ea3c-eed2-4a1d-c647-86bf105bb2dd"
      },
      "source": [
        "char2idx"
      ],
      "execution_count": null,
      "outputs": [
        {
          "output_type": "execute_result",
          "data": {
            "text/plain": [
              "{' ': 7,\n",
              " '!': 17,\n",
              " '\"': 57,\n",
              " '$': 26,\n",
              " \"'\": 12,\n",
              " '(': 40,\n",
              " ')': 41,\n",
              " ',': 29,\n",
              " '-': 42,\n",
              " '.': 33,\n",
              " '0': 56,\n",
              " '2': 64,\n",
              " '3': 55,\n",
              " '6': 61,\n",
              " ':': 6,\n",
              " ';': 63,\n",
              " '?': 37,\n",
              " 'A': 32,\n",
              " 'B': 53,\n",
              " 'C': 28,\n",
              " 'D': 54,\n",
              " 'E': 66,\n",
              " 'F': 51,\n",
              " 'G': 59,\n",
              " 'H': 18,\n",
              " 'I': 23,\n",
              " 'J': 27,\n",
              " 'L': 46,\n",
              " 'M': 0,\n",
              " 'N': 50,\n",
              " 'O': 43,\n",
              " 'P': 38,\n",
              " 'R': 52,\n",
              " 'S': 34,\n",
              " 'T': 8,\n",
              " 'U': 65,\n",
              " 'V': 60,\n",
              " 'W': 39,\n",
              " 'Y': 58,\n",
              " '[': 45,\n",
              " ']': 47,\n",
              " 'a': 5,\n",
              " 'b': 30,\n",
              " 'c': 4,\n",
              " 'd': 31,\n",
              " 'e': 10,\n",
              " 'f': 48,\n",
              " 'g': 15,\n",
              " 'h': 9,\n",
              " 'i': 3,\n",
              " 'j': 19,\n",
              " 'k': 25,\n",
              " 'l': 16,\n",
              " 'm': 21,\n",
              " 'n': 2,\n",
              " 'o': 1,\n",
              " 'p': 36,\n",
              " 'q': 62,\n",
              " 'r': 11,\n",
              " 's': 13,\n",
              " 't': 14,\n",
              " 'u': 20,\n",
              " 'v': 35,\n",
              " 'w': 24,\n",
              " 'x': 44,\n",
              " 'y': 22,\n",
              " 'z': 49}"
            ]
          },
          "metadata": {
            "tags": []
          },
          "execution_count": 18
        }
      ]
    },
    {
      "cell_type": "code",
      "metadata": {
        "id": "T0WIgSrmZVjM"
      },
      "source": [
        "idx2char = {v: k for k, v in char2idx.items()}"
      ],
      "execution_count": null,
      "outputs": []
    },
    {
      "cell_type": "code",
      "metadata": {
        "id": "ZGzKOK0jZdqS"
      },
      "source": [
        "VOCAB_SIZE = len(char2idx)\n",
        "RNN_SIZE = 1024\n",
        "MLP_SIZE = 2048\n",
        "SEQ_LEN = 50"
      ],
      "execution_count": null,
      "outputs": []
    },
    {
      "cell_type": "markdown",
      "metadata": {
        "id": "FXKGvGF4ZrGK"
      },
      "source": [
        "\n",
        "##### Exercise 4.1\n",
        "* What is the amount of outputs needed by the character prediction model?\n",
        "\n",
        "##### Exercise 4.2\n",
        "* What is the proper activation to plug on top of the MLP (if any)? (Note that we use `NLLLoss` later on).\n",
        "\n",
        "##### Exercise 4.3\n",
        "* Finish the definition of the `CharLSTM` model to include a `nn.LSTM` layer, with `batch_first=True`, `vocab_size` inputs and `rnn_size` cells, and an MLP that projects the `rnn_size` to `mlp_size` with one `ReLU` hidden layer and then to the appropriate amount of outputs. Put a `Dropout(0.4)` after the `ReLU`.\n"
      ]
    },
    {
      "cell_type": "code",
      "metadata": {
        "id": "EkLXHOEXZonf"
      },
      "source": [
        "class CharLSTM(nn.Module):\n",
        "\n",
        "    def __init__(self, vocab_size, rnn_size, mlp_size):\n",
        "        super().__init__()\n",
        "        self.rnn_size = rnn_size\n",
        "\n",
        "        # TODO:\n",
        "        self.lstm = nn.LSTM(VOCAB_SIZE, RNN_SIZE, batch_first=True)\n",
        "\n",
        "        self.dout = nn.Dropout(0.4)\n",
        "\n",
        "        # TODOs:\n",
        "        # An MLP with a hidden layer of mlp_size neurons that maps from the RNN \n",
        "        # hidden state space to the output space of vocab_size\n",
        "        self.mlp = nn.Sequential(\n",
        "          nn.Linear(RNN_SIZE, MLP_SIZE), # Linear layer\n",
        "          nn.ReLU(), # Activation function\n",
        "          nn.Dropout(0.4),\n",
        "          nn.Linear(MLP_SIZE, VOCAB_SIZE), # Linear layer\n",
        "          nn.LogSoftmax() # Output layer\n",
        "        )\n",
        "\n",
        "    def forward(self, sentence, state=None):\n",
        "        bsz, slen, vocab = sentence.shape\n",
        "        ht, state = self.lstm(sentence, state)\n",
        "        ht = self.dout(ht)\n",
        "        h = ht.contiguous().view(-1, self.rnn_size)\n",
        "        logprob = self.mlp(h)\n",
        "        return logprob, state"
      ],
      "execution_count": null,
      "outputs": []
    },
    {
      "cell_type": "markdown",
      "metadata": {
        "id": "ShVIlQ7ZaqUB"
      },
      "source": [
        "##### Exercise 4.4\n",
        "\n",
        "What is the length of the sliding window that will run over each of the training sub-sequences? NOTE: it is defined as a hyper-parameter above. How is this related to the backpropagation through time (BPTT)?"
      ]
    },
    {
      "cell_type": "code",
      "metadata": {
        "id": "tSNVvEonaqpz",
        "colab": {
          "base_uri": "https://localhost:8080/",
          "height": 52
        },
        "outputId": "3f189da1-4d9e-41f6-cdd9-d3b0567fe393"
      },
      "source": [
        "BATCH_SIZE = 64\n",
        "T = len(training_data)\n",
        "CHUNK_SIZE = T // BATCH_SIZE\n",
        "# let's first chunk the huge train sequence into BATCH_SIZE sub-sequences\n",
        "trainset = [training_data[beg_i:end_i] \\\n",
        "            for beg_i, end_i in zip(range(0, T - CHUNK_SIZE, CHUNK_SIZE),\n",
        "                                    range(CHUNK_SIZE, T, CHUNK_SIZE))]\n",
        "print('Original training string len: ', T)\n",
        "print('Sub-sequences len: ', CHUNK_SIZE)"
      ],
      "execution_count": null,
      "outputs": [
        {
          "output_type": "stream",
          "text": [
            "Original training string len:  23149\n",
            "Sub-sequences len:  361\n"
          ],
          "name": "stdout"
        }
      ]
    },
    {
      "cell_type": "code",
      "metadata": {
        "id": "gryHh0FHendS"
      },
      "source": [
        "# Let's build an example model and see what the scores are before training\n",
        "model = CharLSTM(VOCAB_SIZE, RNN_SIZE, MLP_SIZE)\n",
        "# This should output crap as it is not trained, so a fixed random tag for everything\n",
        "\n",
        "def gen_text(model, seed, char2idx, num_chars=150):\n",
        "  model.eval()\n",
        "  # Here we don't need to train, so the code is wrapped in torch.no_grad()\n",
        "  with torch.no_grad():\n",
        "      inputs = prepare_sequence(seed, char2idx)\n",
        "      # fill the RNN memory with the seed sentence\n",
        "      seed_pred, state = model(inputs.unsqueeze(0))\n",
        "      # now begin looping with feedback char by char from the last prediction\n",
        "      preds = seed\n",
        "      curr_pred = torch.topk(seed_pred[-1, :], k=1, dim=0)[1]\n",
        "      curr_pred = idx2char[curr_pred.item()]\n",
        "      preds += curr_pred\n",
        "      for t in range(num_chars):\n",
        "        curr_pred, state = model(prepare_sequence(curr_pred, char2idx).unsqueeze(0), state)\n",
        "        curr_pred = torch.topk(curr_pred[-1, :], k=1, dim=0)[1]\n",
        "        curr_pred = idx2char[curr_pred.item()]\n",
        "        if curr_pred == '$':\n",
        "          # special token to add newline char\n",
        "          preds += '\\n'\n",
        "        else:\n",
        "          preds += curr_pred\n",
        "      return preds"
      ],
      "execution_count": null,
      "outputs": []
    },
    {
      "cell_type": "code",
      "metadata": {
        "id": "7tyennPBe0S7",
        "colab": {
          "base_uri": "https://localhost:8080/",
          "height": 89
        },
        "outputId": "0c01679b-2cde-4de9-c6a5-e693c723b20a"
      },
      "source": [
        "gen_text(model, \"Monica\", char2idx)"
      ],
      "execution_count": null,
      "outputs": [
        {
          "output_type": "stream",
          "text": [
            "/usr/local/lib/python3.6/dist-packages/torch/nn/modules/container.py:100: UserWarning: Implicit dimension choice for log_softmax has been deprecated. Change the call to include dim=X as an argument.\n",
            "  input = module(input)\n"
          ],
          "name": "stderr"
        },
        {
          "output_type": "execute_result",
          "data": {
            "text/plain": [
              "'MonicamJJJJJJJJJJJJJJJJJJJJJJJJJJJJJJJJJJJJJJJJJJJJJJJJJJJJJJJJJJJJJJJJJJJJJJJJJJJJJJJJJJJJJJJJJJJJJJJJJJJJJJJJJJJJJJJJJJJJJJJJJJJJJJJJJJJJJJJJJJJJJJJJJJJJJJ'"
            ]
          },
          "metadata": {
            "tags": []
          },
          "execution_count": 24
        }
      ]
    },
    {
      "cell_type": "code",
      "metadata": {
        "id": "CZpnZ0EFe7TC",
        "colab": {
          "base_uri": "https://localhost:8080/",
          "height": 72
        },
        "outputId": "d67e2278-2af3-4c57-ee75-2aeb124c8b29"
      },
      "source": [
        "from timeit import default_timer as timer\n",
        "\n",
        "\n",
        "# Let's now build a model to train with its optimizer and loss\n",
        "model = CharLSTM(VOCAB_SIZE, RNN_SIZE, MLP_SIZE)\n",
        "model.to(device)\n",
        "loss_function = nn.NLLLoss()\n",
        "optimizer = optim.Adam(model.parameters(), lr=0.001)\n",
        "NUM_EPOCHS = 5000\n",
        "tr_loss = []\n",
        "state = None\n",
        "timer_beg = timer()\n",
        "for epoch in range(NUM_EPOCHS):\n",
        "  model.train()\n",
        "  # let's slide over our dataset\n",
        "  for beg_t, end_t in zip(range(0, CHUNK_SIZE - SEQ_LEN - 1, SEQ_LEN + 1),\n",
        "                          range(SEQ_LEN + 1, CHUNK_SIZE, SEQ_LEN + 1)):\n",
        "    # Step 1. Remember that Pytorch accumulates gradients.\n",
        "    # We need to clear them out before each instance\n",
        "    optimizer.zero_grad()\n",
        "\n",
        "    dataX = []\n",
        "    dataY = []\n",
        "    # Step 2. Get our inputs ready for the network, that is, turn them into\n",
        "    # Tensors of one-hot sequences. \n",
        "    for sent in trainset:\n",
        "      # chunk the sentence\n",
        "      chunk = sent[beg_t:end_t]\n",
        "      # get X and Y with a shift of 1\n",
        "      X = chunk[:-1]\n",
        "      Y = chunk[1:]\n",
        "      # convert each sequence to one-hots and labels respectively\n",
        "      X = prepare_sequence(X, char2idx)\n",
        "      Y = prepare_sequence(Y, char2idx, onehot=False)\n",
        "      dataX.append(X.unsqueeze(0)) # create batch-dim\n",
        "      dataY.append(Y.unsqueeze(0)) # create batch-dim\n",
        "    dataX = torch.cat(dataX, dim=0).to(device)\n",
        "    dataY = torch.cat(dataY, dim=0).to(device)\n",
        "\n",
        "    # Step 3. Run our forward pass.\n",
        "    # Forward through model and carry the previous state forward in time (statefulness)\n",
        "    y_, state = model(dataX, state)\n",
        "    # detach the previous state graph to not backprop gradients further than the BPTT span\n",
        "    state = (state[0].detach(), # detach c[t]\n",
        "             state[1].detach()) # detach h[t]\n",
        "\n",
        "    # Step 4. Compute the loss, gradients, and update the parameters by\n",
        "    #  calling optimizer.step()\n",
        "    loss = loss_function(y_, dataY.view(-1))\n",
        "    loss.backward()\n",
        "    optimizer.step()\n",
        "    tr_loss.append(loss.item())\n",
        "  timer_end = timer()  \n",
        "  if (epoch + 1) % 50 == 0:\n",
        "    # Generate a seed sentence to play around\n",
        "    model.to('cpu')\n",
        "    print('-' * 30) \n",
        "    print(gen_text(model, 'They ', char2idx))\n",
        "    print('-' * 30)\n",
        "    model.to(device)\n",
        "    print('Finished epoch {} in {:.1f} s: loss: {:.6f}'.format(epoch + 1, \n",
        "                                                               timer_end - timer_beg,\n",
        "                                                               np.mean(tr_loss[-10:])))\n",
        "  timer_beg = timer()\n",
        "\n",
        "plt.plot(tr_loss)\n",
        "plt.xlabel('Epoch')\n",
        "plt.ylabel('NLLLoss')"
      ],
      "execution_count": null,
      "outputs": [
        {
          "output_type": "stream",
          "text": [
            "/usr/local/lib/python3.6/dist-packages/torch/nn/modules/container.py:100: UserWarning: Implicit dimension choice for log_softmax has been deprecated. Change the call to include dim=X as an argument.\n",
            "  input = module(input)\n"
          ],
          "name": "stderr"
        }
      ]
    },
    {
      "cell_type": "code",
      "metadata": {
        "id": "Wm40f7mOfOY6"
      },
      "source": [
        "gen_text(model, \"Oriol \", char2idx)"
      ],
      "execution_count": null,
      "outputs": []
    },
    {
      "cell_type": "code",
      "metadata": {
        "id": "fMoBhw9_gPkW"
      },
      "source": [
        ""
      ],
      "execution_count": null,
      "outputs": []
    }
  ]
}