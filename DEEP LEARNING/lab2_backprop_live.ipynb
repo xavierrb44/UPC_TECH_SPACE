{
  "nbformat": 4,
  "nbformat_minor": 0,
  "metadata": {
    "colab": {
      "name": "lab2_backprop_live.ipynb",
      "provenance": [],
      "collapsed_sections": []
    },
    "kernelspec": {
      "name": "python3",
      "display_name": "Python 3"
    },
    "accelerator": "GPU"
  },
  "cells": [
    {
      "cell_type": "code",
      "metadata": {
        "id": "3N8sptL_z1Yi"
      },
      "source": [
        ""
      ],
      "execution_count": null,
      "outputs": []
    },
    {
      "cell_type": "markdown",
      "metadata": {
        "id": "gomSkQp1nww-"
      },
      "source": [
        "# Backpropagation"
      ]
    },
    {
      "cell_type": "code",
      "metadata": {
        "id": "CISHWcFnnyGm"
      },
      "source": [
        "import torch\n",
        "import torch.nn as nn\n",
        "import torch.optim as optim\n",
        "\n",
        "import numpy as np\n",
        "import matplotlib.pyplot as plt\n"
      ],
      "execution_count": null,
      "outputs": []
    },
    {
      "cell_type": "code",
      "metadata": {
        "id": "WeeSMVJkoVkc"
      },
      "source": [
        "x = torch.tensor(1.0)\n",
        "\n",
        "y = torch.tensor(2.0)\n"
      ],
      "execution_count": null,
      "outputs": []
    },
    {
      "cell_type": "code",
      "metadata": {
        "id": "8S6veoQ6oh7N"
      },
      "source": [
        "def describe_tensor(tensor):\n",
        "    print(\"Data:\")\n",
        "    print(tensor.data)\n",
        "    print(\"requires_grad:\")\n",
        "    print(tensor.requires_grad)\n",
        "    print(\"grad:\")\n",
        "    print(tensor.grad)\n",
        "    print(\"grad_fn:\")\n",
        "    print(tensor.grad_fn)\n",
        "    print(\"is_leaf\")\n",
        "    print(tensor.is_leaf)\n"
      ],
      "execution_count": null,
      "outputs": []
    },
    {
      "cell_type": "code",
      "metadata": {
        "id": "deTJ0mrvo_CY",
        "colab": {
          "base_uri": "https://localhost:8080/",
          "height": 157
        },
        "outputId": "fb780f5a-fad6-45ed-920b-a30e32d269a1"
      },
      "source": [
        "describe_tensor(x)"
      ],
      "execution_count": null,
      "outputs": [
        {
          "output_type": "stream",
          "text": [
            "Data:\n",
            "tensor(1.)\n",
            "requires_grad:\n",
            "False\n",
            "grad:\n",
            "None\n",
            "is_leaf\n",
            "True\n"
          ],
          "name": "stdout"
        }
      ]
    },
    {
      "cell_type": "code",
      "metadata": {
        "id": "wiuhJCU2pBgC",
        "colab": {
          "base_uri": "https://localhost:8080/",
          "height": 157
        },
        "outputId": "e5d6a857-02ed-484d-8350-42c599f65b73"
      },
      "source": [
        "z = x*y\n",
        "describe_tensor(z)"
      ],
      "execution_count": null,
      "outputs": [
        {
          "output_type": "stream",
          "text": [
            "Data:\n",
            "tensor(2.)\n",
            "requires_grad:\n",
            "False\n",
            "grad:\n",
            "None\n",
            "is_leaf\n",
            "True\n"
          ],
          "name": "stdout"
        }
      ]
    },
    {
      "cell_type": "code",
      "metadata": {
        "id": "ks4MewyGpI9e",
        "colab": {
          "base_uri": "https://localhost:8080/",
          "height": 157
        },
        "outputId": "42f65f18-c5b1-40ae-80be-67fc0308aead"
      },
      "source": [
        "x = torch.tensor(1.0, requires_grad=True)\n",
        "y = torch.tensor(2.0, requires_grad=True)\n",
        "describe_tensor(x)"
      ],
      "execution_count": null,
      "outputs": [
        {
          "output_type": "stream",
          "text": [
            "Data:\n",
            "tensor(1.)\n",
            "requires_grad:\n",
            "True\n",
            "grad:\n",
            "None\n",
            "is_leaf\n",
            "True\n"
          ],
          "name": "stdout"
        }
      ]
    },
    {
      "cell_type": "code",
      "metadata": {
        "id": "IN2i0r9Tpy2_"
      },
      "source": [
        "z = x*y"
      ],
      "execution_count": null,
      "outputs": []
    },
    {
      "cell_type": "code",
      "metadata": {
        "id": "fwJhcIClqDWa",
        "colab": {
          "base_uri": "https://localhost:8080/",
          "height": 349
        },
        "outputId": "ccdcb2bb-6a54-4622-c3da-79f4560a2ed4"
      },
      "source": [
        "z.backward()\n",
        "print(\"x\")\n",
        "describe_tensor(x)\n",
        "print(\"\\ny\")\n",
        "describe_tensor(y)"
      ],
      "execution_count": null,
      "outputs": [
        {
          "output_type": "stream",
          "text": [
            "x\n",
            "Data:\n",
            "tensor(1.)\n",
            "requires_grad:\n",
            "True\n",
            "grad:\n",
            "tensor(2.)\n",
            "is_leaf\n",
            "True\n",
            "\n",
            "y\n",
            "Data:\n",
            "tensor(2.)\n",
            "requires_grad:\n",
            "True\n",
            "grad:\n",
            "tensor(1.)\n",
            "is_leaf\n",
            "True\n"
          ],
          "name": "stdout"
        }
      ]
    },
    {
      "cell_type": "code",
      "metadata": {
        "id": "KRktH9unqM14",
        "colab": {
          "base_uri": "https://localhost:8080/",
          "height": 157
        },
        "outputId": "26b46231-6a67-4dbf-ae7e-13c74452ed30"
      },
      "source": [
        "x = torch.tensor(2.0, requires_grad=True)\n",
        "z = x**2\n",
        "z.backward()\n",
        "describe_tensor(x)"
      ],
      "execution_count": null,
      "outputs": [
        {
          "output_type": "stream",
          "text": [
            "Data:\n",
            "tensor(2.)\n",
            "requires_grad:\n",
            "True\n",
            "grad:\n",
            "tensor(4.)\n",
            "is_leaf\n",
            "True\n"
          ],
          "name": "stdout"
        }
      ]
    },
    {
      "cell_type": "code",
      "metadata": {
        "id": "nsNaYxJxqvZS"
      },
      "source": [
        "learning_rate = 0.1\n",
        "x = x - learning_rate*x.grad"
      ],
      "execution_count": null,
      "outputs": []
    },
    {
      "cell_type": "code",
      "metadata": {
        "id": "MvwHVCterJLS",
        "colab": {
          "base_uri": "https://localhost:8080/",
          "height": 157
        },
        "outputId": "1166eb35-ee57-4e9d-9a83-66dd21b0186d"
      },
      "source": [
        "x = torch.tensor(2.0, requires_grad=True)\n",
        "z = 2*x + x**2 + torch.sigmoid(x)\n",
        "z.backward()\n",
        "describe_tensor(x)"
      ],
      "execution_count": null,
      "outputs": [
        {
          "output_type": "stream",
          "text": [
            "Data:\n",
            "tensor(2.)\n",
            "requires_grad:\n",
            "True\n",
            "grad:\n",
            "tensor(6.1050)\n",
            "is_leaf\n",
            "True\n"
          ],
          "name": "stdout"
        }
      ]
    },
    {
      "cell_type": "code",
      "metadata": {
        "id": "6UPfMMsnrz2q"
      },
      "source": [
        ""
      ],
      "execution_count": null,
      "outputs": []
    },
    {
      "cell_type": "markdown",
      "metadata": {
        "id": "lraSMYK_siUq"
      },
      "source": [
        "## Multidimensional backpropagation"
      ]
    },
    {
      "cell_type": "code",
      "metadata": {
        "id": "CIdYuCv9slWU",
        "colab": {
          "base_uri": "https://localhost:8080/",
          "height": 192
        },
        "outputId": "bcd72685-5373-4f28-a5fb-a91d77abba3d"
      },
      "source": [
        "x = torch.ones(3, requires_grad=True)\n",
        "describe_tensor(x)"
      ],
      "execution_count": null,
      "outputs": [
        {
          "output_type": "stream",
          "text": [
            "Data:\n",
            "tensor([1., 1., 1.])\n",
            "requires_grad:\n",
            "True\n",
            "grad:\n",
            "None\n",
            "grad_fn:\n",
            "None\n",
            "is_leaf\n",
            "True\n"
          ],
          "name": "stdout"
        }
      ]
    },
    {
      "cell_type": "code",
      "metadata": {
        "id": "hFgjZEKssr0M",
        "colab": {
          "base_uri": "https://localhost:8080/",
          "height": 192
        },
        "outputId": "f9094426-f837-4a16-b7e7-595069fd642b"
      },
      "source": [
        "y = 5*x\n",
        "describe_tensor(y)"
      ],
      "execution_count": null,
      "outputs": [
        {
          "output_type": "stream",
          "text": [
            "Data:\n",
            "tensor([5., 5., 5.])\n",
            "requires_grad:\n",
            "True\n",
            "grad:\n",
            "None\n",
            "grad_fn:\n",
            "<MulBackward0 object at 0x7fe8662201d0>\n",
            "is_leaf\n",
            "False\n"
          ],
          "name": "stdout"
        }
      ]
    },
    {
      "cell_type": "code",
      "metadata": {
        "id": "--QdFi8Ssw0M",
        "colab": {
          "base_uri": "https://localhost:8080/",
          "height": 192
        },
        "outputId": "c9a179a0-5e3f-46ff-c0b6-b50ccef5c2b6"
      },
      "source": [
        "z = x * y\n",
        "describe_tensor(z)"
      ],
      "execution_count": null,
      "outputs": [
        {
          "output_type": "stream",
          "text": [
            "Data:\n",
            "tensor([5., 5., 5.])\n",
            "requires_grad:\n",
            "True\n",
            "grad:\n",
            "None\n",
            "grad_fn:\n",
            "<MulBackward0 object at 0x7fe866220080>\n",
            "is_leaf\n",
            "False\n"
          ],
          "name": "stdout"
        }
      ]
    },
    {
      "cell_type": "code",
      "metadata": {
        "id": "VJ14ckL0szSG",
        "colab": {
          "base_uri": "https://localhost:8080/",
          "height": 192
        },
        "outputId": "4a3dc359-7899-4974-ff67-c7ce09a238b1"
      },
      "source": [
        "s = z.sum()\n",
        "describe_tensor(s)"
      ],
      "execution_count": null,
      "outputs": [
        {
          "output_type": "stream",
          "text": [
            "Data:\n",
            "tensor(15.)\n",
            "requires_grad:\n",
            "True\n",
            "grad:\n",
            "None\n",
            "grad_fn:\n",
            "<SumBackward0 object at 0x7fe866274b70>\n",
            "is_leaf\n",
            "False\n"
          ],
          "name": "stdout"
        }
      ]
    },
    {
      "cell_type": "code",
      "metadata": {
        "id": "VwGvGXEgtpOl",
        "colab": {
          "base_uri": "https://localhost:8080/",
          "height": 192
        },
        "outputId": "ca7947a3-7ebf-4c7a-d17c-5dffe3b221d7"
      },
      "source": [
        "s.backward()\n",
        "\n",
        "describe_tensor(x)"
      ],
      "execution_count": null,
      "outputs": [
        {
          "output_type": "stream",
          "text": [
            "Data:\n",
            "tensor([1., 1., 1.])\n",
            "requires_grad:\n",
            "True\n",
            "grad:\n",
            "tensor([10., 10., 10.])\n",
            "grad_fn:\n",
            "None\n",
            "is_leaf\n",
            "True\n"
          ],
          "name": "stdout"
        }
      ]
    },
    {
      "cell_type": "code",
      "metadata": {
        "id": "L2yVAizAunup",
        "colab": {
          "base_uri": "https://localhost:8080/",
          "height": 192
        },
        "outputId": "e5fda729-cafd-4f24-dd82-ab8bf9cea87b"
      },
      "source": [
        "describe_tensor(y)"
      ],
      "execution_count": null,
      "outputs": [
        {
          "output_type": "stream",
          "text": [
            "Data:\n",
            "tensor([5., 5., 5.])\n",
            "requires_grad:\n",
            "True\n",
            "grad:\n",
            "None\n",
            "grad_fn:\n",
            "<MulBackward0 object at 0x7fe85d613fd0>\n",
            "is_leaf\n",
            "False\n"
          ],
          "name": "stdout"
        }
      ]
    },
    {
      "cell_type": "code",
      "metadata": {
        "id": "_vmVEZY3usBd",
        "colab": {
          "base_uri": "https://localhost:8080/",
          "height": 333
        },
        "outputId": "9bbcaee2-e377-44a1-9da1-ab9992913322"
      },
      "source": [
        "s.backward()"
      ],
      "execution_count": null,
      "outputs": [
        {
          "output_type": "error",
          "ename": "RuntimeError",
          "evalue": "ignored",
          "traceback": [
            "\u001b[0;31m---------------------------------------------------------------------------\u001b[0m",
            "\u001b[0;31mRuntimeError\u001b[0m                              Traceback (most recent call last)",
            "\u001b[0;32m<ipython-input-55-12626f95b38d>\u001b[0m in \u001b[0;36m<module>\u001b[0;34m()\u001b[0m\n\u001b[0;32m----> 1\u001b[0;31m \u001b[0ms\u001b[0m\u001b[0;34m.\u001b[0m\u001b[0mbackward\u001b[0m\u001b[0;34m(\u001b[0m\u001b[0;34m)\u001b[0m\u001b[0;34m\u001b[0m\u001b[0;34m\u001b[0m\u001b[0m\n\u001b[0m",
            "\u001b[0;32m/usr/local/lib/python3.6/dist-packages/torch/tensor.py\u001b[0m in \u001b[0;36mbackward\u001b[0;34m(self, gradient, retain_graph, create_graph)\u001b[0m\n\u001b[1;32m    193\u001b[0m                 \u001b[0mproducts\u001b[0m\u001b[0;34m.\u001b[0m \u001b[0mDefaults\u001b[0m \u001b[0mto\u001b[0m\u001b[0;31m \u001b[0m\u001b[0;31m`\u001b[0m\u001b[0;31m`\u001b[0m\u001b[0;32mFalse\u001b[0m\u001b[0;31m`\u001b[0m\u001b[0;31m`\u001b[0m\u001b[0;34m.\u001b[0m\u001b[0;34m\u001b[0m\u001b[0;34m\u001b[0m\u001b[0m\n\u001b[1;32m    194\u001b[0m         \"\"\"\n\u001b[0;32m--> 195\u001b[0;31m         \u001b[0mtorch\u001b[0m\u001b[0;34m.\u001b[0m\u001b[0mautograd\u001b[0m\u001b[0;34m.\u001b[0m\u001b[0mbackward\u001b[0m\u001b[0;34m(\u001b[0m\u001b[0mself\u001b[0m\u001b[0;34m,\u001b[0m \u001b[0mgradient\u001b[0m\u001b[0;34m,\u001b[0m \u001b[0mretain_graph\u001b[0m\u001b[0;34m,\u001b[0m \u001b[0mcreate_graph\u001b[0m\u001b[0;34m)\u001b[0m\u001b[0;34m\u001b[0m\u001b[0;34m\u001b[0m\u001b[0m\n\u001b[0m\u001b[1;32m    196\u001b[0m \u001b[0;34m\u001b[0m\u001b[0m\n\u001b[1;32m    197\u001b[0m     \u001b[0;32mdef\u001b[0m \u001b[0mregister_hook\u001b[0m\u001b[0;34m(\u001b[0m\u001b[0mself\u001b[0m\u001b[0;34m,\u001b[0m \u001b[0mhook\u001b[0m\u001b[0;34m)\u001b[0m\u001b[0;34m:\u001b[0m\u001b[0;34m\u001b[0m\u001b[0;34m\u001b[0m\u001b[0m\n",
            "\u001b[0;32m/usr/local/lib/python3.6/dist-packages/torch/autograd/__init__.py\u001b[0m in \u001b[0;36mbackward\u001b[0;34m(tensors, grad_tensors, retain_graph, create_graph, grad_variables)\u001b[0m\n\u001b[1;32m     97\u001b[0m     Variable._execution_engine.run_backward(\n\u001b[1;32m     98\u001b[0m         \u001b[0mtensors\u001b[0m\u001b[0;34m,\u001b[0m \u001b[0mgrad_tensors\u001b[0m\u001b[0;34m,\u001b[0m \u001b[0mretain_graph\u001b[0m\u001b[0;34m,\u001b[0m \u001b[0mcreate_graph\u001b[0m\u001b[0;34m,\u001b[0m\u001b[0;34m\u001b[0m\u001b[0;34m\u001b[0m\u001b[0m\n\u001b[0;32m---> 99\u001b[0;31m         allow_unreachable=True)  # allow_unreachable flag\n\u001b[0m\u001b[1;32m    100\u001b[0m \u001b[0;34m\u001b[0m\u001b[0m\n\u001b[1;32m    101\u001b[0m \u001b[0;34m\u001b[0m\u001b[0m\n",
            "\u001b[0;31mRuntimeError\u001b[0m: Trying to backward through the graph a second time, but the buffers have already been freed. Specify retain_graph=True when calling backward the first time."
          ]
        }
      ]
    },
    {
      "cell_type": "code",
      "metadata": {
        "id": "nTUslCYQvuXa"
      },
      "source": [
        "x = torch.ones(3, requires_grad=True)\n",
        "y = 3*x\n",
        "z = x*y\n",
        "\n",
        "z.backward(torch.tensor([1., 1., 1.]))"
      ],
      "execution_count": null,
      "outputs": []
    },
    {
      "cell_type": "code",
      "metadata": {
        "id": "6IwpL6tTwNyg",
        "colab": {
          "base_uri": "https://localhost:8080/",
          "height": 192
        },
        "outputId": "16e8cb81-c8c7-436b-f55a-783efaad4919"
      },
      "source": [
        "describe_tensor(x)"
      ],
      "execution_count": null,
      "outputs": [
        {
          "output_type": "stream",
          "text": [
            "Data:\n",
            "tensor([1., 1., 1.])\n",
            "requires_grad:\n",
            "True\n",
            "grad:\n",
            "tensor([6., 6., 6.])\n",
            "grad_fn:\n",
            "None\n",
            "is_leaf\n",
            "True\n"
          ],
          "name": "stdout"
        }
      ]
    },
    {
      "cell_type": "markdown",
      "metadata": {
        "id": "r1JjKv8SwtiZ"
      },
      "source": [
        "### Exercise 2\n",
        "\n",
        "The following code will crash for the aforementioned reason (DCG is gone after a `.backward()`). Make use of the `retain_graph` flag in the `backward` call to solve this until you can backprop twice and the `grad` in x is `[6, 6, 6]`."
      ]
    },
    {
      "cell_type": "code",
      "metadata": {
        "id": "nEEYIJiuwlIw",
        "colab": {
          "base_uri": "https://localhost:8080/",
          "height": 52
        },
        "outputId": "961cfd7a-111d-4078-af53-5c66540acc1c"
      },
      "source": [
        "# Let's try to backward twice\n",
        "x = torch.ones(3, requires_grad=True)\n",
        "y = 3 * torch.ones(3)\n",
        "z = x * y\n",
        "print(\"z: \", z)\n",
        "# TODO: ??? #\n",
        "z.backward(torch.tensor([1., 1., 1.]), retain_graph=True)\n",
        "z.backward(torch.ones(3))\n",
        "x.grad"
      ],
      "execution_count": null,
      "outputs": [
        {
          "output_type": "stream",
          "text": [
            "z:  tensor([3., 3., 3.], grad_fn=<MulBackward0>)\n"
          ],
          "name": "stdout"
        },
        {
          "output_type": "execute_result",
          "data": {
            "text/plain": [
              "tensor([6., 6., 6.])"
            ]
          },
          "metadata": {
            "tags": []
          },
          "execution_count": 67
        }
      ]
    },
    {
      "cell_type": "code",
      "metadata": {
        "id": "sxDyll9uxWtQ"
      },
      "source": [
        "class Dog:\n",
        "\n",
        "    def __init__(self, name):\n",
        "        self.name = name\n",
        "        print(\"I'm a new dog\")\n",
        "\n",
        "    def bark(self):\n",
        "        print(\"woof\")\n",
        "    \n",
        "    def my_name(self):\n",
        "        print(self.name)\n",
        "\n"
      ],
      "execution_count": null,
      "outputs": []
    },
    {
      "cell_type": "code",
      "metadata": {
        "id": "uZz1VC6dz26v",
        "colab": {
          "base_uri": "https://localhost:8080/",
          "height": 87
        },
        "outputId": "475c4fd2-a1ee-44cc-ae77-bde5132dc8b9"
      },
      "source": [
        "dog2 = Dog(\"Dani\")\n",
        "dog2.bark()\n",
        "dog2.my_name()\n",
        "dog2.name"
      ],
      "execution_count": null,
      "outputs": [
        {
          "output_type": "stream",
          "text": [
            "I'm a new dog\n",
            "woof\n",
            "Dani\n"
          ],
          "name": "stdout"
        },
        {
          "output_type": "execute_result",
          "data": {
            "text/plain": [
              "'Dani'"
            ]
          },
          "metadata": {
            "tags": []
          },
          "execution_count": 77
        }
      ]
    },
    {
      "cell_type": "markdown",
      "metadata": {
        "id": "FzE1FTjhynGx"
      },
      "source": [
        "## Training a Neural Network"
      ]
    },
    {
      "cell_type": "code",
      "metadata": {
        "id": "_GDV-MO_ypI-"
      },
      "source": [
        "import torch.nn as nn\n",
        "\n",
        "class MyModel(nn.Module):\n",
        "\n",
        "    def __init__(self):\n",
        "        super().__init__()\n",
        "\n",
        "        self.fc1 = nn.Linear(3, 20)\n",
        "        self.act1 = nn.Tanh()\n",
        "\n",
        "        self.fc2 = nn.Linear(20, 2)\n",
        "\n",
        "    def forward(self, x):\n",
        "        h1 = self.act1(self.fc1(x))\n",
        "        y = self.fc2(h1)\n",
        "\n",
        "        return y\n"
      ],
      "execution_count": null,
      "outputs": []
    },
    {
      "cell_type": "code",
      "metadata": {
        "id": "V-ICkD7cyqc9",
        "colab": {
          "base_uri": "https://localhost:8080/",
          "height": 104
        },
        "outputId": "5f4063a3-f826-40f6-d32d-03e31917aa9e"
      },
      "source": [
        "net = MyModel()\n",
        "print(net)"
      ],
      "execution_count": null,
      "outputs": [
        {
          "output_type": "stream",
          "text": [
            "MyModel(\n",
            "  (fc1): Linear(in_features=3, out_features=20, bias=True)\n",
            "  (act1): Tanh()\n",
            "  (fc2): Linear(in_features=20, out_features=2, bias=True)\n",
            ")\n"
          ],
          "name": "stdout"
        }
      ]
    },
    {
      "cell_type": "code",
      "metadata": {
        "id": "eIXnh34C2yRz",
        "colab": {
          "base_uri": "https://localhost:8080/",
          "height": 227
        },
        "outputId": "9aff3f3c-f844-41be-aab7-65888be906a2"
      },
      "source": [
        "describe_tensor(net.fc1.bias)"
      ],
      "execution_count": null,
      "outputs": [
        {
          "output_type": "stream",
          "text": [
            "Data:\n",
            "tensor([ 0.1758, -0.0324,  0.0216,  0.3915,  0.0179,  0.0656, -0.2121,  0.2723,\n",
            "         0.4928,  0.2831, -0.0258,  0.2161, -0.5363, -0.1524, -0.1623, -0.4607,\n",
            "        -0.1350,  0.5299,  0.0530, -0.4841])\n",
            "requires_grad:\n",
            "True\n",
            "grad:\n",
            "None\n",
            "grad_fn:\n",
            "None\n",
            "is_leaf\n",
            "True\n"
          ],
          "name": "stdout"
        }
      ]
    },
    {
      "cell_type": "code",
      "metadata": {
        "id": "7zX3SMNa3REz",
        "colab": {
          "base_uri": "https://localhost:8080/",
          "height": 34
        },
        "outputId": "1a19c5c4-bf85-4e61-f20d-1a687ad80a59"
      },
      "source": [
        "params = list(net.parameters())\n",
        "print([p.shape for p in params])"
      ],
      "execution_count": null,
      "outputs": [
        {
          "output_type": "stream",
          "text": [
            "[torch.Size([20, 3]), torch.Size([20]), torch.Size([2, 20]), torch.Size([2])]\n"
          ],
          "name": "stdout"
        }
      ]
    },
    {
      "cell_type": "code",
      "metadata": {
        "id": "ApmgORet4Dsk"
      },
      "source": [
        "loss_fn = nn.MSELoss()\n"
      ],
      "execution_count": null,
      "outputs": []
    },
    {
      "cell_type": "code",
      "metadata": {
        "id": "G2MIm0Fa4e2T",
        "colab": {
          "base_uri": "https://localhost:8080/",
          "height": 34
        },
        "outputId": "d7a37456-a30f-4d0f-e656-65481af474bf"
      },
      "source": [
        "loss_fn"
      ],
      "execution_count": null,
      "outputs": [
        {
          "output_type": "execute_result",
          "data": {
            "text/plain": [
              "MSELoss()"
            ]
          },
          "metadata": {
            "tags": []
          },
          "execution_count": 97
        }
      ]
    },
    {
      "cell_type": "markdown",
      "metadata": {
        "id": "0wBSq3UP4rz4"
      },
      "source": [
        "Summary, we have a model (MyModel) and a loss (MSELoss)"
      ]
    },
    {
      "cell_type": "code",
      "metadata": {
        "id": "Y3HO12lK4iSi"
      },
      "source": [
        "net = MyModel()\n",
        "loss_fn = nn.L1Loss()"
      ],
      "execution_count": null,
      "outputs": []
    },
    {
      "cell_type": "code",
      "metadata": {
        "id": "WiCdcM9k4q7w",
        "colab": {
          "base_uri": "https://localhost:8080/",
          "height": 279
        },
        "outputId": "220cba0b-0c3c-47e9-db77-c22d15a3bb15"
      },
      "source": [
        "def train(network, optimizer, loss_fn, num_iters):\n",
        "    target = torch.zeros(10, 2)\n",
        "    losses_history = []\n",
        "    for iter in range(num_iters):\n",
        "        optimizer.zero_grad()\n",
        "        # TODO: sample 10 (minibatch size) random samples of dimension expected by NN \n",
        "        # https://pytorch.org/docs/stable/torch.html#torch.rand ==> Size [10, 3]\n",
        "        x = torch.randn(10, 3)\n",
        "\n",
        "        y = network(x)\n",
        "\n",
        "        loss = loss_fn(y, target)\n",
        "\n",
        "        # TODO:\n",
        "        # 3) Backprop with repsect to the loss function\n",
        "        loss.backward()\n",
        "\n",
        "        optimizer.step()\n",
        "        # p = p - lr*p.grad\n",
        "\n",
        "        losses_history.append(loss.item())\n",
        "    \n",
        "    plt.plot(losses_history)\n",
        "    plt.xlabel(\"Iterations\")\n",
        "    plt.ylabel(\"Loss\")\n",
        "\n",
        "net = MyModel()\n",
        "optimizer = optim.SGD(net.parameters(), lr=0.1)\n",
        "train(net, optimizer, loss_fn, 500)"
      ],
      "execution_count": null,
      "outputs": [
        {
          "output_type": "display_data",
          "data": {
            "image/png": "[encoded data removed]",
            "text/plain": [
              "<Figure size 432x288 with 1 Axes>"
            ]
          },
          "metadata": {
            "tags": [],
            "needs_background": "light"
          }
        }
      ]
    },
    {
      "cell_type": "code",
      "metadata": {
        "id": "RTQpPepu8ANg",
        "colab": {
          "base_uri": "https://localhost:8080/",
          "height": 384
        },
        "outputId": "502fd90d-3890-4a37-ac33-46eb3186e26a"
      },
      "source": [
        "x = torch.randn(10, 3)\n",
        "\n",
        "y = net.fc1.weight\n",
        "\n",
        "print(y)"
      ],
      "execution_count": null,
      "outputs": [
        {
          "output_type": "stream",
          "text": [
            "Parameter containing:\n",
            "tensor([[-0.0760,  0.2295, -0.3385],\n",
            "        [ 0.3650,  0.4007,  0.4052],\n",
            "        [-0.0202,  0.2636, -0.3244],\n",
            "        [-0.2284, -0.0082,  0.4390],\n",
            "        [ 0.2591,  0.2077,  0.2704],\n",
            "        [ 0.1695,  0.2348,  0.1000],\n",
            "        [ 0.1399, -0.1305, -0.3819],\n",
            "        [ 0.1409,  0.2164,  0.1041],\n",
            "        [ 0.2329, -0.1234, -0.0320],\n",
            "        [ 0.4327,  0.2715, -0.0275],\n",
            "        [-0.3167, -0.1328,  0.1659],\n",
            "        [-0.0082,  0.3086, -0.0014],\n",
            "        [-0.3529, -0.5333,  0.3189],\n",
            "        [-0.4326,  0.4045,  0.2498],\n",
            "        [ 0.1571, -0.1585, -0.2469],\n",
            "        [ 0.5168, -0.3158,  0.4184],\n",
            "        [-0.2967, -0.4841,  0.2496],\n",
            "        [ 0.0077, -0.3767,  0.2098],\n",
            "        [-0.2422, -0.4492, -0.0761],\n",
            "        [-0.0058,  0.4274,  0.2682]], requires_grad=True)\n"
          ],
          "name": "stdout"
        }
      ]
    },
    {
      "cell_type": "code",
      "metadata": {
        "id": "AwMk9lSK_P8o",
        "colab": {
          "base_uri": "https://localhost:8080/",
          "height": 192
        },
        "outputId": "2eba3c2d-a03c-4e1c-ae20-29effd3b5de5"
      },
      "source": [
        "net2 = MyModel()\n",
        "y = net2(x)\n",
        "\n",
        "print(y)"
      ],
      "execution_count": null,
      "outputs": [
        {
          "output_type": "stream",
          "text": [
            "tensor([[-0.7917,  0.2188],\n",
            "        [-0.4788, -0.1916],\n",
            "        [ 0.2245, -0.3454],\n",
            "        [-0.2243, -0.4203],\n",
            "        [-0.6604,  0.1307],\n",
            "        [ 0.0691, -0.1470],\n",
            "        [-0.6520,  0.3462],\n",
            "        [-0.2166, -0.0653],\n",
            "        [ 0.0441,  0.0984],\n",
            "        [-0.4271, -0.3642]], grad_fn=<AddmmBackward>)\n"
          ],
          "name": "stdout"
        }
      ]
    },
    {
      "cell_type": "code",
      "metadata": {
        "id": "Bep4jitE_Wx-"
      },
      "source": [
        ""
      ],
      "execution_count": null,
      "outputs": []
    }
  ]
}