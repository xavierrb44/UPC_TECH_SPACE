{
  "nbformat": 4,
  "nbformat_minor": 0,
  "metadata": {
    "colab": {
      "name": "aidl_s2020_lab01_tensors_live.ipynb",
      "provenance": []
    },
    "kernelspec": {
      "name": "python3",
      "display_name": "Python 3"
    },
    "accelerator": "GPU"
  },
  "cells": [
    {
      "cell_type": "code",
      "metadata": {
        "id": "-3FBVGwIXDQ_"
      },
      "source": [
        "import numpy as np\n",
        "import torch\n"
      ],
      "execution_count": null,
      "outputs": []
    },
    {
      "cell_type": "markdown",
      "metadata": {
        "id": "Myz6Qq9uyNFO"
      },
      "source": [
        "## What is a Tensor?\n",
        "\n",
        "\n",
        "A Tensor is the generalization of a vector into k dimensions.\n",
        "\n",
        "![](https://miro.medium.com/max/644/1*SGqhI_WpSaEr17wo8ycUhg.png)\n",
        "Table taken from [1].\n",
        "\n",
        "Because of this, a tensor is any k-dimensional structure, including matrices, vectors and scalars. PyTorch is a deep learning framework (https://pytorch.org) widely used for both research and production. As in any other deep learning framework, its core data structure is the tensor."
      ]
    },
    {
      "cell_type": "code",
      "metadata": {
        "id": "2n80CWIayHB0",
        "colab": {
          "base_uri": "https://localhost:8080/",
          "height": 206
        },
        "outputId": "2fc7b113-e77f-454f-c30c-404544ab0c11"
      },
      "source": [
        "a = torch.empty(5, 7)\n",
        "print(a)\n",
        "print(a.shape)"
      ],
      "execution_count": null,
      "outputs": [
        {
          "output_type": "stream",
          "text": [
            "tensor([[1.3584e-36, 0.0000e+00, 0.0000e+00, 1.4013e-45, 9.1835e-41, 0.0000e+00,\n",
            "         1.4013e-45],\n",
            "        [2.3694e-38, 0.0000e+00, 3.6013e-43, 2.3694e-38, 0.0000e+00, 3.6013e-43,\n",
            "         2.3694e-38],\n",
            "        [0.0000e+00, 3.6013e-43, 9.1835e-41, 0.0000e+00, 3.6013e-43, 2.3694e-38,\n",
            "         0.0000e+00],\n",
            "        [3.6013e-43, 2.3694e-38, 0.0000e+00, 1.4013e-45, 0.0000e+00, 0.0000e+00,\n",
            "         0.0000e+00],\n",
            "        [0.0000e+00, 0.0000e+00, 0.0000e+00, 0.0000e+00, 0.0000e+00, 0.0000e+00,\n",
            "         0.0000e+00]])\n",
            "torch.Size([5, 7])\n"
          ],
          "name": "stdout"
        }
      ]
    },
    {
      "cell_type": "code",
      "metadata": {
        "id": "pTodxXqkyr2N",
        "colab": {
          "base_uri": "https://localhost:8080/",
          "height": 103
        },
        "outputId": "3abc4643-1f25-451f-9488-2fab88cd3dbc"
      },
      "source": [
        "a.fill_(42)"
      ],
      "execution_count": null,
      "outputs": [
        {
          "output_type": "execute_result",
          "data": {
            "text/plain": [
              "tensor([[42., 42., 42., 42., 42., 42., 42.],\n",
              "        [42., 42., 42., 42., 42., 42., 42.],\n",
              "        [42., 42., 42., 42., 42., 42., 42.],\n",
              "        [42., 42., 42., 42., 42., 42., 42.],\n",
              "        [42., 42., 42., 42., 42., 42., 42.]])"
            ]
          },
          "metadata": {
            "tags": []
          },
          "execution_count": 9
        }
      ]
    },
    {
      "cell_type": "code",
      "metadata": {
        "id": "gcvqf8zozMj9",
        "colab": {
          "base_uri": "https://localhost:8080/",
          "height": 103
        },
        "outputId": "1bf9c509-acb2-4a32-8a73-791abed32779"
      },
      "source": [
        "print(a)"
      ],
      "execution_count": null,
      "outputs": [
        {
          "output_type": "stream",
          "text": [
            "tensor([[42., 42., 42., 42., 42., 42., 42.],\n",
            "        [42., 42., 42., 42., 42., 42., 42.],\n",
            "        [42., 42., 42., 42., 42., 42., 42.],\n",
            "        [42., 42., 42., 42., 42., 42., 42.],\n",
            "        [42., 42., 42., 42., 42., 42., 42.]])\n"
          ],
          "name": "stdout"
        }
      ]
    },
    {
      "cell_type": "code",
      "metadata": {
        "id": "iGzfsDcKzUuX",
        "colab": {
          "base_uri": "https://localhost:8080/",
          "height": 103
        },
        "outputId": "fc318f47-ef4d-4ee9-9100-ba63592c326b"
      },
      "source": [
        "a = torch.eye(5, 5)\n",
        "print(a)"
      ],
      "execution_count": null,
      "outputs": [
        {
          "output_type": "stream",
          "text": [
            "tensor([[1., 0., 0., 0., 0.],\n",
            "        [0., 1., 0., 0., 0.],\n",
            "        [0., 0., 1., 0., 0.],\n",
            "        [0., 0., 0., 1., 0.],\n",
            "        [0., 0., 0., 0., 1.]])\n"
          ],
          "name": "stdout"
        }
      ]
    },
    {
      "cell_type": "markdown",
      "metadata": {
        "id": "n9Lkze2bz83I"
      },
      "source": [
        "### Exercise 1\n",
        "\n",
        "Create a tensor *z* drawn from a Gaussian distribution of dimensions (16, 1024)"
      ]
    },
    {
      "cell_type": "code",
      "metadata": {
        "id": "gdAvkb2Qzg6P",
        "colab": {
          "base_uri": "https://localhost:8080/",
          "height": 34
        },
        "outputId": "9dc5c203-9ebd-4271-f062-72075bdf189a"
      },
      "source": [
        "z = torch.randn(16 ,1024)\n",
        "print(z.shape)"
      ],
      "execution_count": null,
      "outputs": [
        {
          "output_type": "stream",
          "text": [
            "torch.Size([16, 1024])\n"
          ],
          "name": "stdout"
        }
      ]
    },
    {
      "cell_type": "code",
      "metadata": {
        "id": "4uoWFM9w0fsw",
        "colab": {
          "base_uri": "https://localhost:8080/",
          "height": 34
        },
        "outputId": "0224966c-8f69-46a8-93f0-a8ff0f7ced88"
      },
      "source": [
        "z.std()"
      ],
      "execution_count": null,
      "outputs": [
        {
          "output_type": "execute_result",
          "data": {
            "text/plain": [
              "tensor(0.9954)"
            ]
          },
          "metadata": {
            "tags": []
          },
          "execution_count": 20
        }
      ]
    },
    {
      "cell_type": "markdown",
      "metadata": {
        "id": "rstVYS7g1JNe"
      },
      "source": [
        "# Data types"
      ]
    },
    {
      "cell_type": "code",
      "metadata": {
        "id": "gRFyW-Gn01Ak",
        "colab": {
          "base_uri": "https://localhost:8080/",
          "height": 34
        },
        "outputId": "0ae9458d-fbc4-4f53-85fd-383b9eb10776"
      },
      "source": [
        "z = z.float()\n",
        "z.dtype"
      ],
      "execution_count": null,
      "outputs": [
        {
          "output_type": "execute_result",
          "data": {
            "text/plain": [
              "torch.float32"
            ]
          },
          "metadata": {
            "tags": []
          },
          "execution_count": 42
        }
      ]
    },
    {
      "cell_type": "code",
      "metadata": {
        "id": "0tkXoKvD1TW0",
        "colab": {
          "base_uri": "https://localhost:8080/",
          "height": 34
        },
        "outputId": "4aab428b-3d91-4f39-b018-f959cd857f4f"
      },
      "source": [
        "a = z.long()\n",
        "a.dtype"
      ],
      "execution_count": null,
      "outputs": [
        {
          "output_type": "execute_result",
          "data": {
            "text/plain": [
              "torch.int64"
            ]
          },
          "metadata": {
            "tags": []
          },
          "execution_count": 43
        }
      ]
    },
    {
      "cell_type": "code",
      "metadata": {
        "id": "T7XEVJZ81q30",
        "colab": {
          "base_uri": "https://localhost:8080/",
          "height": 137
        },
        "outputId": "f28a7773-4437-4c5a-ee66-8dd54fa921cf"
      },
      "source": [
        "z.round()"
      ],
      "execution_count": null,
      "outputs": [
        {
          "output_type": "execute_result",
          "data": {
            "text/plain": [
              "tensor([[ 1., -1.,  1.,  ..., -0., -1., -1.],\n",
              "        [-3.,  1., -1.,  ..., -0.,  1.,  1.],\n",
              "        [ 1., -0., -2.,  ..., -1., -2.,  0.],\n",
              "        ...,\n",
              "        [ 0., -1.,  2.,  ..., -0.,  1.,  0.],\n",
              "        [-0.,  1., -1.,  ...,  0., -1., -0.],\n",
              "        [-0.,  1., -0.,  ...,  1.,  0.,  0.]], dtype=torch.float64)"
            ]
          },
          "metadata": {
            "tags": []
          },
          "execution_count": 38
        }
      ]
    },
    {
      "cell_type": "code",
      "metadata": {
        "id": "bd5eSbYA2g5R",
        "colab": {
          "base_uri": "https://localhost:8080/",
          "height": 164
        },
        "outputId": "8b213359-033c-49e8-8265-8cee8688255b"
      },
      "source": [
        "z.int8()"
      ],
      "execution_count": null,
      "outputs": [
        {
          "output_type": "error",
          "ename": "AttributeError",
          "evalue": "ignored",
          "traceback": [
            "\u001b[0;31m---------------------------------------------------------------------------\u001b[0m",
            "\u001b[0;31mAttributeError\u001b[0m                            Traceback (most recent call last)",
            "\u001b[0;32m<ipython-input-41-797c56876b9f>\u001b[0m in \u001b[0;36m<module>\u001b[0;34m()\u001b[0m\n\u001b[0;32m----> 1\u001b[0;31m \u001b[0mz\u001b[0m\u001b[0;34m.\u001b[0m\u001b[0mint8\u001b[0m\u001b[0;34m(\u001b[0m\u001b[0;34m)\u001b[0m\u001b[0;34m\u001b[0m\u001b[0;34m\u001b[0m\u001b[0m\n\u001b[0m",
            "\u001b[0;31mAttributeError\u001b[0m: 'Tensor' object has no attribute 'int8'"
          ]
        }
      ]
    },
    {
      "cell_type": "code",
      "metadata": {
        "id": "8xpluqk_3OtD",
        "colab": {
          "base_uri": "https://localhost:8080/",
          "height": 514
        },
        "outputId": "7934226a-8531-4954-ef36-842ac9415023"
      },
      "source": [
        "torch.tensor(np.zeros([5, 5, 3]))"
      ],
      "execution_count": null,
      "outputs": [
        {
          "output_type": "execute_result",
          "data": {
            "text/plain": [
              "tensor([[[0., 0., 0.],\n",
              "         [0., 0., 0.],\n",
              "         [0., 0., 0.],\n",
              "         [0., 0., 0.],\n",
              "         [0., 0., 0.]],\n",
              "\n",
              "        [[0., 0., 0.],\n",
              "         [0., 0., 0.],\n",
              "         [0., 0., 0.],\n",
              "         [0., 0., 0.],\n",
              "         [0., 0., 0.]],\n",
              "\n",
              "        [[0., 0., 0.],\n",
              "         [0., 0., 0.],\n",
              "         [0., 0., 0.],\n",
              "         [0., 0., 0.],\n",
              "         [0., 0., 0.]],\n",
              "\n",
              "        [[0., 0., 0.],\n",
              "         [0., 0., 0.],\n",
              "         [0., 0., 0.],\n",
              "         [0., 0., 0.],\n",
              "         [0., 0., 0.]],\n",
              "\n",
              "        [[0., 0., 0.],\n",
              "         [0., 0., 0.],\n",
              "         [0., 0., 0.],\n",
              "         [0., 0., 0.],\n",
              "         [0., 0., 0.]]], dtype=torch.float64)"
            ]
          },
          "metadata": {
            "tags": []
          },
          "execution_count": 50
        }
      ]
    },
    {
      "cell_type": "code",
      "metadata": {
        "id": "vlYWHVNK38Nq",
        "colab": {
          "base_uri": "https://localhost:8080/",
          "height": 68
        },
        "outputId": "590bfdd6-0431-4572-f953-b7a1cd9a8a74"
      },
      "source": [
        "l = [[1, 2], [3, 4]]\n",
        "a = torch.tensor(l)\n",
        "print(a)\n",
        "print(a.shape)"
      ],
      "execution_count": null,
      "outputs": [
        {
          "output_type": "stream",
          "text": [
            "tensor([[1, 2],\n",
            "        [3, 4]])\n",
            "torch.Size([2, 2])\n"
          ],
          "name": "stdout"
        }
      ]
    },
    {
      "cell_type": "code",
      "metadata": {
        "id": "MaY21LLm5DjJ",
        "colab": {
          "base_uri": "https://localhost:8080/",
          "height": 34
        },
        "outputId": "b684521e-2921-45b8-c112-8edc0026213f"
      },
      "source": [
        "x = torch.tensor(np.zeros([5, 5, 3]))\n",
        "print(x.shape)"
      ],
      "execution_count": null,
      "outputs": [
        {
          "output_type": "stream",
          "text": [
            "torch.Size([5, 5, 3])\n"
          ],
          "name": "stdout"
        }
      ]
    },
    {
      "cell_type": "code",
      "metadata": {
        "id": "i5URXOR55kB9",
        "colab": {
          "base_uri": "https://localhost:8080/",
          "height": 514
        },
        "outputId": "67587100-e5e1-4dfe-c222-c7b0ae9187c4"
      },
      "source": [
        "x.numpy()"
      ],
      "execution_count": null,
      "outputs": [
        {
          "output_type": "execute_result",
          "data": {
            "text/plain": [
              "array([[[0., 0., 0.],\n",
              "        [0., 0., 0.],\n",
              "        [0., 0., 0.],\n",
              "        [0., 0., 0.],\n",
              "        [0., 0., 0.]],\n",
              "\n",
              "       [[0., 0., 0.],\n",
              "        [0., 0., 0.],\n",
              "        [0., 0., 0.],\n",
              "        [0., 0., 0.],\n",
              "        [0., 0., 0.]],\n",
              "\n",
              "       [[0., 0., 0.],\n",
              "        [0., 0., 0.],\n",
              "        [0., 0., 0.],\n",
              "        [0., 0., 0.],\n",
              "        [0., 0., 0.]],\n",
              "\n",
              "       [[0., 0., 0.],\n",
              "        [0., 0., 0.],\n",
              "        [0., 0., 0.],\n",
              "        [0., 0., 0.],\n",
              "        [0., 0., 0.]],\n",
              "\n",
              "       [[0., 0., 0.],\n",
              "        [0., 0., 0.],\n",
              "        [0., 0., 0.],\n",
              "        [0., 0., 0.],\n",
              "        [0., 0., 0.]]])"
            ]
          },
          "metadata": {
            "tags": []
          },
          "execution_count": 56
        }
      ]
    },
    {
      "cell_type": "markdown",
      "metadata": {
        "id": "1PQmQSJM5u7A"
      },
      "source": [
        "### Exercise 2\n",
        "\n",
        "Create an **int16** *it* tensor in PyTorch (however you want) from the following numpy array *na*"
      ]
    },
    {
      "cell_type": "code",
      "metadata": {
        "id": "JFrrIv8e5mJa"
      },
      "source": [
        "na = 10 * np.random.rand(8, 8)\n",
        "\n",
        "#TODO: create the short tensor out of 'na'\n",
        "it2 = torch.tensor(na, dtype=torch.int16)\n",
        "it = torch.tensor(na)\n",
        "it = it.short()\n",
        "\n",
        "\n",
        "# Assertion to ensure it is the desired data type\n",
        "assert it.dtype == torch.int16, 'this tensor is not of dtype short? =('"
      ],
      "execution_count": null,
      "outputs": []
    },
    {
      "cell_type": "code",
      "metadata": {
        "id": "v_pirEqL6SJb",
        "colab": {
          "base_uri": "https://localhost:8080/",
          "height": 51
        },
        "outputId": "ed36f553-4a56-4c58-8985-e1d925e47737"
      },
      "source": [
        "a = torch.empty(2, 2)\n",
        "a.fill_(1)\n",
        "print(a)"
      ],
      "execution_count": null,
      "outputs": [
        {
          "output_type": "stream",
          "text": [
            "tensor([[1., 1.],\n",
            "        [1., 1.]])\n"
          ],
          "name": "stdout"
        }
      ]
    },
    {
      "cell_type": "code",
      "metadata": {
        "id": "SHo5nDjf6SL6",
        "colab": {
          "base_uri": "https://localhost:8080/",
          "height": 51
        },
        "outputId": "984a83f9-7657-44c0-bca9-25c95ab90f0f"
      },
      "source": [
        "a = torch.sin((a + 1)**2)\n",
        "a"
      ],
      "execution_count": null,
      "outputs": [
        {
          "output_type": "execute_result",
          "data": {
            "text/plain": [
              "tensor([[-0.5291, -0.5291],\n",
              "        [-0.5291, -0.5291]])"
            ]
          },
          "metadata": {
            "tags": []
          },
          "execution_count": 76
        }
      ]
    },
    {
      "cell_type": "markdown",
      "metadata": {
        "id": "rmBI985v8qB_"
      },
      "source": [
        "![](https://www.researchgate.net/profile/Haroldo_Campos_Velho2/publication/235901708/figure/fig1/AS:669443441049602@1536619162135/Artificial-neuron-Equation-neuron-output.ppm)"
      ]
    },
    {
      "cell_type": "code",
      "metadata": {
        "id": "GcYp8dAr6SOX",
        "colab": {
          "base_uri": "https://localhost:8080/",
          "height": 34
        },
        "outputId": "bc46c97b-6a51-42ff-86ce-db6c982194b9"
      },
      "source": [
        "x = torch.ones(1, 1000)\n",
        "\n",
        "w = 0.01*torch.randn(1000, 1)\n",
        "\n",
        "b = torch.tensor(10)\n",
        "\n",
        "def forward(x, w, b):\n",
        "    h = x.mm(w) + b\n",
        "    y = h.clamp(min=0)\n",
        "    return y\n",
        "\n",
        "print(forward(x, w, b))"
      ],
      "execution_count": null,
      "outputs": [
        {
          "output_type": "stream",
          "text": [
            "tensor([[10.0901]])\n"
          ],
          "name": "stdout"
        }
      ]
    },
    {
      "cell_type": "code",
      "metadata": {
        "id": "KcX7FDc76t3W",
        "colab": {
          "base_uri": "https://localhost:8080/",
          "height": 34
        },
        "outputId": "01e681fa-30f7-412c-e431-e91f69f1cc7f"
      },
      "source": [
        "def forward(x, w, b):\n",
        "    h = x.mm(w) + b\n",
        "    return h.clamp_(min=0)\n",
        "print(forward(x, w, b))"
      ],
      "execution_count": null,
      "outputs": [
        {
          "output_type": "stream",
          "text": [
            "tensor([[10.0901]])\n"
          ],
          "name": "stdout"
        }
      ]
    },
    {
      "cell_type": "markdown",
      "metadata": {
        "id": "w26ianaS-txI"
      },
      "source": [
        "#### Transpositions and beyond"
      ]
    },
    {
      "cell_type": "code",
      "metadata": {
        "id": "P0FwUOJf-f9f",
        "colab": {
          "base_uri": "https://localhost:8080/",
          "height": 68
        },
        "outputId": "f04da6b0-0724-4c09-c429-f09ea4bcb630"
      },
      "source": [
        "a = torch.empty(10, 20, 5)\n",
        "print(a.shape)\n",
        "\n",
        "a = a.transpose(1, 2)\n",
        "\n",
        "print(a.shape)\n",
        "\n",
        "a = a.transpose(0, 2)\n",
        "\n",
        "print(a.shape)"
      ],
      "execution_count": null,
      "outputs": [
        {
          "output_type": "stream",
          "text": [
            "torch.Size([10, 20, 5])\n",
            "torch.Size([10, 5, 20])\n",
            "torch.Size([20, 5, 10])\n"
          ],
          "name": "stdout"
        }
      ]
    },
    {
      "cell_type": "code",
      "metadata": {
        "id": "GIFa-aKa_Aer",
        "colab": {
          "base_uri": "https://localhost:8080/",
          "height": 51
        },
        "outputId": "c7147e15-b0f6-4723-c3b5-20c53f8801d8"
      },
      "source": [
        "b = a.reshape(200, 5)\n",
        "print(b.shape)\n",
        "\n",
        "b = a.reshape(1, 2, 5, 20, 5)\n",
        "\n",
        "print(b.shape)"
      ],
      "execution_count": null,
      "outputs": [
        {
          "output_type": "stream",
          "text": [
            "torch.Size([200, 5])\n",
            "torch.Size([1, 2, 5, 20, 5])\n"
          ],
          "name": "stdout"
        }
      ]
    },
    {
      "cell_type": "code",
      "metadata": {
        "id": "3ET1SP0a_mri"
      },
      "source": [
        "a = torch.empty(5, 20, 5)\n",
        "\n",
        "chunks = torch.chunk(a, 5, dim=1)"
      ],
      "execution_count": null,
      "outputs": []
    },
    {
      "cell_type": "code",
      "metadata": {
        "id": "FTAatsk5ApNS",
        "colab": {
          "base_uri": "https://localhost:8080/",
          "height": 34
        },
        "outputId": "fa211cbd-bd59-4e55-8fb6-724e079f8163"
      },
      "source": [
        "torch.cat(chunks).shape"
      ],
      "execution_count": null,
      "outputs": [
        {
          "output_type": "execute_result",
          "data": {
            "text/plain": [
              "torch.Size([25, 4, 5])"
            ]
          },
          "metadata": {
            "tags": []
          },
          "execution_count": 104
        }
      ]
    },
    {
      "cell_type": "code",
      "metadata": {
        "id": "jIYBu16eBAX1"
      },
      "source": [
        "torch.cat?"
      ],
      "execution_count": null,
      "outputs": []
    },
    {
      "cell_type": "code",
      "metadata": {
        "id": "_JWX6rfJBOz2"
      },
      "source": [
        ""
      ],
      "execution_count": null,
      "outputs": []
    },
    {
      "cell_type": "markdown",
      "metadata": {
        "id": "QYsKIYJDE2Ua"
      },
      "source": [
        "# Neural network from the Backpropagation theory"
      ]
    },
    {
      "cell_type": "code",
      "metadata": {
        "id": "XG3rpJGZE52r",
        "colab": {
          "base_uri": "https://localhost:8080/",
          "height": 86
        },
        "outputId": "e6d38c64-6b68-433f-a02c-c039b9092f03"
      },
      "source": [
        "x = torch.tensor([[-1, 2]], dtype=torch.float32)\n",
        "print(f\"Shape of x: {x.shape}\")\n",
        "\n",
        "w = torch.tensor([[2], [-3]], dtype=torch.float32)\n",
        "print(f\"Shape of w: {w.shape}\")\n",
        "\n",
        "b = torch.tensor(-3, dtype=torch.float32)\n",
        "print(f\"Shape of b: {b.shape}\")\n",
        "\n",
        "def forward(x, w, b):\n",
        "    h = x.mm(w) + b\n",
        "    y = torch.sigmoid(h)\n",
        "    return y\n",
        "\n",
        "print(f\"Output: {forward(x, w, b)}\")"
      ],
      "execution_count": null,
      "outputs": [
        {
          "output_type": "stream",
          "text": [
            "Shape of x: torch.Size([1, 2])\n",
            "Shape of w: torch.Size([2, 1])\n",
            "Shape of b: torch.Size([])\n",
            "Output: tensor([[1.6701e-05]])\n"
          ],
          "name": "stdout"
        }
      ]
    },
    {
      "cell_type": "code",
      "metadata": {
        "id": "mrfqQ_IVFP-I"
      },
      "source": [
        ""
      ],
      "execution_count": null,
      "outputs": []
    }
  ]
}