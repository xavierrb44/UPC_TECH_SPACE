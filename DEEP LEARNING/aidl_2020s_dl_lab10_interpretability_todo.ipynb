{
  "nbformat": 4,
  "nbformat_minor": 0,
  "metadata": {
    "colab": {
      "name": "aidl_2020s_dl_lab10_interpretability_todo.ipynb",
      "provenance": [],
      "collapsed_sections": []
    },
    "kernelspec": {
      "name": "python3",
      "display_name": "Python 3"
    },
    "accelerator": "GPU"
  },
  "cells": [
    {
      "cell_type": "markdown",
      "metadata": {
        "id": "oNpB-BCqU8cC"
      },
      "source": [
        "# Interpretability of a Convolutional Neural Network\n",
        "\n",
        "**Notebook created by [Daniel Fojo](https://www.linkedin.com/in/daniel-fojo/) for the [Postgraduate course in artificial intelligence with deep learning](https://www.talent.upc.edu/ing/estudis/formacio/curs/310400/postgrau-artificial-intelligence-deep-learning/) in [UPC School](https://www.talent.upc.edu/ing/) (2019).**\n",
        "\n",
        "\n",
        "**Based on previous versions by [Amaia Salvador](https://www.linkedin.com/in/amaiasalvador/) ([Persontyle](https://github.com/telecombcn-dl/2017-persontyle) 2017) and [Daniel Fojo](https://www.linkedin.com/in/daniel-fojo/) ([Barcelona Technology School](https://barcelonatechnologyschool.com/) 2019)**\n",
        "\n",
        "**Related [slides](https://github.com/telecombcn-dl/dlai-2019/raw/master/slides/dlai_2019_d07l1_interpretability.pdf) by [Xavier Giro-i-Nieto](https://imatge.upc.edu/web/people/xavier-giro) from [Deep Learning for Artificial Intelligence](https://telecombcn-dl.github.io/dlai-2019/) (UPC TelecomBCN 2019)**\n",
        "\n",
        "**Related video lectures from [Amaia Salvador](https://www.youtube.com/watch?v=YQvTxkPV8LQ&feature=emb_logo) and [Eva Mohedano](https://www.youtube.com/watch?v=SsHohytl1NA&feature=emb_logo) from Deep Learning for Computer Vision ([UPC TelecomBCN 2016](http://imatge-upc.github.io/telecombcn-2016-dlcv/)) and ([UPC TelecomBCN 2018](https://telecombcn-dl.github.io/2018-dlcv/)), respectively.**"
      ]
    },
    {
      "cell_type": "markdown",
      "metadata": {
        "deletable": true,
        "editable": true,
        "id": "pBsfbtZROCs7"
      },
      "source": [
        "## Filters"
      ]
    },
    {
      "cell_type": "markdown",
      "metadata": {
        "collapsed": true,
        "deletable": true,
        "editable": true,
        "id": "z0VqRLD1OCs8"
      },
      "source": [
        "We will first train a simple model on CIFAR10, and then we will try to visualize how it works."
      ]
    },
    {
      "cell_type": "code",
      "metadata": {
        "deletable": true,
        "editable": true,
        "id": "wbuZ-2LNOCs9"
      },
      "source": [
        "import copy\n",
        "import time\n",
        "import itertools\n",
        "\n",
        "import numpy as np\n",
        "import torch\n",
        "import torch.nn as nn\n",
        "import torch.nn.functional as F\n",
        "import torchvision\n",
        "import torchvision.transforms as transforms\n",
        "import torch.optim as optim\n",
        "\n",
        "import matplotlib.pyplot as plt  \n",
        "%matplotlib inline\n",
        "\n",
        "from sklearn.manifold import TSNE\n",
        "from sklearn.decomposition import PCA\n",
        "\n",
        "\n",
        "if not torch.cuda.is_available():\n",
        "    raise Exception(\"You should enable GPU in the runtime menu.\")\n",
        "device = torch.device(\"cuda:0\")"
      ],
      "execution_count": null,
      "outputs": []
    },
    {
      "cell_type": "markdown",
      "metadata": {
        "id": "_QW_TlN3gwai"
      },
      "source": [
        "Load the data."
      ]
    },
    {
      "cell_type": "code",
      "metadata": {
        "id": "NA93AiXdJvYv"
      },
      "source": [
        "transform = transforms.Compose(\n",
        "    [transforms.ToTensor(),\n",
        "     transforms.Normalize((0.5, 0.5, 0.5), (0.5, 0.5, 0.5))])\n",
        "\n",
        "trainset = torchvision.datasets.CIFAR10(root='./data', train=True,\n",
        "                                        download=True, transform=transform)\n",
        "trainloader = torch.utils.data.DataLoader(trainset, batch_size=32,\n",
        "                                          shuffle=True, num_workers=2)\n",
        "\n",
        "testset = torchvision.datasets.CIFAR10(root='./data', train=False,\n",
        "                                       download=True, transform=transform)\n",
        "testloader = torch.utils.data.DataLoader(testset, batch_size=32,\n",
        "                                         shuffle=False, num_workers=2)\n"
      ],
      "execution_count": null,
      "outputs": []
    },
    {
      "cell_type": "markdown",
      "metadata": {
        "id": "M_W6lJSmhFTF"
      },
      "source": [
        "We will now declare the model we will try to visualize.\n",
        "\n",
        "**Exercise 1**: Complete the forward method of the model"
      ]
    },
    {
      "cell_type": "code",
      "metadata": {
        "id": "pa8cqdFGHbb9"
      },
      "source": [
        "class Net(nn.Module):\n",
        "    def __init__(self):\n",
        "        super().__init__()\n",
        "        self.conv_layers = nn.Sequential(\n",
        "            nn.Conv2d(3, 32, 3, padding=1),\n",
        "            nn.ReLU(),\n",
        "            nn.Conv2d(32, 32, 3, padding=1),\n",
        "            nn.ReLU(),\n",
        "            nn.MaxPool2d(2, 2),\n",
        "            nn.Dropout(0.5),\n",
        "            nn.Conv2d(32, 64, 3, padding=1),\n",
        "            nn.ReLU(),\n",
        "            nn.Conv2d(64, 64, 3, padding=1),\n",
        "            nn.ReLU(),\n",
        "            nn.MaxPool2d(2, 2),\n",
        "            nn.Dropout(0.5),\n",
        "        )\n",
        "        self.fc1 = nn.Linear(8 * 8 * 64, 128)\n",
        "        self.activation = nn.ReLU()\n",
        "        self.fc2 = nn.Linear(128, 10)\n",
        "\n",
        "    def forward(self, x):\n",
        "        # ...\n",
        "\n",
        "model = Net()\n",
        "model.to(device)"
      ],
      "execution_count": null,
      "outputs": []
    },
    {
      "cell_type": "markdown",
      "metadata": {
        "id": "auKes7t-hIrX"
      },
      "source": [
        "Declare loss function and optimizer."
      ]
    },
    {
      "cell_type": "code",
      "metadata": {
        "id": "8JZPZU7mJ9Dj"
      },
      "source": [
        "criterion = nn.CrossEntropyLoss()\n",
        "optimizer = optim.Adam(model.parameters(), lr=0.001)"
      ],
      "execution_count": null,
      "outputs": []
    },
    {
      "cell_type": "markdown",
      "metadata": {
        "id": "2XNzxMAehLjP"
      },
      "source": [
        "Train the model."
      ]
    },
    {
      "cell_type": "code",
      "metadata": {
        "deletable": true,
        "editable": true,
        "id": "4L0o1UXVOCtC"
      },
      "source": [
        "t = time.time()\n",
        "model.train()\n",
        "epochs = 5\n",
        "for epoch in range(epochs):  # loop over the dataset multiple times\n",
        "\n",
        "    for i, (inputs, labels) in enumerate(trainloader):\n",
        "        # get the inputs to gpu; data is a list of [inputs, labels]\n",
        "        inputs, labels = inputs.to(device), labels.to(device)\n",
        "\n",
        "        # zero the parameter gradients\n",
        "        optimizer.zero_grad()\n",
        "\n",
        "        # forward + backward + optimize\n",
        "        outputs = model(inputs)\n",
        "        loss = criterion(outputs, labels)\n",
        "        loss.backward()\n",
        "        optimizer.step()\n",
        "\n",
        "        # print statistics\n",
        "        if i % 300 == 299:    # print every 300 mini-batches\n",
        "            print(f\"Epoch {epoch+1}/{epochs} [{i+1}/{len(trainloader)}] loss: {loss.item():.2f}\")\n",
        "\n",
        "print('Finished Training')\n",
        "print(f\"Time: {(time.time() - t):.1f}s\")"
      ],
      "execution_count": null,
      "outputs": []
    },
    {
      "cell_type": "markdown",
      "metadata": {
        "id": "Rf07x9cIhPCi"
      },
      "source": [
        "Disable gradient computation for the rest of the session, we will not need it."
      ]
    },
    {
      "cell_type": "code",
      "metadata": {
        "id": "DZimYa4cQ_eZ"
      },
      "source": [
        "# Disable gradients computation\n",
        "torch.set_grad_enabled(False);"
      ],
      "execution_count": null,
      "outputs": []
    },
    {
      "cell_type": "markdown",
      "metadata": {
        "id": "IOtCqY0ciEk2"
      },
      "source": [
        "Evaluate our model."
      ]
    },
    {
      "cell_type": "code",
      "metadata": {
        "id": "s0SF0_-eNF2t"
      },
      "source": [
        "correct = 0\n",
        "total = 0\n",
        "model.eval()\n",
        "for inputs, labels in testloader:\n",
        "    inputs, labels = inputs.to(device), labels.to(device)\n",
        "    outputs = model(inputs)\n",
        "    _, predicted = torch.max(outputs.data, 1)\n",
        "    total += labels.size(0)\n",
        "    correct += (predicted == labels).sum().item()\n",
        "\n",
        "print(f\"Accuracy of the network on the 10000 test images: {correct / total*100:.1f}%\")"
      ],
      "execution_count": null,
      "outputs": []
    },
    {
      "cell_type": "code",
      "metadata": {
        "deletable": true,
        "editable": true,
        "id": "L04JpniROCtH"
      },
      "source": [
        "# get the weights from the first layer to cpu\n",
        "weights = model.conv_layers[0].weight.cpu().detach() # Detach, since we do not need the gradients\n",
        "weights.shape"
      ],
      "execution_count": null,
      "outputs": []
    },
    {
      "cell_type": "markdown",
      "metadata": {
        "id": "AtrWW296U68j"
      },
      "source": [
        "**Exercise 2:** Is this the shape you expected? What does each number stand for?"
      ]
    },
    {
      "cell_type": "markdown",
      "metadata": {
        "id": "a4dWzRpPWplb"
      },
      "source": [
        "Now we will create a function to display the convolution kernels as if they were image. This can give us insight to know what patterns activate each filter."
      ]
    },
    {
      "cell_type": "code",
      "metadata": {
        "deletable": true,
        "editable": true,
        "id": "MyDNM0c3OCtO"
      },
      "source": [
        "def display_filters(weights):\n",
        "    N = int(np.ceil(np.sqrt(weights.shape[0])))\n",
        "    f, axarr = plt.subplots(N, N)\n",
        "\n",
        "    p = 0\n",
        "    for i in range(N):\n",
        "        for j in range(N):\n",
        "            # empty plot white when out of kernels to display\n",
        "            if p >= weights.shape[0]:\n",
        "                krnl = torch.ones((weights.shape[2], weights.shape[3], 3))\n",
        "            else:\n",
        "                if weights.shape[1] == 1: \n",
        "                    krnl = weights[p, :, :, :].permute(1, 2, 0)\n",
        "                    axarr[i, j].imshow(krnlplt)\n",
        "                else:\n",
        "                    krnl = weights[p,0,:,:]\n",
        "                    axarr[i, j].imshow(krnl, cmap='gray')\n",
        "            axarr[i, j].axis('off')\n",
        "            p += 1\n",
        "    plt.show()\n",
        "\n",
        "display_filters(weights)"
      ],
      "execution_count": null,
      "outputs": []
    },
    {
      "cell_type": "markdown",
      "metadata": {
        "deletable": true,
        "editable": true,
        "id": "nOiig_90OCtR"
      },
      "source": [
        "Do these visualizations help you understand what the model learned? If not, later you can try to visualize the activations when these filters are convolved with the image. For now, let's move on to other visualization methods, but you can come back to this later."
      ]
    },
    {
      "cell_type": "markdown",
      "metadata": {
        "deletable": true,
        "editable": true,
        "id": "ZU8oG0H0OCtS"
      },
      "source": [
        "**Exercise 3:** Visualize filters in the second convolutional layer."
      ]
    },
    {
      "cell_type": "code",
      "metadata": {
        "deletable": true,
        "editable": true,
        "id": "OJWu51RtOCtT"
      },
      "source": [
        "# TODO: write code here"
      ],
      "execution_count": null,
      "outputs": []
    },
    {
      "cell_type": "markdown",
      "metadata": {
        "deletable": true,
        "editable": true,
        "id": "eRuspKvcOCtV"
      },
      "source": [
        "## Activations"
      ]
    },
    {
      "cell_type": "markdown",
      "metadata": {
        "deletable": true,
        "editable": true,
        "id": "EQ1BALOLOCtW"
      },
      "source": [
        "We can also use the model's activations to our data samples to understand what the model learned."
      ]
    },
    {
      "cell_type": "markdown",
      "metadata": {
        "deletable": true,
        "editable": true,
        "id": "Wpg4m27fOCta"
      },
      "source": [
        "We will create a model that we will use as feature extractor. For that, we need to pick the layer that we want to use.\n",
        "\n",
        "**Exercise 4:** Complete the Feature Extractor. It should give the output of the first Linear layer (before the corresponding activation function). *Hint*: You can call the layers of the original model by doing `self.model.conv_layers(...)`."
      ]
    },
    {
      "cell_type": "code",
      "metadata": {
        "deletable": true,
        "editable": true,
        "id": "2EVKw9fDOCta"
      },
      "source": [
        "class Extractor(nn.Module):\n",
        "    def __init__(self, model):\n",
        "        super().__init__()\n",
        "        self.model = model\n",
        "        \n",
        "    def forward(self, x):\n",
        "        ...\n",
        "\n",
        "extractor = Extractor(model).to(device).eval()"
      ],
      "execution_count": null,
      "outputs": []
    },
    {
      "cell_type": "markdown",
      "metadata": {
        "deletable": true,
        "editable": true,
        "id": "5SpRQEAROCtc"
      },
      "source": [
        "Once we have our extractor, we can load the data and forward it through the network to get the activations:"
      ]
    },
    {
      "cell_type": "code",
      "metadata": {
        "deletable": true,
        "editable": true,
        "id": "F0E2bBnkOCte"
      },
      "source": [
        "feats = []\n",
        "for data in testloader:\n",
        "    inputs, _ = data[0].to(device), data[1].to(device)\n",
        "    feats.append(extractor(inputs).cpu().numpy())\n",
        "\n",
        "feats = np.concatenate(feats)\n",
        "feats.shape"
      ],
      "execution_count": null,
      "outputs": []
    },
    {
      "cell_type": "markdown",
      "metadata": {
        "deletable": true,
        "editable": true,
        "id": "IrtfrserOCtf"
      },
      "source": [
        "Once we have extracted activations for all samples in our test set, we will use different visualization tools to understand what the model learned."
      ]
    },
    {
      "cell_type": "markdown",
      "metadata": {
        "deletable": true,
        "editable": true,
        "id": "fzuY701lOCtg"
      },
      "source": [
        "### Finding per unit top K samples"
      ]
    },
    {
      "cell_type": "markdown",
      "metadata": {
        "deletable": true,
        "editable": true,
        "id": "fdl0LUp9OCtg"
      },
      "source": [
        "Let's now find the K images with highest activation for each neuron in the layer, using the original extracted activations:"
      ]
    },
    {
      "cell_type": "code",
      "metadata": {
        "deletable": true,
        "editable": true,
        "id": "_QeffN_lOCth"
      },
      "source": [
        "testimages = torchvision.datasets.CIFAR10(root='./data', train=False, download=True, transform=None)\n",
        "\n",
        "K = 10\n",
        "idxs_top10 = np.argsort(feats, axis=0)[::-1][0:K, :]\n",
        "picked_samples = np.zeros((K, 128, 32, 32, 3), dtype=float)\n",
        "for i in range(idxs_top10.shape[0]):\n",
        "    for j in range(idxs_top10.shape[1]):\n",
        "        picked_samples[i, j, :, :, :] = np.asarray(testimages[idxs_top10[i, j]][0])/255\n",
        "picked_samples.shape\n",
        "# (n_images,n_units,nb_rows,nb_cols,nb_channels)"
      ],
      "execution_count": null,
      "outputs": []
    },
    {
      "cell_type": "markdown",
      "metadata": {
        "deletable": true,
        "editable": true,
        "id": "S2CQfk0xOCtj"
      },
      "source": [
        "```picked_samples``` now contains the 10 images with highest activation for each neuron. Let's visualize these images for some neurons:"
      ]
    },
    {
      "cell_type": "markdown",
      "metadata": {
        "deletable": true,
        "editable": true,
        "id": "XcD-dvkEOCtj"
      },
      "source": [
        "**Exercise 5:** Try different units to display their top K images. Do all units respond to distinguishable concepts? Are there units that respond to similar things?"
      ]
    },
    {
      "cell_type": "code",
      "metadata": {
        "id": "lEv_BE5gWv1d"
      },
      "source": [
        "units = [2, 4, 14, 23, 29, 17]"
      ],
      "execution_count": null,
      "outputs": []
    },
    {
      "cell_type": "code",
      "metadata": {
        "deletable": true,
        "editable": true,
        "id": "bZgyRjd_OCtl"
      },
      "source": [
        "nunits = len(units)\n",
        "ims = picked_samples[:, units, :, :].squeeze()\n",
        "\n",
        "def vis_topk(ims,units):\n",
        "    f, axarr = plt.subplots(ims.shape[0],ims.shape[1],figsize=(10,10))\n",
        "    \n",
        "    for i in range(ims.shape[0]):\n",
        "        for j in range(ims.shape[1]):\n",
        "\n",
        "            axarr[i,j].imshow(ims[i,j,:,:,:])\n",
        "            axarr[i,j].axis('off')\n",
        "            axarr[0,j].set_title('unit '+ str(units[j]))\n",
        "            \n",
        "vis_topk(ims, units)\n",
        "ims.shape\n",
        "#(n_ims,n_units_picked,nb_rows,nb_cols,nb_channels)"
      ],
      "execution_count": null,
      "outputs": []
    },
    {
      "cell_type": "markdown",
      "metadata": {
        "deletable": true,
        "editable": true,
        "id": "mjLwlxRDOCtn"
      },
      "source": [
        "Did you find any units with semantic meaning? You can try for different units and see what images they like the most."
      ]
    },
    {
      "cell_type": "markdown",
      "metadata": {
        "deletable": true,
        "editable": true,
        "id": "HXqR-aIjOCtn"
      },
      "source": [
        "### Occlusion experiment"
      ]
    },
    {
      "cell_type": "markdown",
      "metadata": {
        "deletable": true,
        "editable": true,
        "id": "m7Rvv_KQOCtn"
      },
      "source": [
        "Now, can we find what image parts contribute to the activation the most? Let's create a NxN occluder and slide it through each image with a stride of 2, and feed each occluded image through the network. Then, we can obtain the difference between the activations between the original image and the occluded ones, and create a difference map that we can use as a mask on top of the image. "
      ]
    },
    {
      "cell_type": "code",
      "metadata": {
        "deletable": true,
        "editable": true,
        "id": "K8bFGSjbOCto"
      },
      "source": [
        "def occ_images(ims, occ=(11, 11), stride=4):\n",
        "    \n",
        "    # Reshape to put top images for all units stacked together\n",
        "    ims = np.rollaxis(ims, 1, 0)\n",
        "    ims = np.reshape(ims, (ims.shape[0]*ims.shape[1], ims.shape[2], ims.shape[3], ims.shape[4]))\n",
        "    ims_acc = ims\n",
        "    \n",
        "    # slide \n",
        "    npos = 1\n",
        "    st = int(np.floor(occ[0]/2))\n",
        "    \n",
        "    # slide occluder, set pixels to 0 and stack to matrix\n",
        "    for i in range(st, ims.shape[1], stride):\n",
        "        for j in range(st, ims.shape[2], stride):\n",
        "            ims_occ = copy.deepcopy(ims)\n",
        "            ims_occ[:, i-st:i+occ[0]-st, j-st:j+occ[1]-st, :] = 0\n",
        "            ims_acc = np.vstack((ims_acc, ims_occ))\n",
        "            npos += 1\n",
        "            \n",
        "    return ims_acc\n",
        "\n",
        "ims_acc = occ_images(ims)\n",
        "print(ims_acc.shape)"
      ],
      "execution_count": null,
      "outputs": []
    },
    {
      "cell_type": "markdown",
      "metadata": {
        "deletable": true,
        "editable": true,
        "id": "feAZWiU6OCtp"
      },
      "source": [
        "Let's visualize some of the images with the occluded region in different positions:"
      ]
    },
    {
      "cell_type": "code",
      "metadata": {
        "deletable": true,
        "editable": true,
        "id": "217dgpnvOCtq"
      },
      "source": [
        "f, axarr = plt.subplots(10, 10, figsize=(10, 10))\n",
        "ims_acc_r = ims_acc.reshape(ims_acc.shape[0]//(ims.shape[0]*ims.shape[1]),\n",
        "                                ims.shape[1], ims.shape[0],\n",
        "                                ims_acc.shape[1], ims_acc.shape[2], ims_acc.shape[3])\n",
        "for i in range(10):\n",
        "    for j in range(10):\n",
        "        axarr[i,j].imshow(ims_acc_r[i,0,j,:,:,:])\n",
        "        axarr[i,j].axis('off')\n",
        "plt.show()"
      ],
      "execution_count": null,
      "outputs": []
    },
    {
      "cell_type": "markdown",
      "metadata": {
        "deletable": true,
        "editable": true,
        "id": "78O7Buq7OCtr"
      },
      "source": [
        "We should pick an occluder that is large enough to cover significant parts of objects. 11x11 is the default one, but you can experiment with other sizes and see their effect."
      ]
    },
    {
      "cell_type": "markdown",
      "metadata": {
        "deletable": true,
        "editable": true,
        "id": "Ey_G8l56OCtr"
      },
      "source": [
        "```ims_occ``` contains all images with the occluder set at different positions. Let's run these through our extractor:"
      ]
    },
    {
      "cell_type": "code",
      "metadata": {
        "deletable": true,
        "editable": true,
        "id": "1GoGm66eOCts"
      },
      "source": [
        "ims_acc_tensor = torch.tensor(ims_acc, dtype=torch.float).permute(0, 3, 1, 2).to(device)\n",
        "ims_acc_tensor = (ims_acc_tensor-0.5)/0.5  # Normalize\n",
        "output = extractor(ims_acc_tensor)\n",
        "feats_occ = output.cpu().numpy()\n",
        "feats_occ.shape"
      ],
      "execution_count": null,
      "outputs": []
    },
    {
      "cell_type": "markdown",
      "metadata": {
        "deletable": true,
        "editable": true,
        "id": "r4yB4yq8OCtt"
      },
      "source": [
        "Now that we have the features, we can compute the difference between the original activation and the activation for each of the occluded images:"
      ]
    },
    {
      "cell_type": "code",
      "metadata": {
        "deletable": true,
        "editable": true,
        "id": "G5LvThK_OCtu"
      },
      "source": [
        "feats_r = np.reshape(feats_occ,(feats_occ.shape[0] // (ims.shape[0] * ims.shape[1]),\n",
        "                                ims.shape[1], ims.shape[0], feats_occ.shape[1]))\n",
        "\n",
        "distances = feats_r[0] - feats_r[1:] # original activation minus all the occluded ones\n",
        "distances = np.rollaxis(distances, 0, 4)"
      ],
      "execution_count": null,
      "outputs": []
    },
    {
      "cell_type": "markdown",
      "metadata": {
        "deletable": true,
        "editable": true,
        "id": "Es1fCNVJOCtu"
      },
      "source": [
        "Reshaping the distance array into a 2D map will give a mask that we can display on top of the images:"
      ]
    },
    {
      "cell_type": "code",
      "metadata": {
        "deletable": true,
        "editable": true,
        "id": "wFv50NiWOCtv"
      },
      "source": [
        "s = int(np.sqrt(distances.shape[3]))\n",
        "\n",
        "heatmaps = np.zeros((distances.shape[0],distances.shape[1],distances.shape[3]))\n",
        "for i in range(len(units)):    \n",
        "    heatmaps[i] = distances[i,:,units[i],:]\n",
        "heatmaps.shape"
      ],
      "execution_count": null,
      "outputs": []
    },
    {
      "cell_type": "markdown",
      "metadata": {
        "deletable": true,
        "editable": true,
        "id": "uTfU0CfoOCtw"
      },
      "source": [
        "Let's write a function to display the masks on top of the images:"
      ]
    },
    {
      "cell_type": "code",
      "metadata": {
        "deletable": true,
        "editable": true,
        "id": "9YaOuiEeOCtw"
      },
      "source": [
        "def vis_occ(ims,heatmaps,units,th=0.5,sig=2):\n",
        "    \n",
        "    from scipy.ndimage.interpolation import zoom\n",
        "    from scipy.ndimage.filters import gaussian_filter\n",
        "    import copy\n",
        "    \n",
        "    ims = np.rollaxis(ims,1,0)\n",
        "    \n",
        "    s = int(np.sqrt(heatmaps.shape[2]))\n",
        "    heatmaps = np.reshape(heatmaps,(heatmaps.shape[0],heatmaps.shape[1],s,s))\n",
        "    \n",
        "    f, axarr = plt.subplots(ims.shape[1],ims.shape[0],figsize=(10,10))\n",
        "    \n",
        "    for i in range(ims.shape[0]):\n",
        "        for j in range(ims.shape[1]):\n",
        "            \n",
        "            im = copy.deepcopy(ims[i,j,:,:,:])\n",
        "            mask = copy.deepcopy(heatmaps[i,j,:,:])\n",
        "            if not mask.max() == mask.min():\n",
        "                # Normalize mask\n",
        "                mask = (mask - np.min(mask))/(np.max(mask)-np.min(mask))\n",
        "                # Resize to image size\n",
        "                mask = zoom(mask,float(im.shape[0])/heatmaps.shape[-1],order=1)\n",
        "                # Apply gaussian to smooth output\n",
        "                mask = gaussian_filter(mask,sigma=sig)\n",
        "                # threshold to obtain mask out of heatmap\n",
        "                mask[mask>=th] = 1\n",
        "                mask[mask<th] = 0.3\n",
        "            else:\n",
        "                # No heatmap\n",
        "                mask = zoom(mask,float(im.shape[0])/heatmaps.shape[-1],order=1)\n",
        "                mask = np.ones_like(mask)*0.3\n",
        "            \n",
        "            # Mask all image channels\n",
        "            for c in range(3):\n",
        "                im[:,:,c] = im[:,:,c]*mask\n",
        "                \n",
        "            axarr[j,i].imshow(im)\n",
        "            axarr[j,i].axis('off')\n",
        "            axarr[0,i].set_title('unit '+ str(units[i]))\n",
        "            \n",
        "vis_occ(ims,heatmaps,units,th=0.5)"
      ],
      "execution_count": null,
      "outputs": []
    },
    {
      "cell_type": "markdown",
      "metadata": {
        "deletable": true,
        "editable": true,
        "id": "snbVm8uJOCty"
      },
      "source": [
        "**Exercise 6**: The obtained masks are of course not perfect, but we get to see what parts of the image are most relevant for each unit in the layer. Are these masks what you expected? Do the picked neurons maximally respond to what you have previously guessed? If you see some fully greyed out images, do they correspond to neurons without semantical meaning?"
      ]
    },
    {
      "cell_type": "markdown",
      "metadata": {
        "deletable": true,
        "editable": true,
        "id": "LHiA6x3tOCty"
      },
      "source": [
        "### Additional: t-SNE"
      ]
    },
    {
      "cell_type": "markdown",
      "metadata": {
        "deletable": true,
        "editable": true,
        "id": "PqJSrkOsOCty"
      },
      "source": [
        "Here we will display our learned features in a 2D space using t-SNE. To do this, we will use the provided function in [scikit-learn](http://scikit-learn.org/stable/modules/generated/sklearn.manifold.TSNE.html). We will also reduce the dimensionality with PCA before running t-SNE to make it faster."
      ]
    },
    {
      "cell_type": "code",
      "metadata": {
        "deletable": true,
        "editable": true,
        "id": "bEQdTfCqOCty"
      },
      "source": [
        "t = time.time()\n",
        "# Reduce dimensionality with PCA before TSNE\n",
        "n = 20\n",
        "pca = PCA(n_components=n)\n",
        "feats_nd = pca.fit_transform(feats)\n",
        "\n",
        "# should do more iterations, but let's do the minimum due to time constraints\n",
        "n_iter = 800\n",
        "tsne = TSNE(n_components=2, random_state=0, n_iter=n_iter)\n",
        "feats_2d = tsne.fit_transform(feats_nd)\n",
        "\n",
        "print(f\"Time: {(time.time() - t):.1f}s\")\n",
        "feats_2d.shape"
      ],
      "execution_count": null,
      "outputs": []
    },
    {
      "cell_type": "markdown",
      "metadata": {
        "deletable": true,
        "editable": true,
        "id": "3K13s3MPOCt2"
      },
      "source": [
        "Once we have our 2D features, we can display them with their class labels, to see if the learned features are discriminative enough."
      ]
    },
    {
      "cell_type": "code",
      "metadata": {
        "deletable": true,
        "editable": true,
        "id": "kJOvuiypOCt2"
      },
      "source": [
        "cifar_labels = ['airplane','automobile','bird','cat','deer','dog','frog','horse','ship','truck']\n",
        "# 0: airplane\n",
        "# 1: automobile\n",
        "# 2: bird\n",
        "# 3: cat\n",
        "# 4: deer\n",
        "# 5: dog\n",
        "# 6: frog\n",
        "# 7: horse\n",
        "# 8: ship\n",
        "# 9: truck\n",
        "labels = [y for _, y in testimages]\n",
        "s = 20 # area of samples. increase if you don't see cclear colors\n",
        "plt.scatter(feats_2d[:,0], feats_2d[:,1], c=labels, cmap=plt.cm.get_cmap(\"jet\", 10), s=20) # 10 because of the number of classes\n",
        "plt.clim(-0.5, 9.5)\n",
        "cbar = plt.colorbar(ticks=range(10))\n",
        "cbar.ax.set_yticklabels(cifar_labels);"
      ],
      "execution_count": null,
      "outputs": []
    },
    {
      "cell_type": "markdown",
      "metadata": {
        "deletable": true,
        "editable": true,
        "id": "YpFxGI70OCt3"
      },
      "source": [
        "**Exercise 7:** What categories seem to be easier for our model? Which ones are confusing?"
      ]
    },
    {
      "cell_type": "code",
      "metadata": {
        "id": "ait-0LIJnjBi"
      },
      "source": [
        ""
      ],
      "execution_count": null,
      "outputs": []
    }
  ]
}